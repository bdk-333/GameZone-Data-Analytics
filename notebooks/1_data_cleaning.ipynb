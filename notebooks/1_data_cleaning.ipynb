{
 "cells": [
  {
   "cell_type": "code",
   "execution_count": 3,
   "id": "7bf974fd",
   "metadata": {},
   "outputs": [],
   "source": [
    "import pandas as pd \n",
    "import numpy as np \n",
    "import matplotlib as plt \n",
    "%matplotlib inline \n",
    "import seaborn as sns "
   ]
  },
  {
   "cell_type": "code",
   "execution_count": 5,
   "id": "c512762e",
   "metadata": {},
   "outputs": [
    {
     "data": {
      "application/vnd.microsoft.datawrangler.viewer.v0+json": {
       "columns": [
        {
         "name": "index",
         "rawType": "int64",
         "type": "integer"
        },
        {
         "name": "USER_ID",
         "rawType": "object",
         "type": "string"
        },
        {
         "name": "ORDER_ID",
         "rawType": "object",
         "type": "string"
        },
        {
         "name": "PURCHASE_TS",
         "rawType": "object",
         "type": "unknown"
        },
        {
         "name": "SHIP_TS",
         "rawType": "datetime64[ns]",
         "type": "datetime"
        },
        {
         "name": "PRODUCT_NAME",
         "rawType": "object",
         "type": "string"
        },
        {
         "name": "PRODUCT_ID",
         "rawType": "object",
         "type": "string"
        },
        {
         "name": "USD_PRICE",
         "rawType": "float64",
         "type": "float"
        },
        {
         "name": "PURCHASE_PLATFORM",
         "rawType": "object",
         "type": "string"
        },
        {
         "name": "MARKETING_CHANNEL",
         "rawType": "object",
         "type": "string"
        },
        {
         "name": "ACCOUNT_CREATION_METHOD",
         "rawType": "object",
         "type": "string"
        },
        {
         "name": "COUNTRY_CODE",
         "rawType": "object",
         "type": "string"
        }
       ],
       "ref": "d2303e20-4e26-488d-b27a-1a586f3c8801",
       "rows": [
        [
         "0",
         "2c06175e",
         "0001328c3c220830",
         "2020-12-24 00:00:00",
         "2020-12-13 00:00:00",
         "Nintendo Switch",
         "e682",
         "168.0",
         "website",
         "affiliate",
         "unknown",
         "US"
        ],
        [
         "1",
         "ee8e5bc2",
         "0002af7a5c6100772",
         "2020-10-01 00:00:00",
         "2020-09-21 00:00:00",
         "Nintendo Switch",
         "e682",
         "160.61",
         "website",
         "direct",
         "desktop",
         "DE"
        ],
        [
         "2",
         "9eb4efe0",
         "0002b8350e167074",
         "2020-04-21 00:00:00",
         "2020-02-16 00:00:00",
         "Nintendo Switch",
         "8d0d",
         "151.2",
         "website",
         "direct",
         "desktop",
         "US"
        ],
        [
         "3",
         "cac7cbaf",
         "0006d06b98385729",
         "2020-04-07 00:00:00",
         "2020-04-04 00:00:00",
         "Sony PlayStation 5 Bundle",
         "54ed",
         "1132.82",
         "website",
         "direct",
         "desktop",
         "AU"
        ],
        [
         "4",
         "6b0230bc",
         "00097279a2f46150",
         "2020-11-24 00:00:00",
         "2020-08-02 00:00:00",
         "Nintendo Switch",
         "8d0d",
         "33.89",
         "website",
         "direct",
         "desktop",
         "TR"
        ]
       ],
       "shape": {
        "columns": 11,
        "rows": 5
       }
      },
      "text/html": [
       "<div>\n",
       "<style scoped>\n",
       "    .dataframe tbody tr th:only-of-type {\n",
       "        vertical-align: middle;\n",
       "    }\n",
       "\n",
       "    .dataframe tbody tr th {\n",
       "        vertical-align: top;\n",
       "    }\n",
       "\n",
       "    .dataframe thead th {\n",
       "        text-align: right;\n",
       "    }\n",
       "</style>\n",
       "<table border=\"1\" class=\"dataframe\">\n",
       "  <thead>\n",
       "    <tr style=\"text-align: right;\">\n",
       "      <th></th>\n",
       "      <th>USER_ID</th>\n",
       "      <th>ORDER_ID</th>\n",
       "      <th>PURCHASE_TS</th>\n",
       "      <th>SHIP_TS</th>\n",
       "      <th>PRODUCT_NAME</th>\n",
       "      <th>PRODUCT_ID</th>\n",
       "      <th>USD_PRICE</th>\n",
       "      <th>PURCHASE_PLATFORM</th>\n",
       "      <th>MARKETING_CHANNEL</th>\n",
       "      <th>ACCOUNT_CREATION_METHOD</th>\n",
       "      <th>COUNTRY_CODE</th>\n",
       "    </tr>\n",
       "  </thead>\n",
       "  <tbody>\n",
       "    <tr>\n",
       "      <th>0</th>\n",
       "      <td>2c06175e</td>\n",
       "      <td>0001328c3c220830</td>\n",
       "      <td>2020-12-24 00:00:00</td>\n",
       "      <td>2020-12-13</td>\n",
       "      <td>Nintendo Switch</td>\n",
       "      <td>e682</td>\n",
       "      <td>168.00</td>\n",
       "      <td>website</td>\n",
       "      <td>affiliate</td>\n",
       "      <td>unknown</td>\n",
       "      <td>US</td>\n",
       "    </tr>\n",
       "    <tr>\n",
       "      <th>1</th>\n",
       "      <td>ee8e5bc2</td>\n",
       "      <td>0002af7a5c6100772</td>\n",
       "      <td>2020-10-01 00:00:00</td>\n",
       "      <td>2020-09-21</td>\n",
       "      <td>Nintendo Switch</td>\n",
       "      <td>e682</td>\n",
       "      <td>160.61</td>\n",
       "      <td>website</td>\n",
       "      <td>direct</td>\n",
       "      <td>desktop</td>\n",
       "      <td>DE</td>\n",
       "    </tr>\n",
       "    <tr>\n",
       "      <th>2</th>\n",
       "      <td>9eb4efe0</td>\n",
       "      <td>0002b8350e167074</td>\n",
       "      <td>2020-04-21 00:00:00</td>\n",
       "      <td>2020-02-16</td>\n",
       "      <td>Nintendo Switch</td>\n",
       "      <td>8d0d</td>\n",
       "      <td>151.20</td>\n",
       "      <td>website</td>\n",
       "      <td>direct</td>\n",
       "      <td>desktop</td>\n",
       "      <td>US</td>\n",
       "    </tr>\n",
       "    <tr>\n",
       "      <th>3</th>\n",
       "      <td>cac7cbaf</td>\n",
       "      <td>0006d06b98385729</td>\n",
       "      <td>2020-04-07 00:00:00</td>\n",
       "      <td>2020-04-04</td>\n",
       "      <td>Sony PlayStation 5 Bundle</td>\n",
       "      <td>54ed</td>\n",
       "      <td>1132.82</td>\n",
       "      <td>website</td>\n",
       "      <td>direct</td>\n",
       "      <td>desktop</td>\n",
       "      <td>AU</td>\n",
       "    </tr>\n",
       "    <tr>\n",
       "      <th>4</th>\n",
       "      <td>6b0230bc</td>\n",
       "      <td>00097279a2f46150</td>\n",
       "      <td>2020-11-24 00:00:00</td>\n",
       "      <td>2020-08-02</td>\n",
       "      <td>Nintendo Switch</td>\n",
       "      <td>8d0d</td>\n",
       "      <td>33.89</td>\n",
       "      <td>website</td>\n",
       "      <td>direct</td>\n",
       "      <td>desktop</td>\n",
       "      <td>TR</td>\n",
       "    </tr>\n",
       "  </tbody>\n",
       "</table>\n",
       "</div>"
      ],
      "text/plain": [
       "    USER_ID           ORDER_ID          PURCHASE_TS    SHIP_TS  \\\n",
       "0  2c06175e   0001328c3c220830  2020-12-24 00:00:00 2020-12-13   \n",
       "1  ee8e5bc2  0002af7a5c6100772  2020-10-01 00:00:00 2020-09-21   \n",
       "2  9eb4efe0   0002b8350e167074  2020-04-21 00:00:00 2020-02-16   \n",
       "3  cac7cbaf   0006d06b98385729  2020-04-07 00:00:00 2020-04-04   \n",
       "4  6b0230bc   00097279a2f46150  2020-11-24 00:00:00 2020-08-02   \n",
       "\n",
       "                PRODUCT_NAME PRODUCT_ID  USD_PRICE PURCHASE_PLATFORM  \\\n",
       "0            Nintendo Switch       e682     168.00           website   \n",
       "1            Nintendo Switch       e682     160.61           website   \n",
       "2            Nintendo Switch       8d0d     151.20           website   \n",
       "3  Sony PlayStation 5 Bundle       54ed    1132.82           website   \n",
       "4            Nintendo Switch       8d0d      33.89           website   \n",
       "\n",
       "  MARKETING_CHANNEL ACCOUNT_CREATION_METHOD COUNTRY_CODE  \n",
       "0         affiliate                 unknown           US  \n",
       "1            direct                 desktop           DE  \n",
       "2            direct                 desktop           US  \n",
       "3            direct                 desktop           AU  \n",
       "4            direct                 desktop           TR  "
      ]
     },
     "execution_count": 5,
     "metadata": {},
     "output_type": "execute_result"
    }
   ],
   "source": [
    "df = pd.read_excel('../data/gamezone-orders-data.xlsx')\n",
    "df.head()"
   ]
  },
  {
   "cell_type": "markdown",
   "id": "7055ba9f",
   "metadata": {},
   "source": [
    "## Data Cleaning Plan\n",
    "\n",
    "For this project, I'll be following the **CLEAN** approach to prepare the dataset for analysis:\n",
    "\n",
    "- **Conceptualize the Data:** Understand what each feature represents and identify key columns.\n",
    "- **Locate Solvable Problems:** Find and fix obvious issues like missing values, duplicates, and inconsistent formatting.\n",
    "- **Evaluate Unsolvable Issues:** Address more complex problems such as outliers and unresolved missing data.\n",
    "- **Augment the Data:** Create new features if they add value to the analysis.\n",
    "- **Note and Document:** Record all cleaning steps and decisions for transparency.\n",
    "\n",
    "This structured process will help ensure the data is reliable and ready for analysis."
   ]
  },
  {
   "cell_type": "code",
   "execution_count": null,
   "id": "0215b2da",
   "metadata": {},
   "outputs": [],
   "source": []
  }
 ],
 "metadata": {
  "kernelspec": {
   "display_name": ".venv",
   "language": "python",
   "name": "python3"
  },
  "language_info": {
   "codemirror_mode": {
    "name": "ipython",
    "version": 3
   },
   "file_extension": ".py",
   "mimetype": "text/x-python",
   "name": "python",
   "nbconvert_exporter": "python",
   "pygments_lexer": "ipython3",
   "version": "3.12.7"
  }
 },
 "nbformat": 4,
 "nbformat_minor": 5
}
