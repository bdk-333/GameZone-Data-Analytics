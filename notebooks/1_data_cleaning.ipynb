{
 "cells": [
  {
   "cell_type": "code",
   "execution_count": 1,
   "id": "7bf974fd",
   "metadata": {},
   "outputs": [],
   "source": [
    "import pandas as pd \n",
    "import numpy as np \n",
    "import matplotlib as plt \n",
    "%matplotlib inline \n",
    "import seaborn as sns "
   ]
  },
  {
   "cell_type": "code",
   "execution_count": 2,
   "id": "c512762e",
   "metadata": {},
   "outputs": [
    {
     "data": {
      "application/vnd.microsoft.datawrangler.viewer.v0+json": {
       "columns": [
        {
         "name": "index",
         "rawType": "int64",
         "type": "integer"
        },
        {
         "name": "USER_ID",
         "rawType": "object",
         "type": "string"
        },
        {
         "name": "ORDER_ID",
         "rawType": "object",
         "type": "string"
        },
        {
         "name": "PURCHASE_TS",
         "rawType": "object",
         "type": "unknown"
        },
        {
         "name": "SHIP_TS",
         "rawType": "datetime64[ns]",
         "type": "datetime"
        },
        {
         "name": "PRODUCT_NAME",
         "rawType": "object",
         "type": "string"
        },
        {
         "name": "PRODUCT_ID",
         "rawType": "object",
         "type": "string"
        },
        {
         "name": "USD_PRICE",
         "rawType": "float64",
         "type": "float"
        },
        {
         "name": "PURCHASE_PLATFORM",
         "rawType": "object",
         "type": "string"
        },
        {
         "name": "MARKETING_CHANNEL",
         "rawType": "object",
         "type": "string"
        },
        {
         "name": "ACCOUNT_CREATION_METHOD",
         "rawType": "object",
         "type": "string"
        },
        {
         "name": "COUNTRY_CODE",
         "rawType": "object",
         "type": "string"
        }
       ],
       "ref": "07f4b86a-8d1b-4ba9-bde6-23db5c5454f9",
       "rows": [
        [
         "0",
         "2c06175e",
         "0001328c3c220830",
         "2020-12-24 00:00:00",
         "2020-12-13 00:00:00",
         "Nintendo Switch",
         "e682",
         "168.0",
         "website",
         "affiliate",
         "unknown",
         "US"
        ],
        [
         "1",
         "ee8e5bc2",
         "0002af7a5c6100772",
         "2020-10-01 00:00:00",
         "2020-09-21 00:00:00",
         "Nintendo Switch",
         "e682",
         "160.61",
         "website",
         "direct",
         "desktop",
         "DE"
        ],
        [
         "2",
         "9eb4efe0",
         "0002b8350e167074",
         "2020-04-21 00:00:00",
         "2020-02-16 00:00:00",
         "Nintendo Switch",
         "8d0d",
         "151.2",
         "website",
         "direct",
         "desktop",
         "US"
        ],
        [
         "3",
         "cac7cbaf",
         "0006d06b98385729",
         "2020-04-07 00:00:00",
         "2020-04-04 00:00:00",
         "Sony PlayStation 5 Bundle",
         "54ed",
         "1132.82",
         "website",
         "direct",
         "desktop",
         "AU"
        ],
        [
         "4",
         "6b0230bc",
         "00097279a2f46150",
         "2020-11-24 00:00:00",
         "2020-08-02 00:00:00",
         "Nintendo Switch",
         "8d0d",
         "33.89",
         "website",
         "direct",
         "desktop",
         "TR"
        ]
       ],
       "shape": {
        "columns": 11,
        "rows": 5
       }
      },
      "text/html": [
       "<div>\n",
       "<style scoped>\n",
       "    .dataframe tbody tr th:only-of-type {\n",
       "        vertical-align: middle;\n",
       "    }\n",
       "\n",
       "    .dataframe tbody tr th {\n",
       "        vertical-align: top;\n",
       "    }\n",
       "\n",
       "    .dataframe thead th {\n",
       "        text-align: right;\n",
       "    }\n",
       "</style>\n",
       "<table border=\"1\" class=\"dataframe\">\n",
       "  <thead>\n",
       "    <tr style=\"text-align: right;\">\n",
       "      <th></th>\n",
       "      <th>USER_ID</th>\n",
       "      <th>ORDER_ID</th>\n",
       "      <th>PURCHASE_TS</th>\n",
       "      <th>SHIP_TS</th>\n",
       "      <th>PRODUCT_NAME</th>\n",
       "      <th>PRODUCT_ID</th>\n",
       "      <th>USD_PRICE</th>\n",
       "      <th>PURCHASE_PLATFORM</th>\n",
       "      <th>MARKETING_CHANNEL</th>\n",
       "      <th>ACCOUNT_CREATION_METHOD</th>\n",
       "      <th>COUNTRY_CODE</th>\n",
       "    </tr>\n",
       "  </thead>\n",
       "  <tbody>\n",
       "    <tr>\n",
       "      <th>0</th>\n",
       "      <td>2c06175e</td>\n",
       "      <td>0001328c3c220830</td>\n",
       "      <td>2020-12-24 00:00:00</td>\n",
       "      <td>2020-12-13</td>\n",
       "      <td>Nintendo Switch</td>\n",
       "      <td>e682</td>\n",
       "      <td>168.00</td>\n",
       "      <td>website</td>\n",
       "      <td>affiliate</td>\n",
       "      <td>unknown</td>\n",
       "      <td>US</td>\n",
       "    </tr>\n",
       "    <tr>\n",
       "      <th>1</th>\n",
       "      <td>ee8e5bc2</td>\n",
       "      <td>0002af7a5c6100772</td>\n",
       "      <td>2020-10-01 00:00:00</td>\n",
       "      <td>2020-09-21</td>\n",
       "      <td>Nintendo Switch</td>\n",
       "      <td>e682</td>\n",
       "      <td>160.61</td>\n",
       "      <td>website</td>\n",
       "      <td>direct</td>\n",
       "      <td>desktop</td>\n",
       "      <td>DE</td>\n",
       "    </tr>\n",
       "    <tr>\n",
       "      <th>2</th>\n",
       "      <td>9eb4efe0</td>\n",
       "      <td>0002b8350e167074</td>\n",
       "      <td>2020-04-21 00:00:00</td>\n",
       "      <td>2020-02-16</td>\n",
       "      <td>Nintendo Switch</td>\n",
       "      <td>8d0d</td>\n",
       "      <td>151.20</td>\n",
       "      <td>website</td>\n",
       "      <td>direct</td>\n",
       "      <td>desktop</td>\n",
       "      <td>US</td>\n",
       "    </tr>\n",
       "    <tr>\n",
       "      <th>3</th>\n",
       "      <td>cac7cbaf</td>\n",
       "      <td>0006d06b98385729</td>\n",
       "      <td>2020-04-07 00:00:00</td>\n",
       "      <td>2020-04-04</td>\n",
       "      <td>Sony PlayStation 5 Bundle</td>\n",
       "      <td>54ed</td>\n",
       "      <td>1132.82</td>\n",
       "      <td>website</td>\n",
       "      <td>direct</td>\n",
       "      <td>desktop</td>\n",
       "      <td>AU</td>\n",
       "    </tr>\n",
       "    <tr>\n",
       "      <th>4</th>\n",
       "      <td>6b0230bc</td>\n",
       "      <td>00097279a2f46150</td>\n",
       "      <td>2020-11-24 00:00:00</td>\n",
       "      <td>2020-08-02</td>\n",
       "      <td>Nintendo Switch</td>\n",
       "      <td>8d0d</td>\n",
       "      <td>33.89</td>\n",
       "      <td>website</td>\n",
       "      <td>direct</td>\n",
       "      <td>desktop</td>\n",
       "      <td>TR</td>\n",
       "    </tr>\n",
       "  </tbody>\n",
       "</table>\n",
       "</div>"
      ],
      "text/plain": [
       "    USER_ID           ORDER_ID          PURCHASE_TS    SHIP_TS  \\\n",
       "0  2c06175e   0001328c3c220830  2020-12-24 00:00:00 2020-12-13   \n",
       "1  ee8e5bc2  0002af7a5c6100772  2020-10-01 00:00:00 2020-09-21   \n",
       "2  9eb4efe0   0002b8350e167074  2020-04-21 00:00:00 2020-02-16   \n",
       "3  cac7cbaf   0006d06b98385729  2020-04-07 00:00:00 2020-04-04   \n",
       "4  6b0230bc   00097279a2f46150  2020-11-24 00:00:00 2020-08-02   \n",
       "\n",
       "                PRODUCT_NAME PRODUCT_ID  USD_PRICE PURCHASE_PLATFORM  \\\n",
       "0            Nintendo Switch       e682     168.00           website   \n",
       "1            Nintendo Switch       e682     160.61           website   \n",
       "2            Nintendo Switch       8d0d     151.20           website   \n",
       "3  Sony PlayStation 5 Bundle       54ed    1132.82           website   \n",
       "4            Nintendo Switch       8d0d      33.89           website   \n",
       "\n",
       "  MARKETING_CHANNEL ACCOUNT_CREATION_METHOD COUNTRY_CODE  \n",
       "0         affiliate                 unknown           US  \n",
       "1            direct                 desktop           DE  \n",
       "2            direct                 desktop           US  \n",
       "3            direct                 desktop           AU  \n",
       "4            direct                 desktop           TR  "
      ]
     },
     "execution_count": 2,
     "metadata": {},
     "output_type": "execute_result"
    }
   ],
   "source": [
    "df = pd.read_excel('../data/gamezone-orders-data.xlsx')\n",
    "df.head()"
   ]
  },
  {
   "cell_type": "markdown",
   "id": "7055ba9f",
   "metadata": {},
   "source": [
    "## Data Cleaning Plan\n",
    "\n",
    "For this project, I'll be following the **CLEAN** approach to prepare the dataset for analysis:\n",
    "\n",
    "- **Conceptualize the Data:** Understand what each feature represents and identify key columns.\n",
    "- **Locate Solvable Problems:** Find and fix obvious issues like missing values, duplicates, and inconsistent formatting.\n",
    "- **Evaluate Unsolvable Issues:** Address more complex problems such as outliers and unresolved missing data.\n",
    "- **Augment the Data:** Create new features if they add value to the analysis.\n",
    "- **Note and Document:** Record all cleaning steps and decisions for transparency.\n",
    "\n",
    "This structured process will help ensure the data is reliable and ready for analysis."
   ]
  },
  {
   "cell_type": "markdown",
   "id": "398e89cf",
   "metadata": {},
   "source": [
    "## 1. Conceptualize"
   ]
  },
  {
   "cell_type": "code",
   "execution_count": 3,
   "id": "0215b2da",
   "metadata": {},
   "outputs": [
    {
     "name": "stdout",
     "output_type": "stream",
     "text": [
      "<class 'pandas.core.frame.DataFrame'>\n",
      "RangeIndex: 21864 entries, 0 to 21863\n",
      "Data columns (total 11 columns):\n",
      " #   Column                   Non-Null Count  Dtype         \n",
      "---  ------                   --------------  -----         \n",
      " 0   USER_ID                  21864 non-null  object        \n",
      " 1   ORDER_ID                 21864 non-null  object        \n",
      " 2   PURCHASE_TS              21864 non-null  object        \n",
      " 3   SHIP_TS                  21864 non-null  datetime64[ns]\n",
      " 4   PRODUCT_NAME             21864 non-null  object        \n",
      " 5   PRODUCT_ID               21864 non-null  object        \n",
      " 6   USD_PRICE                21859 non-null  float64       \n",
      " 7   PURCHASE_PLATFORM        21864 non-null  object        \n",
      " 8   MARKETING_CHANNEL        21781 non-null  object        \n",
      " 9   ACCOUNT_CREATION_METHOD  21781 non-null  object        \n",
      " 10  COUNTRY_CODE             21826 non-null  object        \n",
      "dtypes: datetime64[ns](1), float64(1), object(9)\n",
      "memory usage: 1.8+ MB\n"
     ]
    }
   ],
   "source": [
    "df.info()"
   ]
  },
  {
   "cell_type": "markdown",
   "id": "13e732bb",
   "metadata": {},
   "source": [
    "- We have around 22k orders.\n",
    "\n",
    "- We have just one metric or numeric features here and that's `USD_PRICE`, which is also our key features.\n",
    "- More useful features could be: `PURCHASE_TS`, `SHIP_TS`M, `PRODUCT_NAME`, `MARKETING_CHANNEL`, `COUNTRY_CODE`.\n",
    "\n",
    "- Possible type conversions: `PURCHASE_TS` to datetime.\n"
   ]
  },
  {
   "cell_type": "markdown",
   "id": "ba8c0279",
   "metadata": {},
   "source": [
    "## 2. Locate issues"
   ]
  },
  {
   "cell_type": "markdown",
   "id": "8c4c998c",
   "metadata": {},
   "source": [
    "### `USER_ID`"
   ]
  },
  {
   "cell_type": "code",
   "execution_count": 4,
   "id": "feeff056",
   "metadata": {},
   "outputs": [
    {
     "data": {
      "text/plain": [
       "90.79308452250274"
      ]
     },
     "execution_count": 4,
     "metadata": {},
     "output_type": "execute_result"
    }
   ],
   "source": [
    "len(df['USER_ID'].unique()) / len(df) * 100"
   ]
  },
  {
   "cell_type": "code",
   "execution_count": 5,
   "id": "03707992",
   "metadata": {},
   "outputs": [
    {
     "data": {
      "text/plain": [
       "np.int64(2013)"
      ]
     },
     "execution_count": 5,
     "metadata": {},
     "output_type": "execute_result"
    }
   ],
   "source": [
    "df['USER_ID'].duplicated().sum()"
   ]
  },
  {
   "cell_type": "code",
   "execution_count": 6,
   "id": "a39b7656",
   "metadata": {},
   "outputs": [
    {
     "data": {
      "text/plain": [
       "0.09206915477497256"
      ]
     },
     "execution_count": 6,
     "metadata": {},
     "output_type": "execute_result"
    }
   ],
   "source": [
    "2013/21864"
   ]
  },
  {
   "cell_type": "markdown",
   "id": "9179747a",
   "metadata": {},
   "source": [
    "Almost 91% are unique user id, and only around 9% are repeating user ids in the dataset."
   ]
  },
  {
   "cell_type": "markdown",
   "id": "dbe90d63",
   "metadata": {},
   "source": [
    "### `ORDER_ID`"
   ]
  },
  {
   "cell_type": "code",
   "execution_count": 7,
   "id": "42cd1a28",
   "metadata": {},
   "outputs": [
    {
     "data": {
      "text/plain": [
       "21719"
      ]
     },
     "execution_count": 7,
     "metadata": {},
     "output_type": "execute_result"
    }
   ],
   "source": [
    "len(df['ORDER_ID'].unique())"
   ]
  },
  {
   "cell_type": "code",
   "execution_count": 8,
   "id": "9b2e38b0",
   "metadata": {},
   "outputs": [
    {
     "data": {
      "text/plain": [
       "np.int64(145)"
      ]
     },
     "execution_count": 8,
     "metadata": {},
     "output_type": "execute_result"
    }
   ],
   "source": [
    "df['ORDER_ID'].duplicated().sum()"
   ]
  },
  {
   "cell_type": "markdown",
   "id": "8ce8dd7d",
   "metadata": {},
   "source": [
    "We have 145 duplicate orders. We need to investigate this because there shouldn't be any duplicate orders in the data."
   ]
  },
  {
   "cell_type": "code",
   "execution_count": 9,
   "id": "dfa07fd8",
   "metadata": {},
   "outputs": [
    {
     "data": {
      "application/vnd.microsoft.datawrangler.viewer.v0+json": {
       "columns": [
        {
         "name": "PRODUCT_NAME",
         "rawType": "object",
         "type": "string"
        },
        {
         "name": "count",
         "rawType": "int64",
         "type": "integer"
        }
       ],
       "ref": "508fe87e-6725-47e3-91d1-a3b2580e5a78",
       "rows": [
        [
         "Nintendo Switch",
         "98"
        ],
        [
         "27in 4K gaming monitor",
         "37"
        ],
        [
         "Sony PlayStation 5 Bundle",
         "10"
        ]
       ],
       "shape": {
        "columns": 1,
        "rows": 3
       }
      },
      "text/plain": [
       "PRODUCT_NAME\n",
       "Nintendo Switch              98\n",
       "27in 4K gaming monitor       37\n",
       "Sony PlayStation 5 Bundle    10\n",
       "Name: count, dtype: int64"
      ]
     },
     "execution_count": 9,
     "metadata": {},
     "output_type": "execute_result"
    }
   ],
   "source": [
    "df[df['ORDER_ID'].duplicated() == True]['PRODUCT_NAME'].value_counts()"
   ]
  },
  {
   "cell_type": "code",
   "execution_count": 10,
   "id": "792decad",
   "metadata": {},
   "outputs": [
    {
     "data": {
      "application/vnd.microsoft.datawrangler.viewer.v0+json": {
       "columns": [
        {
         "name": "index",
         "rawType": "int64",
         "type": "integer"
        },
        {
         "name": "USER_ID",
         "rawType": "object",
         "type": "string"
        },
        {
         "name": "ORDER_ID",
         "rawType": "object",
         "type": "string"
        },
        {
         "name": "PURCHASE_TS",
         "rawType": "object",
         "type": "unknown"
        },
        {
         "name": "SHIP_TS",
         "rawType": "datetime64[ns]",
         "type": "datetime"
        },
        {
         "name": "PRODUCT_NAME",
         "rawType": "object",
         "type": "string"
        },
        {
         "name": "PRODUCT_ID",
         "rawType": "object",
         "type": "string"
        },
        {
         "name": "USD_PRICE",
         "rawType": "float64",
         "type": "float"
        },
        {
         "name": "PURCHASE_PLATFORM",
         "rawType": "object",
         "type": "string"
        },
        {
         "name": "MARKETING_CHANNEL",
         "rawType": "object",
         "type": "string"
        },
        {
         "name": "ACCOUNT_CREATION_METHOD",
         "rawType": "object",
         "type": "string"
        },
        {
         "name": "COUNTRY_CODE",
         "rawType": "object",
         "type": "string"
        }
       ],
       "ref": "2dc3fa8d-ffa5-47d8-bb44-6f0caaf3f32e",
       "rows": [
        [
         "9379",
         "b66cdb8d",
         "7a5f67e18fa77291",
         "2020-01-27 00:00:00",
         "2020-01-28 00:00:00",
         "27in 4K gaming monitor",
         "e7e6",
         "480.0",
         "website",
         "direct",
         "desktop",
         "US"
        ],
        [
         "9564",
         "6270d6f9",
         "7d09de332e342684",
         "2020-01-27 00:00:00",
         "2020-01-30 00:00:00",
         "27in 4K gaming monitor",
         "891b",
         "332.2",
         "website",
         "direct",
         "desktop",
         "BR"
        ],
        [
         "9922",
         "e80b93ad",
         "815caec5eb998020",
         "2020-01-30 00:00:00",
         "2020-01-31 00:00:00",
         "27in 4K gaming monitor",
         "891b",
         "408.2",
         "website",
         "email",
         "desktop",
         "DE"
        ],
        [
         "10052",
         "3838f9e6",
         "833086c869925765",
         "2020-01-24 00:00:00",
         "2020-01-25 00:00:00",
         "27in 4K gaming monitor",
         "891b",
         "317.14",
         "website",
         "direct",
         "desktop",
         "JP"
        ],
        [
         "10142",
         "fd7dd923",
         "844a97334cd107082",
         "2020-01-22 00:00:00",
         "2020-01-25 00:00:00",
         "27in 4K gaming monitor",
         "891b",
         "480.0",
         "website",
         "direct",
         "desktop",
         "US"
        ]
       ],
       "shape": {
        "columns": 11,
        "rows": 5
       }
      },
      "text/html": [
       "<div>\n",
       "<style scoped>\n",
       "    .dataframe tbody tr th:only-of-type {\n",
       "        vertical-align: middle;\n",
       "    }\n",
       "\n",
       "    .dataframe tbody tr th {\n",
       "        vertical-align: top;\n",
       "    }\n",
       "\n",
       "    .dataframe thead th {\n",
       "        text-align: right;\n",
       "    }\n",
       "</style>\n",
       "<table border=\"1\" class=\"dataframe\">\n",
       "  <thead>\n",
       "    <tr style=\"text-align: right;\">\n",
       "      <th></th>\n",
       "      <th>USER_ID</th>\n",
       "      <th>ORDER_ID</th>\n",
       "      <th>PURCHASE_TS</th>\n",
       "      <th>SHIP_TS</th>\n",
       "      <th>PRODUCT_NAME</th>\n",
       "      <th>PRODUCT_ID</th>\n",
       "      <th>USD_PRICE</th>\n",
       "      <th>PURCHASE_PLATFORM</th>\n",
       "      <th>MARKETING_CHANNEL</th>\n",
       "      <th>ACCOUNT_CREATION_METHOD</th>\n",
       "      <th>COUNTRY_CODE</th>\n",
       "    </tr>\n",
       "  </thead>\n",
       "  <tbody>\n",
       "    <tr>\n",
       "      <th>9379</th>\n",
       "      <td>b66cdb8d</td>\n",
       "      <td>7a5f67e18fa77291</td>\n",
       "      <td>2020-01-27 00:00:00</td>\n",
       "      <td>2020-01-28</td>\n",
       "      <td>27in 4K gaming monitor</td>\n",
       "      <td>e7e6</td>\n",
       "      <td>480.00</td>\n",
       "      <td>website</td>\n",
       "      <td>direct</td>\n",
       "      <td>desktop</td>\n",
       "      <td>US</td>\n",
       "    </tr>\n",
       "    <tr>\n",
       "      <th>9564</th>\n",
       "      <td>6270d6f9</td>\n",
       "      <td>7d09de332e342684</td>\n",
       "      <td>2020-01-27 00:00:00</td>\n",
       "      <td>2020-01-30</td>\n",
       "      <td>27in 4K gaming monitor</td>\n",
       "      <td>891b</td>\n",
       "      <td>332.20</td>\n",
       "      <td>website</td>\n",
       "      <td>direct</td>\n",
       "      <td>desktop</td>\n",
       "      <td>BR</td>\n",
       "    </tr>\n",
       "    <tr>\n",
       "      <th>9922</th>\n",
       "      <td>e80b93ad</td>\n",
       "      <td>815caec5eb998020</td>\n",
       "      <td>2020-01-30 00:00:00</td>\n",
       "      <td>2020-01-31</td>\n",
       "      <td>27in 4K gaming monitor</td>\n",
       "      <td>891b</td>\n",
       "      <td>408.20</td>\n",
       "      <td>website</td>\n",
       "      <td>email</td>\n",
       "      <td>desktop</td>\n",
       "      <td>DE</td>\n",
       "    </tr>\n",
       "    <tr>\n",
       "      <th>10052</th>\n",
       "      <td>3838f9e6</td>\n",
       "      <td>833086c869925765</td>\n",
       "      <td>2020-01-24 00:00:00</td>\n",
       "      <td>2020-01-25</td>\n",
       "      <td>27in 4K gaming monitor</td>\n",
       "      <td>891b</td>\n",
       "      <td>317.14</td>\n",
       "      <td>website</td>\n",
       "      <td>direct</td>\n",
       "      <td>desktop</td>\n",
       "      <td>JP</td>\n",
       "    </tr>\n",
       "    <tr>\n",
       "      <th>10142</th>\n",
       "      <td>fd7dd923</td>\n",
       "      <td>844a97334cd107082</td>\n",
       "      <td>2020-01-22 00:00:00</td>\n",
       "      <td>2020-01-25</td>\n",
       "      <td>27in 4K gaming monitor</td>\n",
       "      <td>891b</td>\n",
       "      <td>480.00</td>\n",
       "      <td>website</td>\n",
       "      <td>direct</td>\n",
       "      <td>desktop</td>\n",
       "      <td>US</td>\n",
       "    </tr>\n",
       "  </tbody>\n",
       "</table>\n",
       "</div>"
      ],
      "text/plain": [
       "        USER_ID           ORDER_ID          PURCHASE_TS    SHIP_TS  \\\n",
       "9379   b66cdb8d   7a5f67e18fa77291  2020-01-27 00:00:00 2020-01-28   \n",
       "9564   6270d6f9   7d09de332e342684  2020-01-27 00:00:00 2020-01-30   \n",
       "9922   e80b93ad   815caec5eb998020  2020-01-30 00:00:00 2020-01-31   \n",
       "10052  3838f9e6   833086c869925765  2020-01-24 00:00:00 2020-01-25   \n",
       "10142  fd7dd923  844a97334cd107082  2020-01-22 00:00:00 2020-01-25   \n",
       "\n",
       "                 PRODUCT_NAME PRODUCT_ID  USD_PRICE PURCHASE_PLATFORM  \\\n",
       "9379   27in 4K gaming monitor       e7e6     480.00           website   \n",
       "9564   27in 4K gaming monitor       891b     332.20           website   \n",
       "9922   27in 4K gaming monitor       891b     408.20           website   \n",
       "10052  27in 4K gaming monitor       891b     317.14           website   \n",
       "10142  27in 4K gaming monitor       891b     480.00           website   \n",
       "\n",
       "      MARKETING_CHANNEL ACCOUNT_CREATION_METHOD COUNTRY_CODE  \n",
       "9379             direct                 desktop           US  \n",
       "9564             direct                 desktop           BR  \n",
       "9922              email                 desktop           DE  \n",
       "10052            direct                 desktop           JP  \n",
       "10142            direct                 desktop           US  "
      ]
     },
     "execution_count": 10,
     "metadata": {},
     "output_type": "execute_result"
    }
   ],
   "source": [
    "df[df['ORDER_ID'].duplicated() == True].head()"
   ]
  },
  {
   "cell_type": "markdown",
   "id": "38145353",
   "metadata": {},
   "source": [
    "Let's check the first duplicate."
   ]
  },
  {
   "cell_type": "code",
   "execution_count": 11,
   "id": "e59a0da8",
   "metadata": {},
   "outputs": [
    {
     "data": {
      "application/vnd.microsoft.datawrangler.viewer.v0+json": {
       "columns": [
        {
         "name": "index",
         "rawType": "int64",
         "type": "integer"
        },
        {
         "name": "USER_ID",
         "rawType": "object",
         "type": "string"
        },
        {
         "name": "ORDER_ID",
         "rawType": "object",
         "type": "string"
        },
        {
         "name": "PURCHASE_TS",
         "rawType": "object",
         "type": "unknown"
        },
        {
         "name": "SHIP_TS",
         "rawType": "datetime64[ns]",
         "type": "datetime"
        },
        {
         "name": "PRODUCT_NAME",
         "rawType": "object",
         "type": "string"
        },
        {
         "name": "PRODUCT_ID",
         "rawType": "object",
         "type": "string"
        },
        {
         "name": "USD_PRICE",
         "rawType": "float64",
         "type": "float"
        },
        {
         "name": "PURCHASE_PLATFORM",
         "rawType": "object",
         "type": "string"
        },
        {
         "name": "MARKETING_CHANNEL",
         "rawType": "object",
         "type": "string"
        },
        {
         "name": "ACCOUNT_CREATION_METHOD",
         "rawType": "object",
         "type": "string"
        },
        {
         "name": "COUNTRY_CODE",
         "rawType": "object",
         "type": "string"
        }
       ],
       "ref": "45667866-9b20-4e9d-af78-6f5410e8fb92",
       "rows": [
        [
         "9378",
         "b66cdb8d",
         "7a5f67e18fa77291",
         "2020-01-27 00:00:00",
         "2020-01-28 00:00:00",
         "27in 4K gaming monitor",
         "e7e6",
         "480.0",
         "website",
         "direct",
         "desktop",
         "US"
        ],
        [
         "9379",
         "b66cdb8d",
         "7a5f67e18fa77291",
         "2020-01-27 00:00:00",
         "2020-01-28 00:00:00",
         "27in 4K gaming monitor",
         "e7e6",
         "480.0",
         "website",
         "direct",
         "desktop",
         "US"
        ]
       ],
       "shape": {
        "columns": 11,
        "rows": 2
       }
      },
      "text/html": [
       "<div>\n",
       "<style scoped>\n",
       "    .dataframe tbody tr th:only-of-type {\n",
       "        vertical-align: middle;\n",
       "    }\n",
       "\n",
       "    .dataframe tbody tr th {\n",
       "        vertical-align: top;\n",
       "    }\n",
       "\n",
       "    .dataframe thead th {\n",
       "        text-align: right;\n",
       "    }\n",
       "</style>\n",
       "<table border=\"1\" class=\"dataframe\">\n",
       "  <thead>\n",
       "    <tr style=\"text-align: right;\">\n",
       "      <th></th>\n",
       "      <th>USER_ID</th>\n",
       "      <th>ORDER_ID</th>\n",
       "      <th>PURCHASE_TS</th>\n",
       "      <th>SHIP_TS</th>\n",
       "      <th>PRODUCT_NAME</th>\n",
       "      <th>PRODUCT_ID</th>\n",
       "      <th>USD_PRICE</th>\n",
       "      <th>PURCHASE_PLATFORM</th>\n",
       "      <th>MARKETING_CHANNEL</th>\n",
       "      <th>ACCOUNT_CREATION_METHOD</th>\n",
       "      <th>COUNTRY_CODE</th>\n",
       "    </tr>\n",
       "  </thead>\n",
       "  <tbody>\n",
       "    <tr>\n",
       "      <th>9378</th>\n",
       "      <td>b66cdb8d</td>\n",
       "      <td>7a5f67e18fa77291</td>\n",
       "      <td>2020-01-27 00:00:00</td>\n",
       "      <td>2020-01-28</td>\n",
       "      <td>27in 4K gaming monitor</td>\n",
       "      <td>e7e6</td>\n",
       "      <td>480.0</td>\n",
       "      <td>website</td>\n",
       "      <td>direct</td>\n",
       "      <td>desktop</td>\n",
       "      <td>US</td>\n",
       "    </tr>\n",
       "    <tr>\n",
       "      <th>9379</th>\n",
       "      <td>b66cdb8d</td>\n",
       "      <td>7a5f67e18fa77291</td>\n",
       "      <td>2020-01-27 00:00:00</td>\n",
       "      <td>2020-01-28</td>\n",
       "      <td>27in 4K gaming monitor</td>\n",
       "      <td>e7e6</td>\n",
       "      <td>480.0</td>\n",
       "      <td>website</td>\n",
       "      <td>direct</td>\n",
       "      <td>desktop</td>\n",
       "      <td>US</td>\n",
       "    </tr>\n",
       "  </tbody>\n",
       "</table>\n",
       "</div>"
      ],
      "text/plain": [
       "       USER_ID          ORDER_ID          PURCHASE_TS    SHIP_TS  \\\n",
       "9378  b66cdb8d  7a5f67e18fa77291  2020-01-27 00:00:00 2020-01-28   \n",
       "9379  b66cdb8d  7a5f67e18fa77291  2020-01-27 00:00:00 2020-01-28   \n",
       "\n",
       "                PRODUCT_NAME PRODUCT_ID  USD_PRICE PURCHASE_PLATFORM  \\\n",
       "9378  27in 4K gaming monitor       e7e6      480.0           website   \n",
       "9379  27in 4K gaming monitor       e7e6      480.0           website   \n",
       "\n",
       "     MARKETING_CHANNEL ACCOUNT_CREATION_METHOD COUNTRY_CODE  \n",
       "9378            direct                 desktop           US  \n",
       "9379            direct                 desktop           US  "
      ]
     },
     "execution_count": 11,
     "metadata": {},
     "output_type": "execute_result"
    }
   ],
   "source": [
    "df[df['ORDER_ID'] == '7a5f67e18fa77291']"
   ]
  },
  {
   "cell_type": "markdown",
   "id": "2fd2d8be",
   "metadata": {},
   "source": [
    "Yes these are exact copies of each other.\n",
    "\n",
    "I'm removing this duplicates right now."
   ]
  },
  {
   "cell_type": "code",
   "execution_count": 12,
   "id": "30dd2f13",
   "metadata": {},
   "outputs": [],
   "source": [
    "df.drop_duplicates(subset='ORDER_ID', keep='first', inplace=True)"
   ]
  },
  {
   "cell_type": "code",
   "execution_count": 13,
   "id": "168b0917",
   "metadata": {},
   "outputs": [
    {
     "data": {
      "text/plain": [
       "(21719, 11)"
      ]
     },
     "execution_count": 13,
     "metadata": {},
     "output_type": "execute_result"
    }
   ],
   "source": [
    "df.shape"
   ]
  },
  {
   "cell_type": "markdown",
   "id": "5687067a",
   "metadata": {},
   "source": [
    "### `PURCHASE_TS`:"
   ]
  },
  {
   "cell_type": "code",
   "execution_count": 14,
   "id": "21e9f2cc",
   "metadata": {},
   "outputs": [
    {
     "data": {
      "text/plain": [
       "np.int64(0)"
      ]
     },
     "execution_count": 14,
     "metadata": {},
     "output_type": "execute_result"
    }
   ],
   "source": [
    "df['PURCHASE_TS'].isna().sum()"
   ]
  },
  {
   "cell_type": "code",
   "execution_count": 15,
   "id": "f3708475",
   "metadata": {},
   "outputs": [],
   "source": [
    "# converting it to datetime\n",
    "df['PURCHASE_TS'] = pd.to_datetime(df['PURCHASE_TS'], errors='coerce')"
   ]
  },
  {
   "cell_type": "code",
   "execution_count": 16,
   "id": "23e52d74",
   "metadata": {},
   "outputs": [
    {
     "data": {
      "text/plain": [
       "np.int64(5)"
      ]
     },
     "execution_count": 16,
     "metadata": {},
     "output_type": "execute_result"
    }
   ],
   "source": [
    "df['PURCHASE_TS'].isna().sum()"
   ]
  },
  {
   "cell_type": "markdown",
   "id": "1f7bdec9",
   "metadata": {},
   "source": [
    "We have 5 missings. Let's check them."
   ]
  },
  {
   "cell_type": "code",
   "execution_count": 17,
   "id": "de83113d",
   "metadata": {},
   "outputs": [
    {
     "data": {
      "application/vnd.microsoft.datawrangler.viewer.v0+json": {
       "columns": [
        {
         "name": "index",
         "rawType": "int64",
         "type": "integer"
        },
        {
         "name": "USER_ID",
         "rawType": "object",
         "type": "string"
        },
        {
         "name": "ORDER_ID",
         "rawType": "object",
         "type": "string"
        },
        {
         "name": "PURCHASE_TS",
         "rawType": "datetime64[ns]",
         "type": "datetime"
        },
        {
         "name": "SHIP_TS",
         "rawType": "datetime64[ns]",
         "type": "datetime"
        },
        {
         "name": "PRODUCT_NAME",
         "rawType": "object",
         "type": "string"
        },
        {
         "name": "PRODUCT_ID",
         "rawType": "object",
         "type": "string"
        },
        {
         "name": "USD_PRICE",
         "rawType": "float64",
         "type": "float"
        },
        {
         "name": "PURCHASE_PLATFORM",
         "rawType": "object",
         "type": "string"
        },
        {
         "name": "MARKETING_CHANNEL",
         "rawType": "object",
         "type": "string"
        },
        {
         "name": "ACCOUNT_CREATION_METHOD",
         "rawType": "object",
         "type": "string"
        },
        {
         "name": "COUNTRY_CODE",
         "rawType": "object",
         "type": "string"
        }
       ],
       "ref": "6a6b0e1c-ee20-4008-8352-fe4ab500b876",
       "rows": [
        [
         "1047",
         "a5298a4d",
         "0dda212aaea69940",
         null,
         "2019-07-08 00:00:00",
         "JBL Quantum 100 Gaming Headset",
         "ab0f",
         "21.96",
         "website",
         "direct",
         "desktop",
         "FR"
        ],
        [
         "5846",
         "a81bb521",
         "4cd9ab100d971208",
         null,
         "2021-01-11 00:00:00",
         "Nintendo Switch",
         "8d0d",
         "120.26",
         "website",
         "direct",
         "desktop",
         "IE"
        ],
        [
         "11853",
         "2fa9f33d",
         "99d824517da22388",
         null,
         "2019-04-11 00:00:00",
         "JBL Quantum 100 Gaming Headset",
         "ab0f",
         "21.19",
         "website",
         "direct",
         "mobile",
         "JP"
        ],
        [
         "16163",
         "b313cea5",
         "c9e0aea0d9a75871",
         null,
         "2019-05-18 00:00:00",
         "JBL Quantum 100 Gaming Headset",
         "ab0f",
         "19.2",
         "website",
         "direct",
         "desktop",
         "US"
        ],
        [
         "20725",
         "67f8050b",
         "f4de38506b644875",
         null,
         "2019-01-17 00:00:00",
         "JBL Quantum 100 Gaming Headset",
         "ab0f",
         "25.69",
         "website",
         "direct",
         "desktop",
         "GB"
        ]
       ],
       "shape": {
        "columns": 11,
        "rows": 5
       }
      },
      "text/html": [
       "<div>\n",
       "<style scoped>\n",
       "    .dataframe tbody tr th:only-of-type {\n",
       "        vertical-align: middle;\n",
       "    }\n",
       "\n",
       "    .dataframe tbody tr th {\n",
       "        vertical-align: top;\n",
       "    }\n",
       "\n",
       "    .dataframe thead th {\n",
       "        text-align: right;\n",
       "    }\n",
       "</style>\n",
       "<table border=\"1\" class=\"dataframe\">\n",
       "  <thead>\n",
       "    <tr style=\"text-align: right;\">\n",
       "      <th></th>\n",
       "      <th>USER_ID</th>\n",
       "      <th>ORDER_ID</th>\n",
       "      <th>PURCHASE_TS</th>\n",
       "      <th>SHIP_TS</th>\n",
       "      <th>PRODUCT_NAME</th>\n",
       "      <th>PRODUCT_ID</th>\n",
       "      <th>USD_PRICE</th>\n",
       "      <th>PURCHASE_PLATFORM</th>\n",
       "      <th>MARKETING_CHANNEL</th>\n",
       "      <th>ACCOUNT_CREATION_METHOD</th>\n",
       "      <th>COUNTRY_CODE</th>\n",
       "    </tr>\n",
       "  </thead>\n",
       "  <tbody>\n",
       "    <tr>\n",
       "      <th>1047</th>\n",
       "      <td>a5298a4d</td>\n",
       "      <td>0dda212aaea69940</td>\n",
       "      <td>NaT</td>\n",
       "      <td>2019-07-08</td>\n",
       "      <td>JBL Quantum 100 Gaming Headset</td>\n",
       "      <td>ab0f</td>\n",
       "      <td>21.96</td>\n",
       "      <td>website</td>\n",
       "      <td>direct</td>\n",
       "      <td>desktop</td>\n",
       "      <td>FR</td>\n",
       "    </tr>\n",
       "    <tr>\n",
       "      <th>5846</th>\n",
       "      <td>a81bb521</td>\n",
       "      <td>4cd9ab100d971208</td>\n",
       "      <td>NaT</td>\n",
       "      <td>2021-01-11</td>\n",
       "      <td>Nintendo Switch</td>\n",
       "      <td>8d0d</td>\n",
       "      <td>120.26</td>\n",
       "      <td>website</td>\n",
       "      <td>direct</td>\n",
       "      <td>desktop</td>\n",
       "      <td>IE</td>\n",
       "    </tr>\n",
       "    <tr>\n",
       "      <th>11853</th>\n",
       "      <td>2fa9f33d</td>\n",
       "      <td>99d824517da22388</td>\n",
       "      <td>NaT</td>\n",
       "      <td>2019-04-11</td>\n",
       "      <td>JBL Quantum 100 Gaming Headset</td>\n",
       "      <td>ab0f</td>\n",
       "      <td>21.19</td>\n",
       "      <td>website</td>\n",
       "      <td>direct</td>\n",
       "      <td>mobile</td>\n",
       "      <td>JP</td>\n",
       "    </tr>\n",
       "    <tr>\n",
       "      <th>16163</th>\n",
       "      <td>b313cea5</td>\n",
       "      <td>c9e0aea0d9a75871</td>\n",
       "      <td>NaT</td>\n",
       "      <td>2019-05-18</td>\n",
       "      <td>JBL Quantum 100 Gaming Headset</td>\n",
       "      <td>ab0f</td>\n",
       "      <td>19.20</td>\n",
       "      <td>website</td>\n",
       "      <td>direct</td>\n",
       "      <td>desktop</td>\n",
       "      <td>US</td>\n",
       "    </tr>\n",
       "    <tr>\n",
       "      <th>20725</th>\n",
       "      <td>67f8050b</td>\n",
       "      <td>f4de38506b644875</td>\n",
       "      <td>NaT</td>\n",
       "      <td>2019-01-17</td>\n",
       "      <td>JBL Quantum 100 Gaming Headset</td>\n",
       "      <td>ab0f</td>\n",
       "      <td>25.69</td>\n",
       "      <td>website</td>\n",
       "      <td>direct</td>\n",
       "      <td>desktop</td>\n",
       "      <td>GB</td>\n",
       "    </tr>\n",
       "  </tbody>\n",
       "</table>\n",
       "</div>"
      ],
      "text/plain": [
       "        USER_ID          ORDER_ID PURCHASE_TS    SHIP_TS  \\\n",
       "1047   a5298a4d  0dda212aaea69940         NaT 2019-07-08   \n",
       "5846   a81bb521  4cd9ab100d971208         NaT 2021-01-11   \n",
       "11853  2fa9f33d  99d824517da22388         NaT 2019-04-11   \n",
       "16163  b313cea5  c9e0aea0d9a75871         NaT 2019-05-18   \n",
       "20725  67f8050b  f4de38506b644875         NaT 2019-01-17   \n",
       "\n",
       "                         PRODUCT_NAME PRODUCT_ID  USD_PRICE PURCHASE_PLATFORM  \\\n",
       "1047   JBL Quantum 100 Gaming Headset       ab0f      21.96           website   \n",
       "5846                  Nintendo Switch       8d0d     120.26           website   \n",
       "11853  JBL Quantum 100 Gaming Headset       ab0f      21.19           website   \n",
       "16163  JBL Quantum 100 Gaming Headset       ab0f      19.20           website   \n",
       "20725  JBL Quantum 100 Gaming Headset       ab0f      25.69           website   \n",
       "\n",
       "      MARKETING_CHANNEL ACCOUNT_CREATION_METHOD COUNTRY_CODE  \n",
       "1047             direct                 desktop           FR  \n",
       "5846             direct                 desktop           IE  \n",
       "11853            direct                  mobile           JP  \n",
       "16163            direct                 desktop           US  \n",
       "20725            direct                 desktop           GB  "
      ]
     },
     "execution_count": 17,
     "metadata": {},
     "output_type": "execute_result"
    }
   ],
   "source": [
    "df[df.PURCHASE_TS.isna()]"
   ]
  },
  {
   "cell_type": "code",
   "execution_count": 18,
   "id": "60b79a49",
   "metadata": {},
   "outputs": [
    {
     "name": "stdout",
     "output_type": "stream",
     "text": [
      "Start date:  2019-01-01 00:00:00\n",
      "End date:  2021-02-28 00:00:00\n"
     ]
    }
   ],
   "source": [
    "print(\"Start date: \", df['PURCHASE_TS'].min())\n",
    "print(\"End date: \", df['PURCHASE_TS'].max())"
   ]
  },
  {
   "cell_type": "markdown",
   "id": "9fbfc729",
   "metadata": {},
   "source": [
    "### `SHIP_TS`"
   ]
  },
  {
   "cell_type": "code",
   "execution_count": 19,
   "id": "23a90c8f",
   "metadata": {},
   "outputs": [
    {
     "data": {
      "text/plain": [
       "np.int64(0)"
      ]
     },
     "execution_count": 19,
     "metadata": {},
     "output_type": "execute_result"
    }
   ],
   "source": [
    "df['SHIP_TS'].isna().sum()"
   ]
  },
  {
   "cell_type": "code",
   "execution_count": 20,
   "id": "f33e2a0a",
   "metadata": {},
   "outputs": [
    {
     "name": "stdout",
     "output_type": "stream",
     "text": [
      "Start:  2018-10-18 00:00:00\n",
      "End:  2021-11-16 00:00:00\n"
     ]
    }
   ],
   "source": [
    "print(\"Start: \", min(df['SHIP_TS']))\n",
    "print(\"End: \", max(df['SHIP_TS']))"
   ]
  },
  {
   "cell_type": "markdown",
   "id": "19483ef0",
   "metadata": {},
   "source": [
    "### `PRODUCT_NAME`"
   ]
  },
  {
   "cell_type": "code",
   "execution_count": 27,
   "id": "80923600",
   "metadata": {},
   "outputs": [
    {
     "data": {
      "application/vnd.microsoft.datawrangler.viewer.v0+json": {
       "columns": [
        {
         "name": "PRODUCT_NAME",
         "rawType": "object",
         "type": "string"
        },
        {
         "name": "count",
         "rawType": "int64",
         "type": "integer"
        }
       ],
       "ref": "2fc86499-879f-49fc-8b36-8f00c76d2520",
       "rows": [
        [
         "Nintendo Switch",
         "10288"
        ],
        [
         "27in 4K gaming monitor",
         "4686"
        ],
        [
         "JBL Quantum 100 Gaming Headset",
         "4296"
        ],
        [
         "Sony PlayStation 5 Bundle",
         "967"
        ],
        [
         "Dell Gaming Mouse",
         "719"
        ],
        [
         "Lenovo IdeaPad Gaming 3",
         "669"
        ],
        [
         "Acer Nitro V Gaming Laptop",
         "87"
        ],
        [
         "Razer Pro Gaming Headset",
         "7"
        ]
       ],
       "shape": {
        "columns": 1,
        "rows": 8
       }
      },
      "text/plain": [
       "PRODUCT_NAME\n",
       "Nintendo Switch                   10288\n",
       "27in 4K gaming monitor             4686\n",
       "JBL Quantum 100 Gaming Headset     4296\n",
       "Sony PlayStation 5 Bundle           967\n",
       "Dell Gaming Mouse                   719\n",
       "Lenovo IdeaPad Gaming 3             669\n",
       "Acer Nitro V Gaming Laptop           87\n",
       "Razer Pro Gaming Headset              7\n",
       "Name: count, dtype: int64"
      ]
     },
     "execution_count": 27,
     "metadata": {},
     "output_type": "execute_result"
    }
   ],
   "source": [
    "df['PRODUCT_NAME'].value_counts()"
   ]
  },
  {
   "cell_type": "markdown",
   "id": "f2a443e1",
   "metadata": {},
   "source": [
    "There are 8 unique products in this dataset. And almost half of the orders are of Nintendo Switch.\n",
    "\n",
    "We have a spelling inconsistency, 27in vs 27inches."
   ]
  },
  {
   "cell_type": "code",
   "execution_count": 26,
   "id": "41a89f53",
   "metadata": {},
   "outputs": [],
   "source": [
    "df['PRODUCT_NAME'] = df['PRODUCT_NAME'].replace('27inches 4k gaming monitor', '27in 4K gaming monitor')"
   ]
  },
  {
   "cell_type": "markdown",
   "id": "8fc64345",
   "metadata": {},
   "source": [
    "### `USD_PRICE`"
   ]
  },
  {
   "cell_type": "code",
   "execution_count": 30,
   "id": "4e9e136c",
   "metadata": {},
   "outputs": [
    {
     "data": {
      "text/plain": [
       "np.int64(5)"
      ]
     },
     "execution_count": 30,
     "metadata": {},
     "output_type": "execute_result"
    }
   ],
   "source": [
    "df['USD_PRICE'].isna().sum()"
   ]
  },
  {
   "cell_type": "code",
   "execution_count": 31,
   "id": "42c98476",
   "metadata": {},
   "outputs": [
    {
     "data": {
      "application/vnd.microsoft.datawrangler.viewer.v0+json": {
       "columns": [
        {
         "name": "index",
         "rawType": "int64",
         "type": "integer"
        },
        {
         "name": "PRODUCT_NAME",
         "rawType": "object",
         "type": "string"
        },
        {
         "name": "PURCHASE_TS",
         "rawType": "datetime64[ns]",
         "type": "datetime"
        },
        {
         "name": "SHIP_TS",
         "rawType": "datetime64[ns]",
         "type": "datetime"
        },
        {
         "name": "COUNTRY_CODE",
         "rawType": "object",
         "type": "string"
        }
       ],
       "ref": "06625e98-2874-4187-9fed-99930fdce35c",
       "rows": [
        [
         "1190",
         "Dell Gaming Mouse",
         "2020-08-20 00:00:00",
         "2020-05-26 00:00:00",
         "GH"
        ],
        [
         "13282",
         "JBL Quantum 100 Gaming Headset",
         "2019-12-25 00:00:00",
         "2019-12-28 00:00:00",
         "KE"
        ],
        [
         "14189",
         "Dell Gaming Mouse",
         "2020-09-01 00:00:00",
         "2020-09-04 00:00:00",
         "KE"
        ],
        [
         "20044",
         "Dell Gaming Mouse",
         "2020-07-11 00:00:00",
         "2020-07-12 00:00:00",
         "VE"
        ],
        [
         "20227",
         "Dell Gaming Mouse",
         "2021-01-08 00:00:00",
         "2021-01-10 00:00:00",
         "BO"
        ]
       ],
       "shape": {
        "columns": 4,
        "rows": 5
       }
      },
      "text/html": [
       "<div>\n",
       "<style scoped>\n",
       "    .dataframe tbody tr th:only-of-type {\n",
       "        vertical-align: middle;\n",
       "    }\n",
       "\n",
       "    .dataframe tbody tr th {\n",
       "        vertical-align: top;\n",
       "    }\n",
       "\n",
       "    .dataframe thead th {\n",
       "        text-align: right;\n",
       "    }\n",
       "</style>\n",
       "<table border=\"1\" class=\"dataframe\">\n",
       "  <thead>\n",
       "    <tr style=\"text-align: right;\">\n",
       "      <th></th>\n",
       "      <th>PRODUCT_NAME</th>\n",
       "      <th>PURCHASE_TS</th>\n",
       "      <th>SHIP_TS</th>\n",
       "      <th>COUNTRY_CODE</th>\n",
       "    </tr>\n",
       "  </thead>\n",
       "  <tbody>\n",
       "    <tr>\n",
       "      <th>1190</th>\n",
       "      <td>Dell Gaming Mouse</td>\n",
       "      <td>2020-08-20</td>\n",
       "      <td>2020-05-26</td>\n",
       "      <td>GH</td>\n",
       "    </tr>\n",
       "    <tr>\n",
       "      <th>13282</th>\n",
       "      <td>JBL Quantum 100 Gaming Headset</td>\n",
       "      <td>2019-12-25</td>\n",
       "      <td>2019-12-28</td>\n",
       "      <td>KE</td>\n",
       "    </tr>\n",
       "    <tr>\n",
       "      <th>14189</th>\n",
       "      <td>Dell Gaming Mouse</td>\n",
       "      <td>2020-09-01</td>\n",
       "      <td>2020-09-04</td>\n",
       "      <td>KE</td>\n",
       "    </tr>\n",
       "    <tr>\n",
       "      <th>20044</th>\n",
       "      <td>Dell Gaming Mouse</td>\n",
       "      <td>2020-07-11</td>\n",
       "      <td>2020-07-12</td>\n",
       "      <td>VE</td>\n",
       "    </tr>\n",
       "    <tr>\n",
       "      <th>20227</th>\n",
       "      <td>Dell Gaming Mouse</td>\n",
       "      <td>2021-01-08</td>\n",
       "      <td>2021-01-10</td>\n",
       "      <td>BO</td>\n",
       "    </tr>\n",
       "  </tbody>\n",
       "</table>\n",
       "</div>"
      ],
      "text/plain": [
       "                         PRODUCT_NAME PURCHASE_TS    SHIP_TS COUNTRY_CODE\n",
       "1190                Dell Gaming Mouse  2020-08-20 2020-05-26           GH\n",
       "13282  JBL Quantum 100 Gaming Headset  2019-12-25 2019-12-28           KE\n",
       "14189               Dell Gaming Mouse  2020-09-01 2020-09-04           KE\n",
       "20044               Dell Gaming Mouse  2020-07-11 2020-07-12           VE\n",
       "20227               Dell Gaming Mouse  2021-01-08 2021-01-10           BO"
      ]
     },
     "execution_count": 31,
     "metadata": {},
     "output_type": "execute_result"
    }
   ],
   "source": [
    "df[df['USD_PRICE'].isna() == True][['PRODUCT_NAME', 'PURCHASE_TS', 'SHIP_TS', 'COUNTRY_CODE']]"
   ]
  },
  {
   "cell_type": "markdown",
   "id": "9ec204dd",
   "metadata": {},
   "source": [
    "4 out of 5 values are Dell gaming mouse. One way to deal with this is to get the average price of Dell gaming mouse from around the time of purchase and fill it."
   ]
  },
  {
   "cell_type": "code",
   "execution_count": 34,
   "id": "f0ad3efa",
   "metadata": {},
   "outputs": [
    {
     "data": {
      "text/plain": [
       "np.float64(50.690429338103755)"
      ]
     },
     "execution_count": 34,
     "metadata": {},
     "output_type": "execute_result"
    }
   ],
   "source": [
    "df[(df['PRODUCT_NAME'] == 'Dell Gaming Mouse') & (df['PURCHASE_TS'].dt.year == 2020)]['USD_PRICE'].mean()"
   ]
  },
  {
   "cell_type": "markdown",
   "id": "d4f7d3ac",
   "metadata": {},
   "source": [
    "However, the missing rows are only 5 out of 20k, I'm not filling these missing values."
   ]
  },
  {
   "cell_type": "code",
   "execution_count": 35,
   "id": "35fa271f",
   "metadata": {},
   "outputs": [
    {
     "data": {
      "application/vnd.microsoft.datawrangler.viewer.v0+json": {
       "columns": [
        {
         "name": "index",
         "rawType": "object",
         "type": "string"
        },
        {
         "name": "USD_PRICE",
         "rawType": "float64",
         "type": "float"
        }
       ],
       "ref": "f67267b0-4847-4b09-97b8-f4475275f048",
       "rows": [
        [
         "count",
         "21714.0"
        ],
        [
         "mean",
         "281.0852026342452"
        ],
        [
         "std",
         "366.1773719504757"
        ],
        [
         "min",
         "0.0"
        ],
        [
         "25%",
         "126.0"
        ],
        [
         "50%",
         "168.0"
        ],
        [
         "75%",
         "356.495"
        ],
        [
         "max",
         "3146.88"
        ]
       ],
       "shape": {
        "columns": 1,
        "rows": 8
       }
      },
      "text/plain": [
       "count    21714.000000\n",
       "mean       281.085203\n",
       "std        366.177372\n",
       "min          0.000000\n",
       "25%        126.000000\n",
       "50%        168.000000\n",
       "75%        356.495000\n",
       "max       3146.880000\n",
       "Name: USD_PRICE, dtype: float64"
      ]
     },
     "execution_count": 35,
     "metadata": {},
     "output_type": "execute_result"
    }
   ],
   "source": [
    "df['USD_PRICE'].describe()"
   ]
  },
  {
   "cell_type": "code",
   "execution_count": null,
   "id": "840209b4",
   "metadata": {},
   "outputs": [
    {
     "data": {
      "application/vnd.microsoft.datawrangler.viewer.v0+json": {
       "columns": [
        {
         "name": "index",
         "rawType": "int64",
         "type": "integer"
        },
        {
         "name": "USER_ID",
         "rawType": "object",
         "type": "unknown"
        },
        {
         "name": "ORDER_ID",
         "rawType": "object",
         "type": "string"
        },
        {
         "name": "PURCHASE_TS",
         "rawType": "datetime64[ns]",
         "type": "datetime"
        },
        {
         "name": "SHIP_TS",
         "rawType": "datetime64[ns]",
         "type": "datetime"
        },
        {
         "name": "PRODUCT_NAME",
         "rawType": "object",
         "type": "string"
        },
        {
         "name": "PRODUCT_ID",
         "rawType": "object",
         "type": "unknown"
        },
        {
         "name": "USD_PRICE",
         "rawType": "float64",
         "type": "float"
        },
        {
         "name": "PURCHASE_PLATFORM",
         "rawType": "object",
         "type": "string"
        },
        {
         "name": "MARKETING_CHANNEL",
         "rawType": "object",
         "type": "string"
        },
        {
         "name": "ACCOUNT_CREATION_METHOD",
         "rawType": "object",
         "type": "string"
        },
        {
         "name": "COUNTRY_CODE",
         "rawType": "object",
         "type": "string"
        }
       ],
       "ref": "befc1361-4bda-4e6b-8234-1512c1e5cd17",
       "rows": [
        [
         "2191",
         "a701bdf9",
         "1ceddd6a12170762",
         "2020-06-20 00:00:00",
         "2020-06-21 00:00:00",
         "27in 4K gaming monitor",
         "7f86",
         "0.0",
         "website",
         "direct",
         "desktop",
         "US"
        ],
        [
         "2505",
         "85ac39f0",
         "2146feba6e756862",
         "2019-04-30 00:00:00",
         "2019-05-02 00:00:00",
         "27in 4K gaming monitor",
         "7f86",
         "0.0",
         "website",
         "direct",
         "desktop",
         "US"
        ],
        [
         "2680",
         "5fd53171",
         "23940db170e41722",
         "2019-05-04 00:00:00",
         "2019-05-06 00:00:00",
         "JBL Quantum 100 Gaming Headset",
         "f5ca",
         "0.0",
         "website",
         "affiliate",
         "unknown",
         "US"
        ],
        [
         "4564",
         "555eca81",
         "3be225ada5637556",
         "2019-05-24 00:00:00",
         "2019-05-25 00:00:00",
         "27in 4K gaming monitor",
         "7599",
         "0.0",
         "website",
         "direct",
         "desktop",
         "CA"
        ],
        [
         "5276",
         "efe56e44",
         "45a51a63bcd101353",
         "2019-09-26 00:00:00",
         "2019-09-29 00:00:00",
         "JBL Quantum 100 Gaming Headset",
         "f5ca",
         "0.0",
         "website",
         "direct",
         "desktop",
         "GB"
        ],
        [
         "5277",
         "efe56e44",
         "45a51a63bcd101354",
         "2019-09-26 00:00:00",
         "2019-09-29 00:00:00",
         "JBL Quantum 100 Gaming Headset",
         "f5ca",
         "0.0",
         "website",
         "direct",
         "desktop",
         "GB"
        ],
        [
         "5889",
         "6af2bb7f",
         "4d7c9611b7146120",
         "2020-03-09 00:00:00",
         "2020-03-12 00:00:00",
         "JBL Quantum 100 Gaming Headset",
         "f5ca",
         "0.0",
         "website",
         "direct",
         "desktop",
         "US"
        ],
        [
         "5903",
         "640abe84",
         "4dbbfcd41ca43316",
         "2020-11-29 00:00:00",
         "2020-12-02 00:00:00",
         "Dell Gaming Mouse",
         "640d",
         "0.0",
         "website",
         "direct",
         "desktop",
         "US"
        ],
        [
         "6028",
         "eec7e8f6",
         "4fbc71f4344100865",
         "2020-04-03 00:00:00",
         "2020-04-06 00:00:00",
         "JBL Quantum 100 Gaming Headset",
         "f5ca",
         "0.0",
         "website",
         "direct",
         "desktop",
         "US"
        ],
        [
         "6245",
         "29bb865f",
         "524641383d819880",
         "2020-02-17 00:00:00",
         "2020-02-20 00:00:00",
         "JBL Quantum 100 Gaming Headset",
         "f5ca",
         "0.0",
         "website",
         "affiliate",
         "unknown",
         "NL"
        ],
        [
         "6348",
         "ed0176ff",
         "53671a5f98f100127",
         "2020-03-29 00:00:00",
         "2020-03-31 00:00:00",
         "JBL Quantum 100 Gaming Headset",
         "f5ca",
         "0.0",
         "website",
         "direct",
         "desktop",
         "IT"
        ],
        [
         "7980",
         "6078173d",
         "68b8f67360f41966",
         "2020-06-03 00:00:00",
         "2020-06-06 00:00:00",
         "27in 4K gaming monitor",
         "7f86",
         "0.0",
         "website",
         "direct",
         "desktop",
         "US"
        ],
        [
         "8177",
         "8ba7ece7",
         "6b2264bb08b59314",
         "2020-03-02 00:00:00",
         "2020-03-03 00:00:00",
         "JBL Quantum 100 Gaming Headset",
         "f5ca",
         "0.0",
         "website",
         "affiliate",
         "unknown",
         "US"
        ],
        [
         "8544",
         "b50114e3",
         "6fdd55abb5f76670",
         "2019-12-23 00:00:00",
         "2019-12-26 00:00:00",
         "JBL Quantum 100 Gaming Headset",
         "f5ca",
         "0.0",
         "website",
         "direct",
         "desktop",
         "AU"
        ],
        [
         "8545",
         "b50114e3",
         "6fdd55abb5f76671",
         "2019-12-23 00:00:00",
         "2019-12-26 00:00:00",
         "JBL Quantum 100 Gaming Headset",
         "f5ca",
         "0.0",
         "website",
         "direct",
         "desktop",
         "AU"
        ],
        [
         "10156",
         "cc673eb1",
         "8477446ded786340",
         "2019-11-19 00:00:00",
         "2019-11-22 00:00:00",
         "27in 4K gaming monitor",
         "891b",
         "0.0",
         "website",
         "direct",
         "desktop",
         "IN"
        ],
        [
         "10299",
         "e4a73cb4",
         "866ef50c71696571",
         "2019-03-05 00:00:00",
         "2019-03-06 00:00:00",
         "JBL Quantum 100 Gaming Headset",
         "f5ca",
         "0.0",
         "website",
         "social media",
         "tablet",
         "GB"
        ],
        [
         "11497",
         "12159362",
         "95570df7d2b351",
         "2019-12-14 00:00:00",
         "2019-12-17 00:00:00",
         "JBL Quantum 100 Gaming Headset",
         "f5ca",
         "0.0",
         "website",
         "direct",
         "mobile",
         "HK"
        ],
        [
         "13512",
         "9af4724f",
         "adfd0c8ed8e65524",
         "2019-08-21 00:00:00",
         "2019-08-22 00:00:00",
         "27in 4K gaming monitor",
         "7f86",
         "0.0",
         "website",
         "direct",
         "mobile",
         "MY"
        ],
        [
         "13825",
         "62cc65d9",
         "b200d7ad7e842833",
         "2019-04-22 00:00:00",
         "2019-04-23 00:00:00",
         "JBL Quantum 100 Gaming Headset",
         "f5ca",
         "0.0",
         "website",
         "affiliate",
         "unknown",
         "GB"
        ],
        [
         "14084",
         "0c044c53",
         "b51a7bdf4f37931",
         "2019-03-09 00:00:00",
         "2019-03-11 00:00:00",
         "JBL Quantum 100 Gaming Headset",
         "f5ca",
         "0.0",
         "website",
         "direct",
         "desktop",
         "CA"
        ],
        [
         "14086",
         "0bf01cff",
         "b528ed0af2c7902",
         "2020-12-05 00:00:00",
         "2020-12-07 00:00:00",
         "JBL Quantum 100 Gaming Headset",
         "f5ca",
         "0.0",
         "website",
         "direct",
         "desktop",
         "CA"
        ],
        [
         "15217",
         "337a5c9b",
         "c06bc74c56623892",
         "2020-04-23 00:00:00",
         "2020-04-24 00:00:00",
         "JBL Quantum 100 Gaming Headset",
         "f5ca",
         "0.0",
         "website",
         "direct",
         "desktop",
         "US"
        ],
        [
         "15758",
         "f98d3ee4",
         "c5c9a836518105426",
         "2019-08-21 00:00:00",
         "2019-08-22 00:00:00",
         "JBL Quantum 100 Gaming Headset",
         "f5ca",
         "0.0",
         "website",
         "direct",
         "desktop",
         "US"
        ],
        [
         "16722",
         "58b54def",
         "cf77dc8013b38804",
         "2020-11-20 00:00:00",
         "2020-11-21 00:00:00",
         "JBL Quantum 100 Gaming Headset",
         "f5ca",
         "0.0",
         "website",
         "affiliate",
         "unknown",
         "US"
        ],
        [
         "16723",
         "58b54def",
         "cf77dc8013b38805",
         "2020-11-20 00:00:00",
         "2020-11-21 00:00:00",
         "JBL Quantum 100 Gaming Headset",
         "f5ca",
         "0.0",
         "website",
         "affiliate",
         "unknown",
         "US"
        ],
        [
         "17626",
         "73bbc60c",
         "d844c5f2e1149699",
         "2019-07-04 00:00:00",
         "2019-07-06 00:00:00",
         "JBL Quantum 100 Gaming Headset",
         "f5ca",
         "0.0",
         "website",
         "direct",
         "desktop",
         "RU"
        ],
        [
         "18420",
         "7da5fabc",
         "dfc920cda4f53653",
         "2019-10-30 00:00:00",
         "2019-10-31 00:00:00",
         "27in 4K gaming monitor",
         "891b",
         "0.0",
         "website",
         "email",
         "mobile",
         "CA"
        ],
        [
         "21683",
         "f4e3814a",
         "fe600e3fde0103510",
         "2020-03-20 00:00:00",
         "2020-03-23 00:00:00",
         "27in 4K gaming monitor",
         "7f86",
         "0.0",
         "website",
         "direct",
         "desktop",
         "US"
        ]
       ],
       "shape": {
        "columns": 11,
        "rows": 29
       }
      },
      "text/html": [
       "<div>\n",
       "<style scoped>\n",
       "    .dataframe tbody tr th:only-of-type {\n",
       "        vertical-align: middle;\n",
       "    }\n",
       "\n",
       "    .dataframe tbody tr th {\n",
       "        vertical-align: top;\n",
       "    }\n",
       "\n",
       "    .dataframe thead th {\n",
       "        text-align: right;\n",
       "    }\n",
       "</style>\n",
       "<table border=\"1\" class=\"dataframe\">\n",
       "  <thead>\n",
       "    <tr style=\"text-align: right;\">\n",
       "      <th></th>\n",
       "      <th>USER_ID</th>\n",
       "      <th>ORDER_ID</th>\n",
       "      <th>PURCHASE_TS</th>\n",
       "      <th>SHIP_TS</th>\n",
       "      <th>PRODUCT_NAME</th>\n",
       "      <th>PRODUCT_ID</th>\n",
       "      <th>USD_PRICE</th>\n",
       "      <th>PURCHASE_PLATFORM</th>\n",
       "      <th>MARKETING_CHANNEL</th>\n",
       "      <th>ACCOUNT_CREATION_METHOD</th>\n",
       "      <th>COUNTRY_CODE</th>\n",
       "    </tr>\n",
       "  </thead>\n",
       "  <tbody>\n",
       "    <tr>\n",
       "      <th>2191</th>\n",
       "      <td>a701bdf9</td>\n",
       "      <td>1ceddd6a12170762</td>\n",
       "      <td>2020-06-20</td>\n",
       "      <td>2020-06-21</td>\n",
       "      <td>27in 4K gaming monitor</td>\n",
       "      <td>7f86</td>\n",
       "      <td>0.0</td>\n",
       "      <td>website</td>\n",
       "      <td>direct</td>\n",
       "      <td>desktop</td>\n",
       "      <td>US</td>\n",
       "    </tr>\n",
       "    <tr>\n",
       "      <th>2505</th>\n",
       "      <td>85ac39f0</td>\n",
       "      <td>2146feba6e756862</td>\n",
       "      <td>2019-04-30</td>\n",
       "      <td>2019-05-02</td>\n",
       "      <td>27in 4K gaming monitor</td>\n",
       "      <td>7f86</td>\n",
       "      <td>0.0</td>\n",
       "      <td>website</td>\n",
       "      <td>direct</td>\n",
       "      <td>desktop</td>\n",
       "      <td>US</td>\n",
       "    </tr>\n",
       "    <tr>\n",
       "      <th>2680</th>\n",
       "      <td>5fd53171</td>\n",
       "      <td>23940db170e41722</td>\n",
       "      <td>2019-05-04</td>\n",
       "      <td>2019-05-06</td>\n",
       "      <td>JBL Quantum 100 Gaming Headset</td>\n",
       "      <td>f5ca</td>\n",
       "      <td>0.0</td>\n",
       "      <td>website</td>\n",
       "      <td>affiliate</td>\n",
       "      <td>unknown</td>\n",
       "      <td>US</td>\n",
       "    </tr>\n",
       "    <tr>\n",
       "      <th>4564</th>\n",
       "      <td>555eca81</td>\n",
       "      <td>3be225ada5637556</td>\n",
       "      <td>2019-05-24</td>\n",
       "      <td>2019-05-25</td>\n",
       "      <td>27in 4K gaming monitor</td>\n",
       "      <td>7599</td>\n",
       "      <td>0.0</td>\n",
       "      <td>website</td>\n",
       "      <td>direct</td>\n",
       "      <td>desktop</td>\n",
       "      <td>CA</td>\n",
       "    </tr>\n",
       "    <tr>\n",
       "      <th>5276</th>\n",
       "      <td>efe56e44</td>\n",
       "      <td>45a51a63bcd101353</td>\n",
       "      <td>2019-09-26</td>\n",
       "      <td>2019-09-29</td>\n",
       "      <td>JBL Quantum 100 Gaming Headset</td>\n",
       "      <td>f5ca</td>\n",
       "      <td>0.0</td>\n",
       "      <td>website</td>\n",
       "      <td>direct</td>\n",
       "      <td>desktop</td>\n",
       "      <td>GB</td>\n",
       "    </tr>\n",
       "    <tr>\n",
       "      <th>5277</th>\n",
       "      <td>efe56e44</td>\n",
       "      <td>45a51a63bcd101354</td>\n",
       "      <td>2019-09-26</td>\n",
       "      <td>2019-09-29</td>\n",
       "      <td>JBL Quantum 100 Gaming Headset</td>\n",
       "      <td>f5ca</td>\n",
       "      <td>0.0</td>\n",
       "      <td>website</td>\n",
       "      <td>direct</td>\n",
       "      <td>desktop</td>\n",
       "      <td>GB</td>\n",
       "    </tr>\n",
       "    <tr>\n",
       "      <th>5889</th>\n",
       "      <td>6af2bb7f</td>\n",
       "      <td>4d7c9611b7146120</td>\n",
       "      <td>2020-03-09</td>\n",
       "      <td>2020-03-12</td>\n",
       "      <td>JBL Quantum 100 Gaming Headset</td>\n",
       "      <td>f5ca</td>\n",
       "      <td>0.0</td>\n",
       "      <td>website</td>\n",
       "      <td>direct</td>\n",
       "      <td>desktop</td>\n",
       "      <td>US</td>\n",
       "    </tr>\n",
       "    <tr>\n",
       "      <th>5903</th>\n",
       "      <td>640abe84</td>\n",
       "      <td>4dbbfcd41ca43316</td>\n",
       "      <td>2020-11-29</td>\n",
       "      <td>2020-12-02</td>\n",
       "      <td>Dell Gaming Mouse</td>\n",
       "      <td>640d</td>\n",
       "      <td>0.0</td>\n",
       "      <td>website</td>\n",
       "      <td>direct</td>\n",
       "      <td>desktop</td>\n",
       "      <td>US</td>\n",
       "    </tr>\n",
       "    <tr>\n",
       "      <th>6028</th>\n",
       "      <td>eec7e8f6</td>\n",
       "      <td>4fbc71f4344100865</td>\n",
       "      <td>2020-04-03</td>\n",
       "      <td>2020-04-06</td>\n",
       "      <td>JBL Quantum 100 Gaming Headset</td>\n",
       "      <td>f5ca</td>\n",
       "      <td>0.0</td>\n",
       "      <td>website</td>\n",
       "      <td>direct</td>\n",
       "      <td>desktop</td>\n",
       "      <td>US</td>\n",
       "    </tr>\n",
       "    <tr>\n",
       "      <th>6245</th>\n",
       "      <td>29bb865f</td>\n",
       "      <td>524641383d819880</td>\n",
       "      <td>2020-02-17</td>\n",
       "      <td>2020-02-20</td>\n",
       "      <td>JBL Quantum 100 Gaming Headset</td>\n",
       "      <td>f5ca</td>\n",
       "      <td>0.0</td>\n",
       "      <td>website</td>\n",
       "      <td>affiliate</td>\n",
       "      <td>unknown</td>\n",
       "      <td>NL</td>\n",
       "    </tr>\n",
       "    <tr>\n",
       "      <th>6348</th>\n",
       "      <td>ed0176ff</td>\n",
       "      <td>53671a5f98f100127</td>\n",
       "      <td>2020-03-29</td>\n",
       "      <td>2020-03-31</td>\n",
       "      <td>JBL Quantum 100 Gaming Headset</td>\n",
       "      <td>f5ca</td>\n",
       "      <td>0.0</td>\n",
       "      <td>website</td>\n",
       "      <td>direct</td>\n",
       "      <td>desktop</td>\n",
       "      <td>IT</td>\n",
       "    </tr>\n",
       "    <tr>\n",
       "      <th>7980</th>\n",
       "      <td>6078173d</td>\n",
       "      <td>68b8f67360f41966</td>\n",
       "      <td>2020-06-03</td>\n",
       "      <td>2020-06-06</td>\n",
       "      <td>27in 4K gaming monitor</td>\n",
       "      <td>7f86</td>\n",
       "      <td>0.0</td>\n",
       "      <td>website</td>\n",
       "      <td>direct</td>\n",
       "      <td>desktop</td>\n",
       "      <td>US</td>\n",
       "    </tr>\n",
       "    <tr>\n",
       "      <th>8177</th>\n",
       "      <td>8ba7ece7</td>\n",
       "      <td>6b2264bb08b59314</td>\n",
       "      <td>2020-03-02</td>\n",
       "      <td>2020-03-03</td>\n",
       "      <td>JBL Quantum 100 Gaming Headset</td>\n",
       "      <td>f5ca</td>\n",
       "      <td>0.0</td>\n",
       "      <td>website</td>\n",
       "      <td>affiliate</td>\n",
       "      <td>unknown</td>\n",
       "      <td>US</td>\n",
       "    </tr>\n",
       "    <tr>\n",
       "      <th>8544</th>\n",
       "      <td>b50114e3</td>\n",
       "      <td>6fdd55abb5f76670</td>\n",
       "      <td>2019-12-23</td>\n",
       "      <td>2019-12-26</td>\n",
       "      <td>JBL Quantum 100 Gaming Headset</td>\n",
       "      <td>f5ca</td>\n",
       "      <td>0.0</td>\n",
       "      <td>website</td>\n",
       "      <td>direct</td>\n",
       "      <td>desktop</td>\n",
       "      <td>AU</td>\n",
       "    </tr>\n",
       "    <tr>\n",
       "      <th>8545</th>\n",
       "      <td>b50114e3</td>\n",
       "      <td>6fdd55abb5f76671</td>\n",
       "      <td>2019-12-23</td>\n",
       "      <td>2019-12-26</td>\n",
       "      <td>JBL Quantum 100 Gaming Headset</td>\n",
       "      <td>f5ca</td>\n",
       "      <td>0.0</td>\n",
       "      <td>website</td>\n",
       "      <td>direct</td>\n",
       "      <td>desktop</td>\n",
       "      <td>AU</td>\n",
       "    </tr>\n",
       "    <tr>\n",
       "      <th>10156</th>\n",
       "      <td>cc673eb1</td>\n",
       "      <td>8477446ded786340</td>\n",
       "      <td>2019-11-19</td>\n",
       "      <td>2019-11-22</td>\n",
       "      <td>27in 4K gaming monitor</td>\n",
       "      <td>891b</td>\n",
       "      <td>0.0</td>\n",
       "      <td>website</td>\n",
       "      <td>direct</td>\n",
       "      <td>desktop</td>\n",
       "      <td>IN</td>\n",
       "    </tr>\n",
       "    <tr>\n",
       "      <th>10299</th>\n",
       "      <td>e4a73cb4</td>\n",
       "      <td>866ef50c71696571</td>\n",
       "      <td>2019-03-05</td>\n",
       "      <td>2019-03-06</td>\n",
       "      <td>JBL Quantum 100 Gaming Headset</td>\n",
       "      <td>f5ca</td>\n",
       "      <td>0.0</td>\n",
       "      <td>website</td>\n",
       "      <td>social media</td>\n",
       "      <td>tablet</td>\n",
       "      <td>GB</td>\n",
       "    </tr>\n",
       "    <tr>\n",
       "      <th>11497</th>\n",
       "      <td>12159362</td>\n",
       "      <td>95570df7d2b351</td>\n",
       "      <td>2019-12-14</td>\n",
       "      <td>2019-12-17</td>\n",
       "      <td>JBL Quantum 100 Gaming Headset</td>\n",
       "      <td>f5ca</td>\n",
       "      <td>0.0</td>\n",
       "      <td>website</td>\n",
       "      <td>direct</td>\n",
       "      <td>mobile</td>\n",
       "      <td>HK</td>\n",
       "    </tr>\n",
       "    <tr>\n",
       "      <th>13512</th>\n",
       "      <td>9af4724f</td>\n",
       "      <td>adfd0c8ed8e65524</td>\n",
       "      <td>2019-08-21</td>\n",
       "      <td>2019-08-22</td>\n",
       "      <td>27in 4K gaming monitor</td>\n",
       "      <td>7f86</td>\n",
       "      <td>0.0</td>\n",
       "      <td>website</td>\n",
       "      <td>direct</td>\n",
       "      <td>mobile</td>\n",
       "      <td>MY</td>\n",
       "    </tr>\n",
       "    <tr>\n",
       "      <th>13825</th>\n",
       "      <td>62cc65d9</td>\n",
       "      <td>b200d7ad7e842833</td>\n",
       "      <td>2019-04-22</td>\n",
       "      <td>2019-04-23</td>\n",
       "      <td>JBL Quantum 100 Gaming Headset</td>\n",
       "      <td>f5ca</td>\n",
       "      <td>0.0</td>\n",
       "      <td>website</td>\n",
       "      <td>affiliate</td>\n",
       "      <td>unknown</td>\n",
       "      <td>GB</td>\n",
       "    </tr>\n",
       "    <tr>\n",
       "      <th>14084</th>\n",
       "      <td>0c044c53</td>\n",
       "      <td>b51a7bdf4f37931</td>\n",
       "      <td>2019-03-09</td>\n",
       "      <td>2019-03-11</td>\n",
       "      <td>JBL Quantum 100 Gaming Headset</td>\n",
       "      <td>f5ca</td>\n",
       "      <td>0.0</td>\n",
       "      <td>website</td>\n",
       "      <td>direct</td>\n",
       "      <td>desktop</td>\n",
       "      <td>CA</td>\n",
       "    </tr>\n",
       "    <tr>\n",
       "      <th>14086</th>\n",
       "      <td>0bf01cff</td>\n",
       "      <td>b528ed0af2c7902</td>\n",
       "      <td>2020-12-05</td>\n",
       "      <td>2020-12-07</td>\n",
       "      <td>JBL Quantum 100 Gaming Headset</td>\n",
       "      <td>f5ca</td>\n",
       "      <td>0.0</td>\n",
       "      <td>website</td>\n",
       "      <td>direct</td>\n",
       "      <td>desktop</td>\n",
       "      <td>CA</td>\n",
       "    </tr>\n",
       "    <tr>\n",
       "      <th>15217</th>\n",
       "      <td>337a5c9b</td>\n",
       "      <td>c06bc74c56623892</td>\n",
       "      <td>2020-04-23</td>\n",
       "      <td>2020-04-24</td>\n",
       "      <td>JBL Quantum 100 Gaming Headset</td>\n",
       "      <td>f5ca</td>\n",
       "      <td>0.0</td>\n",
       "      <td>website</td>\n",
       "      <td>direct</td>\n",
       "      <td>desktop</td>\n",
       "      <td>US</td>\n",
       "    </tr>\n",
       "    <tr>\n",
       "      <th>15758</th>\n",
       "      <td>f98d3ee4</td>\n",
       "      <td>c5c9a836518105426</td>\n",
       "      <td>2019-08-21</td>\n",
       "      <td>2019-08-22</td>\n",
       "      <td>JBL Quantum 100 Gaming Headset</td>\n",
       "      <td>f5ca</td>\n",
       "      <td>0.0</td>\n",
       "      <td>website</td>\n",
       "      <td>direct</td>\n",
       "      <td>desktop</td>\n",
       "      <td>US</td>\n",
       "    </tr>\n",
       "    <tr>\n",
       "      <th>16722</th>\n",
       "      <td>58b54def</td>\n",
       "      <td>cf77dc8013b38804</td>\n",
       "      <td>2020-11-20</td>\n",
       "      <td>2020-11-21</td>\n",
       "      <td>JBL Quantum 100 Gaming Headset</td>\n",
       "      <td>f5ca</td>\n",
       "      <td>0.0</td>\n",
       "      <td>website</td>\n",
       "      <td>affiliate</td>\n",
       "      <td>unknown</td>\n",
       "      <td>US</td>\n",
       "    </tr>\n",
       "    <tr>\n",
       "      <th>16723</th>\n",
       "      <td>58b54def</td>\n",
       "      <td>cf77dc8013b38805</td>\n",
       "      <td>2020-11-20</td>\n",
       "      <td>2020-11-21</td>\n",
       "      <td>JBL Quantum 100 Gaming Headset</td>\n",
       "      <td>f5ca</td>\n",
       "      <td>0.0</td>\n",
       "      <td>website</td>\n",
       "      <td>affiliate</td>\n",
       "      <td>unknown</td>\n",
       "      <td>US</td>\n",
       "    </tr>\n",
       "    <tr>\n",
       "      <th>17626</th>\n",
       "      <td>73bbc60c</td>\n",
       "      <td>d844c5f2e1149699</td>\n",
       "      <td>2019-07-04</td>\n",
       "      <td>2019-07-06</td>\n",
       "      <td>JBL Quantum 100 Gaming Headset</td>\n",
       "      <td>f5ca</td>\n",
       "      <td>0.0</td>\n",
       "      <td>website</td>\n",
       "      <td>direct</td>\n",
       "      <td>desktop</td>\n",
       "      <td>RU</td>\n",
       "    </tr>\n",
       "    <tr>\n",
       "      <th>18420</th>\n",
       "      <td>7da5fabc</td>\n",
       "      <td>dfc920cda4f53653</td>\n",
       "      <td>2019-10-30</td>\n",
       "      <td>2019-10-31</td>\n",
       "      <td>27in 4K gaming monitor</td>\n",
       "      <td>891b</td>\n",
       "      <td>0.0</td>\n",
       "      <td>website</td>\n",
       "      <td>email</td>\n",
       "      <td>mobile</td>\n",
       "      <td>CA</td>\n",
       "    </tr>\n",
       "    <tr>\n",
       "      <th>21683</th>\n",
       "      <td>f4e3814a</td>\n",
       "      <td>fe600e3fde0103510</td>\n",
       "      <td>2020-03-20</td>\n",
       "      <td>2020-03-23</td>\n",
       "      <td>27in 4K gaming monitor</td>\n",
       "      <td>7f86</td>\n",
       "      <td>0.0</td>\n",
       "      <td>website</td>\n",
       "      <td>direct</td>\n",
       "      <td>desktop</td>\n",
       "      <td>US</td>\n",
       "    </tr>\n",
       "  </tbody>\n",
       "</table>\n",
       "</div>"
      ],
      "text/plain": [
       "        USER_ID           ORDER_ID PURCHASE_TS    SHIP_TS  \\\n",
       "2191   a701bdf9   1ceddd6a12170762  2020-06-20 2020-06-21   \n",
       "2505   85ac39f0   2146feba6e756862  2019-04-30 2019-05-02   \n",
       "2680   5fd53171   23940db170e41722  2019-05-04 2019-05-06   \n",
       "4564   555eca81   3be225ada5637556  2019-05-24 2019-05-25   \n",
       "5276   efe56e44  45a51a63bcd101353  2019-09-26 2019-09-29   \n",
       "5277   efe56e44  45a51a63bcd101354  2019-09-26 2019-09-29   \n",
       "5889   6af2bb7f   4d7c9611b7146120  2020-03-09 2020-03-12   \n",
       "5903   640abe84   4dbbfcd41ca43316  2020-11-29 2020-12-02   \n",
       "6028   eec7e8f6  4fbc71f4344100865  2020-04-03 2020-04-06   \n",
       "6245   29bb865f   524641383d819880  2020-02-17 2020-02-20   \n",
       "6348   ed0176ff  53671a5f98f100127  2020-03-29 2020-03-31   \n",
       "7980   6078173d   68b8f67360f41966  2020-06-03 2020-06-06   \n",
       "8177   8ba7ece7   6b2264bb08b59314  2020-03-02 2020-03-03   \n",
       "8544   b50114e3   6fdd55abb5f76670  2019-12-23 2019-12-26   \n",
       "8545   b50114e3   6fdd55abb5f76671  2019-12-23 2019-12-26   \n",
       "10156  cc673eb1   8477446ded786340  2019-11-19 2019-11-22   \n",
       "10299  e4a73cb4   866ef50c71696571  2019-03-05 2019-03-06   \n",
       "11497  12159362     95570df7d2b351  2019-12-14 2019-12-17   \n",
       "13512  9af4724f   adfd0c8ed8e65524  2019-08-21 2019-08-22   \n",
       "13825  62cc65d9   b200d7ad7e842833  2019-04-22 2019-04-23   \n",
       "14084  0c044c53    b51a7bdf4f37931  2019-03-09 2019-03-11   \n",
       "14086  0bf01cff    b528ed0af2c7902  2020-12-05 2020-12-07   \n",
       "15217  337a5c9b   c06bc74c56623892  2020-04-23 2020-04-24   \n",
       "15758  f98d3ee4  c5c9a836518105426  2019-08-21 2019-08-22   \n",
       "16722  58b54def   cf77dc8013b38804  2020-11-20 2020-11-21   \n",
       "16723  58b54def   cf77dc8013b38805  2020-11-20 2020-11-21   \n",
       "17626  73bbc60c   d844c5f2e1149699  2019-07-04 2019-07-06   \n",
       "18420  7da5fabc   dfc920cda4f53653  2019-10-30 2019-10-31   \n",
       "21683  f4e3814a  fe600e3fde0103510  2020-03-20 2020-03-23   \n",
       "\n",
       "                         PRODUCT_NAME PRODUCT_ID  USD_PRICE PURCHASE_PLATFORM  \\\n",
       "2191           27in 4K gaming monitor       7f86        0.0           website   \n",
       "2505           27in 4K gaming monitor       7f86        0.0           website   \n",
       "2680   JBL Quantum 100 Gaming Headset       f5ca        0.0           website   \n",
       "4564           27in 4K gaming monitor       7599        0.0           website   \n",
       "5276   JBL Quantum 100 Gaming Headset       f5ca        0.0           website   \n",
       "5277   JBL Quantum 100 Gaming Headset       f5ca        0.0           website   \n",
       "5889   JBL Quantum 100 Gaming Headset       f5ca        0.0           website   \n",
       "5903                Dell Gaming Mouse       640d        0.0           website   \n",
       "6028   JBL Quantum 100 Gaming Headset       f5ca        0.0           website   \n",
       "6245   JBL Quantum 100 Gaming Headset       f5ca        0.0           website   \n",
       "6348   JBL Quantum 100 Gaming Headset       f5ca        0.0           website   \n",
       "7980           27in 4K gaming monitor       7f86        0.0           website   \n",
       "8177   JBL Quantum 100 Gaming Headset       f5ca        0.0           website   \n",
       "8544   JBL Quantum 100 Gaming Headset       f5ca        0.0           website   \n",
       "8545   JBL Quantum 100 Gaming Headset       f5ca        0.0           website   \n",
       "10156          27in 4K gaming monitor       891b        0.0           website   \n",
       "10299  JBL Quantum 100 Gaming Headset       f5ca        0.0           website   \n",
       "11497  JBL Quantum 100 Gaming Headset       f5ca        0.0           website   \n",
       "13512          27in 4K gaming monitor       7f86        0.0           website   \n",
       "13825  JBL Quantum 100 Gaming Headset       f5ca        0.0           website   \n",
       "14084  JBL Quantum 100 Gaming Headset       f5ca        0.0           website   \n",
       "14086  JBL Quantum 100 Gaming Headset       f5ca        0.0           website   \n",
       "15217  JBL Quantum 100 Gaming Headset       f5ca        0.0           website   \n",
       "15758  JBL Quantum 100 Gaming Headset       f5ca        0.0           website   \n",
       "16722  JBL Quantum 100 Gaming Headset       f5ca        0.0           website   \n",
       "16723  JBL Quantum 100 Gaming Headset       f5ca        0.0           website   \n",
       "17626  JBL Quantum 100 Gaming Headset       f5ca        0.0           website   \n",
       "18420          27in 4K gaming monitor       891b        0.0           website   \n",
       "21683          27in 4K gaming monitor       7f86        0.0           website   \n",
       "\n",
       "      MARKETING_CHANNEL ACCOUNT_CREATION_METHOD COUNTRY_CODE  \n",
       "2191             direct                 desktop           US  \n",
       "2505             direct                 desktop           US  \n",
       "2680          affiliate                 unknown           US  \n",
       "4564             direct                 desktop           CA  \n",
       "5276             direct                 desktop           GB  \n",
       "5277             direct                 desktop           GB  \n",
       "5889             direct                 desktop           US  \n",
       "5903             direct                 desktop           US  \n",
       "6028             direct                 desktop           US  \n",
       "6245          affiliate                 unknown           NL  \n",
       "6348             direct                 desktop           IT  \n",
       "7980             direct                 desktop           US  \n",
       "8177          affiliate                 unknown           US  \n",
       "8544             direct                 desktop           AU  \n",
       "8545             direct                 desktop           AU  \n",
       "10156            direct                 desktop           IN  \n",
       "10299      social media                  tablet           GB  \n",
       "11497            direct                  mobile           HK  \n",
       "13512            direct                  mobile           MY  \n",
       "13825         affiliate                 unknown           GB  \n",
       "14084            direct                 desktop           CA  \n",
       "14086            direct                 desktop           CA  \n",
       "15217            direct                 desktop           US  \n",
       "15758            direct                 desktop           US  \n",
       "16722         affiliate                 unknown           US  \n",
       "16723         affiliate                 unknown           US  \n",
       "17626            direct                 desktop           RU  \n",
       "18420             email                  mobile           CA  \n",
       "21683            direct                 desktop           US  "
      ]
     },
     "execution_count": 38,
     "metadata": {},
     "output_type": "execute_result"
    }
   ],
   "source": [
    "# $0 or negative values\n",
    "df[df['USD_PRICE'] <= 0]"
   ]
  },
  {
   "cell_type": "code",
   "execution_count": 40,
   "id": "7cd760f7",
   "metadata": {},
   "outputs": [
    {
     "data": {
      "application/vnd.microsoft.datawrangler.viewer.v0+json": {
       "columns": [
        {
         "name": "PRODUCT_NAME",
         "rawType": "object",
         "type": "string"
        },
        {
         "name": "count",
         "rawType": "int64",
         "type": "integer"
        }
       ],
       "ref": "0035b09b-c9b9-4899-ba2c-ecc803b79089",
       "rows": [
        [
         "JBL Quantum 100 Gaming Headset",
         "20"
        ],
        [
         "27in 4K gaming monitor",
         "8"
        ],
        [
         "Dell Gaming Mouse",
         "1"
        ]
       ],
       "shape": {
        "columns": 1,
        "rows": 3
       }
      },
      "text/plain": [
       "PRODUCT_NAME\n",
       "JBL Quantum 100 Gaming Headset    20\n",
       "27in 4K gaming monitor             8\n",
       "Dell Gaming Mouse                  1\n",
       "Name: count, dtype: int64"
      ]
     },
     "execution_count": 40,
     "metadata": {},
     "output_type": "execute_result"
    }
   ],
   "source": [
    "df[df['USD_PRICE'] <= 0]['PRODUCT_NAME'].value_counts()"
   ]
  },
  {
   "cell_type": "markdown",
   "id": "754dd21b",
   "metadata": {},
   "source": [
    "There are 29 rows with $0.0 price.<br>\n",
    "I'm keeping these values. However, we can treat this values just like missing values, so if we want to fill them, we can using the average price."
   ]
  },
  {
   "cell_type": "code",
   "execution_count": null,
   "id": "dfd5e0b0",
   "metadata": {},
   "outputs": [
    {
     "data": {
      "application/vnd.microsoft.datawrangler.viewer.v0+json": {
       "columns": [
        {
         "name": "index",
         "rawType": "int64",
         "type": "integer"
        },
        {
         "name": "PRODUCT_NAME",
         "rawType": "object",
         "type": "string"
        },
        {
         "name": "USD_PRICE",
         "rawType": "float64",
         "type": "float"
        },
        {
         "name": "PURCHASE_TS",
         "rawType": "datetime64[ns]",
         "type": "datetime"
        }
       ],
       "ref": "55718854-fb74-40b3-8ead-d12b09d4e908",
       "rows": [
        [
         "728",
         "JBL Quantum 100 Gaming Headset",
         "6.11",
         "2020-09-26 00:00:00"
        ],
        [
         "9693",
         "JBL Quantum 100 Gaming Headset",
         "6.11",
         "2020-12-09 00:00:00"
        ],
        [
         "19068",
         "JBL Quantum 100 Gaming Headset",
         "6.11",
         "2020-12-02 00:00:00"
        ]
       ],
       "shape": {
        "columns": 3,
        "rows": 3
       }
      },
      "text/html": [
       "<div>\n",
       "<style scoped>\n",
       "    .dataframe tbody tr th:only-of-type {\n",
       "        vertical-align: middle;\n",
       "    }\n",
       "\n",
       "    .dataframe tbody tr th {\n",
       "        vertical-align: top;\n",
       "    }\n",
       "\n",
       "    .dataframe thead th {\n",
       "        text-align: right;\n",
       "    }\n",
       "</style>\n",
       "<table border=\"1\" class=\"dataframe\">\n",
       "  <thead>\n",
       "    <tr style=\"text-align: right;\">\n",
       "      <th></th>\n",
       "      <th>PRODUCT_NAME</th>\n",
       "      <th>USD_PRICE</th>\n",
       "      <th>PURCHASE_TS</th>\n",
       "    </tr>\n",
       "  </thead>\n",
       "  <tbody>\n",
       "    <tr>\n",
       "      <th>728</th>\n",
       "      <td>JBL Quantum 100 Gaming Headset</td>\n",
       "      <td>6.11</td>\n",
       "      <td>2020-09-26</td>\n",
       "    </tr>\n",
       "    <tr>\n",
       "      <th>9693</th>\n",
       "      <td>JBL Quantum 100 Gaming Headset</td>\n",
       "      <td>6.11</td>\n",
       "      <td>2020-12-09</td>\n",
       "    </tr>\n",
       "    <tr>\n",
       "      <th>19068</th>\n",
       "      <td>JBL Quantum 100 Gaming Headset</td>\n",
       "      <td>6.11</td>\n",
       "      <td>2020-12-02</td>\n",
       "    </tr>\n",
       "  </tbody>\n",
       "</table>\n",
       "</div>"
      ],
      "text/plain": [
       "                         PRODUCT_NAME  USD_PRICE PURCHASE_TS\n",
       "728    JBL Quantum 100 Gaming Headset       6.11  2020-09-26\n",
       "9693   JBL Quantum 100 Gaming Headset       6.11  2020-12-09\n",
       "19068  JBL Quantum 100 Gaming Headset       6.11  2020-12-02"
      ]
     },
     "execution_count": 42,
     "metadata": {},
     "output_type": "execute_result"
    }
   ],
   "source": [
    "valid_prices = df[df['USD_PRICE'] > 0]\n",
    "\n",
    "# cheapest product in the dataset\n",
    "valid_prices[valid_prices['USD_PRICE'] == valid_prices['USD_PRICE'].min()][['PRODUCT_NAME', 'USD_PRICE', 'PURCHASE_TS']]"
   ]
  },
  {
   "cell_type": "code",
   "execution_count": 43,
   "id": "deca0f3b",
   "metadata": {},
   "outputs": [
    {
     "data": {
      "application/vnd.microsoft.datawrangler.viewer.v0+json": {
       "columns": [
        {
         "name": "index",
         "rawType": "int64",
         "type": "integer"
        },
        {
         "name": "PRODUCT_NAME",
         "rawType": "object",
         "type": "string"
        },
        {
         "name": "USD_PRICE",
         "rawType": "float64",
         "type": "float"
        },
        {
         "name": "PURCHASE_TS",
         "rawType": "datetime64[ns]",
         "type": "datetime"
        }
       ],
       "ref": "569db596-d0d8-451d-8a2b-52506a4769c5",
       "rows": [
        [
         "19196",
         "Sony PlayStation 5 Bundle",
         "3146.88",
         "2019-05-19 00:00:00"
        ]
       ],
       "shape": {
        "columns": 3,
        "rows": 1
       }
      },
      "text/html": [
       "<div>\n",
       "<style scoped>\n",
       "    .dataframe tbody tr th:only-of-type {\n",
       "        vertical-align: middle;\n",
       "    }\n",
       "\n",
       "    .dataframe tbody tr th {\n",
       "        vertical-align: top;\n",
       "    }\n",
       "\n",
       "    .dataframe thead th {\n",
       "        text-align: right;\n",
       "    }\n",
       "</style>\n",
       "<table border=\"1\" class=\"dataframe\">\n",
       "  <thead>\n",
       "    <tr style=\"text-align: right;\">\n",
       "      <th></th>\n",
       "      <th>PRODUCT_NAME</th>\n",
       "      <th>USD_PRICE</th>\n",
       "      <th>PURCHASE_TS</th>\n",
       "    </tr>\n",
       "  </thead>\n",
       "  <tbody>\n",
       "    <tr>\n",
       "      <th>19196</th>\n",
       "      <td>Sony PlayStation 5 Bundle</td>\n",
       "      <td>3146.88</td>\n",
       "      <td>2019-05-19</td>\n",
       "    </tr>\n",
       "  </tbody>\n",
       "</table>\n",
       "</div>"
      ],
      "text/plain": [
       "                    PRODUCT_NAME  USD_PRICE PURCHASE_TS\n",
       "19196  Sony PlayStation 5 Bundle    3146.88  2019-05-19"
      ]
     },
     "execution_count": 43,
     "metadata": {},
     "output_type": "execute_result"
    }
   ],
   "source": [
    "# most expensive product\n",
    "valid_prices[valid_prices['USD_PRICE'] == valid_prices['USD_PRICE'].max()][['PRODUCT_NAME', 'USD_PRICE', 'PURCHASE_TS']]"
   ]
  },
  {
   "cell_type": "markdown",
   "id": "3de61b7b",
   "metadata": {},
   "source": [
    "### `PURCHASE_PLATFORM`"
   ]
  },
  {
   "cell_type": "code",
   "execution_count": 45,
   "id": "47d569ba",
   "metadata": {},
   "outputs": [
    {
     "data": {
      "text/plain": [
       "np.int64(0)"
      ]
     },
     "execution_count": 45,
     "metadata": {},
     "output_type": "execute_result"
    }
   ],
   "source": [
    "df['PURCHASE_PLATFORM'].isna().sum()"
   ]
  },
  {
   "cell_type": "code",
   "execution_count": 46,
   "id": "89336fd2",
   "metadata": {},
   "outputs": [
    {
     "data": {
      "application/vnd.microsoft.datawrangler.viewer.v0+json": {
       "columns": [
        {
         "name": "PURCHASE_PLATFORM",
         "rawType": "object",
         "type": "string"
        },
        {
         "name": "count",
         "rawType": "int64",
         "type": "integer"
        }
       ],
       "ref": "a797929f-c890-418e-a4bd-d7a139178d64",
       "rows": [
        [
         "website",
         "19642"
        ],
        [
         "mobile app",
         "2077"
        ]
       ],
       "shape": {
        "columns": 1,
        "rows": 2
       }
      },
      "text/plain": [
       "PURCHASE_PLATFORM\n",
       "website       19642\n",
       "mobile app     2077\n",
       "Name: count, dtype: int64"
      ]
     },
     "execution_count": 46,
     "metadata": {},
     "output_type": "execute_result"
    }
   ],
   "source": [
    "df['PURCHASE_PLATFORM'].value_counts()"
   ]
  },
  {
   "cell_type": "markdown",
   "id": "8591136a",
   "metadata": {},
   "source": [
    "### `MARKETING_CHANNEL`"
   ]
  },
  {
   "cell_type": "code",
   "execution_count": 47,
   "id": "544f5c76",
   "metadata": {},
   "outputs": [
    {
     "data": {
      "text/plain": [
       "np.int64(83)"
      ]
     },
     "execution_count": 47,
     "metadata": {},
     "output_type": "execute_result"
    }
   ],
   "source": [
    "df['MARKETING_CHANNEL'].isna().sum()"
   ]
  },
  {
   "cell_type": "code",
   "execution_count": 48,
   "id": "0d2ec28e",
   "metadata": {},
   "outputs": [
    {
     "data": {
      "application/vnd.microsoft.datawrangler.viewer.v0+json": {
       "columns": [
        {
         "name": "MARKETING_CHANNEL",
         "rawType": "object",
         "type": "string"
        },
        {
         "name": "count",
         "rawType": "int64",
         "type": "integer"
        }
       ],
       "ref": "b8805dbc-5390-4a2e-b482-36bf23d17130",
       "rows": [
        [
         "direct",
         "17316"
        ],
        [
         "email",
         "3240"
        ],
        [
         "affiliate",
         "714"
        ],
        [
         "social media",
         "320"
        ],
        [
         "unknown",
         "46"
        ]
       ],
       "shape": {
        "columns": 1,
        "rows": 5
       }
      },
      "text/plain": [
       "MARKETING_CHANNEL\n",
       "direct          17316\n",
       "email            3240\n",
       "affiliate         714\n",
       "social media      320\n",
       "unknown            46\n",
       "Name: count, dtype: int64"
      ]
     },
     "execution_count": 48,
     "metadata": {},
     "output_type": "execute_result"
    }
   ],
   "source": [
    "df['MARKETING_CHANNEL'].value_counts()"
   ]
  },
  {
   "cell_type": "markdown",
   "id": "2d5f883e",
   "metadata": {},
   "source": [
    "Notice that we have an unknown category, maybe we can fill the missing values with this category for analysis."
   ]
  },
  {
   "cell_type": "markdown",
   "id": "c421331b",
   "metadata": {},
   "source": [
    "### `ACCOUNT_CREATION_METHOD`"
   ]
  },
  {
   "cell_type": "code",
   "execution_count": 49,
   "id": "b2ec2605",
   "metadata": {},
   "outputs": [
    {
     "data": {
      "text/plain": [
       "np.int64(83)"
      ]
     },
     "execution_count": 49,
     "metadata": {},
     "output_type": "execute_result"
    }
   ],
   "source": [
    "df['ACCOUNT_CREATION_METHOD'].isna().sum()"
   ]
  },
  {
   "cell_type": "code",
   "execution_count": 50,
   "id": "cce52b9c",
   "metadata": {},
   "outputs": [
    {
     "data": {
      "application/vnd.microsoft.datawrangler.viewer.v0+json": {
       "columns": [
        {
         "name": "ACCOUNT_CREATION_METHOD",
         "rawType": "object",
         "type": "string"
        },
        {
         "name": "count",
         "rawType": "int64",
         "type": "integer"
        }
       ],
       "ref": "b2081694-bd4d-467a-9277-552b169693d9",
       "rows": [
        [
         "desktop",
         "16331"
        ],
        [
         "mobile",
         "4225"
        ],
        [
         "unknown",
         "735"
        ],
        [
         "tablet",
         "320"
        ],
        [
         "tv",
         "25"
        ]
       ],
       "shape": {
        "columns": 1,
        "rows": 5
       }
      },
      "text/plain": [
       "ACCOUNT_CREATION_METHOD\n",
       "desktop    16331\n",
       "mobile      4225\n",
       "unknown      735\n",
       "tablet       320\n",
       "tv            25\n",
       "Name: count, dtype: int64"
      ]
     },
     "execution_count": 50,
     "metadata": {},
     "output_type": "execute_result"
    }
   ],
   "source": [
    "df['ACCOUNT_CREATION_METHOD'].value_counts()"
   ]
  },
  {
   "cell_type": "code",
   "execution_count": 51,
   "id": "05d84155",
   "metadata": {},
   "outputs": [
    {
     "data": {
      "application/vnd.microsoft.datawrangler.viewer.v0+json": {
       "columns": [
        {
         "name": "index",
         "rawType": "int64",
         "type": "integer"
        },
        {
         "name": "USER_ID",
         "rawType": "object",
         "type": "string"
        },
        {
         "name": "ORDER_ID",
         "rawType": "object",
         "type": "string"
        },
        {
         "name": "PURCHASE_TS",
         "rawType": "datetime64[ns]",
         "type": "datetime"
        },
        {
         "name": "SHIP_TS",
         "rawType": "datetime64[ns]",
         "type": "datetime"
        },
        {
         "name": "PRODUCT_NAME",
         "rawType": "object",
         "type": "string"
        },
        {
         "name": "PRODUCT_ID",
         "rawType": "object",
         "type": "unknown"
        },
        {
         "name": "USD_PRICE",
         "rawType": "float64",
         "type": "float"
        },
        {
         "name": "PURCHASE_PLATFORM",
         "rawType": "object",
         "type": "string"
        },
        {
         "name": "MARKETING_CHANNEL",
         "rawType": "object",
         "type": "unknown"
        },
        {
         "name": "ACCOUNT_CREATION_METHOD",
         "rawType": "object",
         "type": "unknown"
        },
        {
         "name": "COUNTRY_CODE",
         "rawType": "object",
         "type": "string"
        }
       ],
       "ref": "6c8aaf46-996e-4a26-add9-9a65db45e450",
       "rows": [
        [
         "243",
         "da197ff9",
         "033d64725cc92138",
         "2020-08-17 00:00:00",
         "2020-06-11 00:00:00",
         "JBL Quantum 100 Gaming Headset",
         "2997",
         "24.0",
         "mobile app",
         null,
         null,
         "US"
        ],
        [
         "563",
         "398d3631",
         "079158acb8d26288",
         "2020-07-29 00:00:00",
         "2020-04-27 00:00:00",
         "Nintendo Switch",
         "e682",
         "168.0",
         "website",
         null,
         null,
         "US"
        ],
        [
         "783",
         "e278a2a8",
         "0a7be61380495673",
         "2020-12-11 00:00:00",
         "2020-10-09 00:00:00",
         "Dell Gaming Mouse",
         "f81e",
         "49.98",
         "mobile app",
         null,
         null,
         "US"
        ],
        [
         "1495",
         "5a79012a",
         "1377b7d717d39556",
         "2020-08-13 00:00:00",
         "2020-06-09 00:00:00",
         "Nintendo Switch",
         "8d0d",
         "155.08",
         "website",
         null,
         null,
         "JP"
        ],
        [
         "1642",
         "5fe4e093",
         "1567779706d41744",
         "2020-09-29 00:00:00",
         "2020-05-31 00:00:00",
         "Nintendo Switch",
         "e682",
         "177.11",
         "website",
         null,
         null,
         "GB"
        ],
        [
         "1862",
         "e818bd8b",
         "1865595427b98038",
         "2020-11-19 00:00:00",
         "2020-07-03 00:00:00",
         "Nintendo Switch",
         "e682",
         "160.34",
         "website",
         null,
         null,
         "DE"
        ],
        [
         "2483",
         "277d6591",
         "20e4073740119000",
         "2020-08-23 00:00:00",
         "2020-08-26 00:00:00",
         "Nintendo Switch",
         "e682",
         "177.11",
         "website",
         null,
         null,
         "GB"
        ],
        [
         "2989",
         "f7691bc6",
         "27aa87bf00a104537",
         "2020-11-19 00:00:00",
         "2020-11-21 00:00:00",
         "27in 4K gaming monitor",
         "891b",
         "348.48",
         "website",
         null,
         null,
         "GB"
        ],
        [
         "3461",
         "f26aa495",
         "2de8fdd5395102435",
         "2020-07-31 00:00:00",
         "2020-08-03 00:00:00",
         "Nintendo Switch",
         "e682",
         "177.11",
         "website",
         null,
         null,
         "GB"
        ],
        [
         "3595",
         "bb19987f",
         "2fc913fce7179240",
         "2020-12-21 00:00:00",
         "2020-12-22 00:00:00",
         "Nintendo Switch",
         "e682",
         "188.15",
         "website",
         null,
         null,
         "GB"
        ],
        [
         "3596",
         "bb19987f",
         "2fc913fce7179241",
         "2020-12-21 00:00:00",
         "2020-12-22 00:00:00",
         "Nintendo Switch",
         "e682",
         "188.15",
         "website",
         null,
         null,
         "GB"
        ],
        [
         "3655",
         "35c3e629",
         "308859f2dd724770",
         "2020-08-16 00:00:00",
         "2020-08-18 00:00:00",
         "27in 4K gaming monitor",
         "891b",
         "480.0",
         "website",
         null,
         null,
         "ZA"
        ],
        [
         "3962",
         "5c70f852",
         "3462d5ee01140364",
         "2020-09-24 00:00:00",
         "2020-09-27 00:00:00",
         "Nintendo Switch",
         "e682",
         "168.0",
         "website",
         null,
         null,
         "US"
        ],
        [
         "4013",
         "8772c820",
         "3512c29e6ba57570",
         "2020-12-29 00:00:00",
         "2021-01-01 00:00:00",
         "Dell Gaming Mouse",
         "8d4f",
         "51.03",
         "mobile app",
         null,
         null,
         "CA"
        ],
        [
         "4251",
         "b6b25998",
         "383590141a177403",
         "2020-12-27 00:00:00",
         "2020-12-30 00:00:00",
         "Nintendo Switch",
         "8d0d",
         "168.0",
         "website",
         null,
         null,
         "PE"
        ],
        [
         "4417",
         "1c600a19",
         "3a2d564383b14581",
         "2020-08-09 00:00:00",
         "2020-08-11 00:00:00",
         "Nintendo Switch",
         "e682",
         "142.02",
         "website",
         null,
         null,
         "AU"
        ],
        [
         "4495",
         "43c1f3fb",
         "3b1ae5a0e3630511",
         "2020-04-05 00:00:00",
         "2020-04-08 00:00:00",
         "JBL Quantum 100 Gaming Headset",
         "ab0f",
         "20.4",
         "website",
         null,
         null,
         "US"
        ],
        [
         "4910",
         "05b7c8a1",
         "40c1483aeb15454",
         "2020-12-27 00:00:00",
         "2020-12-29 00:00:00",
         "Acer Nitro V Gaming Laptop",
         "22ea",
         "798.0",
         "website",
         null,
         null,
         "US"
        ],
        [
         "5316",
         "69bf8eef",
         "464abe45aa145644",
         "2020-08-28 00:00:00",
         "2020-08-29 00:00:00",
         "Nintendo Switch",
         "8d0d",
         "168.0",
         "website",
         null,
         null,
         "US"
        ],
        [
         "5522",
         "2a421c2d",
         "48b9d18ca7c20109",
         "2020-05-13 00:00:00",
         "2020-05-15 00:00:00",
         "Nintendo Switch",
         "e682",
         "168.0",
         "website",
         null,
         null,
         "US"
        ],
        [
         "5645",
         "e64fd5f4",
         "4a2990e26db97284",
         "2020-03-15 00:00:00",
         "2020-03-18 00:00:00",
         "JBL Quantum 100 Gaming Headset",
         "ab0f",
         "24.0",
         "website",
         null,
         null,
         "US"
        ],
        [
         "5679",
         "f4fc83ae",
         "4a9251b6e0a103553",
         "2020-06-19 00:00:00",
         "2020-06-22 00:00:00",
         "JBL Quantum 100 Gaming Headset",
         "ab0f",
         "24.0",
         "website",
         null,
         null,
         "US"
        ],
        [
         "5777",
         "e2639e7d",
         "4bcd0a3832f95640",
         "2020-08-24 00:00:00",
         "2020-08-26 00:00:00",
         "Lenovo IdeaPad Gaming 3",
         "9ef0",
         "1198.0",
         "website",
         null,
         null,
         "US"
        ],
        [
         "5802",
         "ede3306d",
         "4c2c6e0ed4c100479",
         "2020-09-02 00:00:00",
         "2020-09-05 00:00:00",
         "Lenovo IdeaPad Gaming 3",
         "9ef0",
         "1083.23",
         "website",
         null,
         null,
         "SG"
        ],
        [
         "6403",
         "c5b04e59",
         "5456828710183655",
         "2020-07-10 00:00:00",
         "2020-07-11 00:00:00",
         "JBL Quantum 100 Gaming Headset",
         "ab0f",
         "18.34",
         "website",
         null,
         null,
         "CA"
        ],
        [
         "7091",
         "01055ac2",
         "5d61ff8c97f3592",
         "2020-11-24 00:00:00",
         "2020-11-26 00:00:00",
         "Nintendo Switch",
         "8d0d",
         "151.2",
         "website",
         null,
         null,
         "US"
        ],
        [
         "7256",
         "f34e584a",
         "5f7fb87c1ad102836",
         "2020-05-25 00:00:00",
         "2020-05-27 00:00:00",
         "JBL Quantum 100 Gaming Headset",
         "ab0f",
         "24.88",
         "website",
         null,
         null,
         "GB"
        ],
        [
         "7430",
         "3b5b4329",
         "61b2561e62727037",
         "2020-12-18 00:00:00",
         "2020-12-20 00:00:00",
         "Nintendo Switch",
         "e682",
         "168.0",
         "website",
         null,
         null,
         "US"
        ],
        [
         "8519",
         "7599b48a",
         "6f9763d8d2a50420",
         "2020-08-09 00:00:00",
         "2020-08-10 00:00:00",
         "Nintendo Switch",
         "8d0d",
         "155.08",
         "website",
         null,
         null,
         "JP"
        ],
        [
         "8532",
         "84501b96",
         "6fbebc016ef56292",
         "2020-07-31 00:00:00",
         "2020-08-01 00:00:00",
         "Nintendo Switch",
         "e682",
         "168.0",
         "website",
         null,
         null,
         "US"
        ],
        [
         "8566",
         "94a041c9",
         "702d33ac1c162976",
         "2020-06-12 00:00:00",
         "2020-06-14 00:00:00",
         "27in 4K gaming monitor",
         "891b",
         "480.0",
         "website",
         null,
         null,
         "US"
        ],
        [
         "8860",
         "f7990d43",
         "740f71c3553104607",
         "2020-07-26 00:00:00",
         "2020-07-29 00:00:00",
         "Nintendo Switch",
         "8e5d",
         "160.46",
         "mobile app",
         null,
         null,
         "US"
        ],
        [
         "8861",
         "f7990d43",
         "740f71c3553104608",
         "2020-07-26 00:00:00",
         "2020-07-29 00:00:00",
         "Nintendo Switch",
         "8e5d",
         "160.46",
         "mobile app",
         null,
         null,
         "US"
        ],
        [
         "8888",
         "8687f83e",
         "7463eea178e57220",
         "2020-08-16 00:00:00",
         "2020-08-19 00:00:00",
         "Nintendo Switch",
         "e682",
         "155.85",
         "website",
         null,
         null,
         "JP"
        ],
        [
         "8905",
         "c5b04e59",
         "748598e900f83656",
         "2020-05-08 00:00:00",
         "2020-05-10 00:00:00",
         "27in 4K gaming monitor",
         "891b",
         "406.22",
         "website",
         null,
         null,
         "CA"
        ],
        [
         "9812",
         "074d85f3",
         "7fe7a00f3266052",
         "2020-08-03 00:00:00",
         "2020-08-05 00:00:00",
         "Nintendo Switch",
         "e682",
         "168.0",
         "website",
         null,
         null,
         "US"
        ],
        [
         "9923",
         "adb815c8",
         "8160efb73ae73620",
         "2020-03-06 00:00:00",
         "2020-03-09 00:00:00",
         "Nintendo Switch",
         "8d0d",
         "168.0",
         "website",
         null,
         null,
         "US"
        ],
        [
         "10388",
         "e084adaa",
         "87743aaa04894933",
         "2020-05-07 00:00:00",
         "2020-05-08 00:00:00",
         "Nintendo Switch",
         "8d0d",
         "168.0",
         "website",
         null,
         null,
         "US"
        ],
        [
         "10663",
         "ab2de8ae",
         "8aba135299972580",
         "2020-08-02 00:00:00",
         "2020-08-04 00:00:00",
         "Nintendo Switch",
         "8d0d",
         "168.0",
         "website",
         null,
         null,
         "US"
        ],
        [
         "10670",
         "2df059f1",
         "8acc2e7da0f21602",
         "2020-08-15 00:00:00",
         "2020-08-18 00:00:00",
         "Nintendo Switch",
         "e682",
         "168.0",
         "website",
         null,
         null,
         "RO"
        ],
        [
         "10821",
         "25a4ae29",
         "8ca7acae17918218",
         "2020-08-02 00:00:00",
         "2020-08-03 00:00:00",
         "Nintendo Switch",
         "e682",
         "168.0",
         "website",
         null,
         null,
         "US"
        ],
        [
         "11071",
         "d3ce1594",
         "8f8c831649389423",
         "2020-12-02 00:00:00",
         "2020-12-04 00:00:00",
         "JBL Quantum 100 Gaming Headset",
         "4db1",
         "24.42",
         "mobile app",
         null,
         null,
         "HU"
        ],
        [
         "11252",
         "24c2feff",
         "9203ec67b1d17855",
         "2020-08-31 00:00:00",
         "2020-09-01 00:00:00",
         "Sony PlayStation 5 Bundle",
         "54ed",
         "1515.15",
         "website",
         null,
         null,
         "KR"
        ],
        [
         "11253",
         "24c2feff",
         "9203ec67b1d17856",
         "2020-08-31 00:00:00",
         "2020-09-01 00:00:00",
         "Sony PlayStation 5 Bundle",
         "54ed",
         "1515.15",
         "website",
         null,
         null,
         "KR"
        ],
        [
         "11847",
         "da90734e",
         "99c264db19392337",
         "2020-12-27 00:00:00",
         "2020-12-30 00:00:00",
         "Dell Gaming Mouse",
         "8d4f",
         "49.98",
         "mobile app",
         null,
         null,
         "US"
        ],
        [
         "11947",
         "d4a37b8a",
         "9ae9b84873689733",
         "2020-03-28 00:00:00",
         "2020-03-31 00:00:00",
         "Razer Pro Gaming Headset",
         "a6be",
         "119.98",
         "mobile app",
         null,
         null,
         "US"
        ],
        [
         "12188",
         "30bfc11c",
         "9e04ae77eb522823",
         "2020-07-24 00:00:00",
         "2020-07-26 00:00:00",
         "Nintendo Switch",
         "8d0d",
         "146.0",
         "website",
         null,
         null,
         "KR"
        ],
        [
         "12320",
         "8c864c81",
         "9fabb441f4159690",
         "2020-11-25 00:00:00",
         "2020-11-27 00:00:00",
         "JBL Quantum 100 Gaming Headset",
         "ab0f",
         "24.0",
         "website",
         null,
         null,
         "BO"
        ],
        [
         "12465",
         "fb515908",
         "a19cab254ad106174",
         "2020-07-06 00:00:00",
         "2020-07-09 00:00:00",
         "Sony PlayStation 5 Bundle",
         "54ed",
         "1530.0",
         "website",
         null,
         null,
         "US"
        ],
        [
         "12484",
         "03b2d265",
         "a1d7dfa95fd4664",
         "2020-08-02 00:00:00",
         "2020-08-03 00:00:00",
         "Nintendo Switch",
         "8d0d",
         "168.0",
         "website",
         null,
         null,
         "US"
        ]
       ],
       "shape": {
        "columns": 11,
        "rows": 83
       }
      },
      "text/html": [
       "<div>\n",
       "<style scoped>\n",
       "    .dataframe tbody tr th:only-of-type {\n",
       "        vertical-align: middle;\n",
       "    }\n",
       "\n",
       "    .dataframe tbody tr th {\n",
       "        vertical-align: top;\n",
       "    }\n",
       "\n",
       "    .dataframe thead th {\n",
       "        text-align: right;\n",
       "    }\n",
       "</style>\n",
       "<table border=\"1\" class=\"dataframe\">\n",
       "  <thead>\n",
       "    <tr style=\"text-align: right;\">\n",
       "      <th></th>\n",
       "      <th>USER_ID</th>\n",
       "      <th>ORDER_ID</th>\n",
       "      <th>PURCHASE_TS</th>\n",
       "      <th>SHIP_TS</th>\n",
       "      <th>PRODUCT_NAME</th>\n",
       "      <th>PRODUCT_ID</th>\n",
       "      <th>USD_PRICE</th>\n",
       "      <th>PURCHASE_PLATFORM</th>\n",
       "      <th>MARKETING_CHANNEL</th>\n",
       "      <th>ACCOUNT_CREATION_METHOD</th>\n",
       "      <th>COUNTRY_CODE</th>\n",
       "    </tr>\n",
       "  </thead>\n",
       "  <tbody>\n",
       "    <tr>\n",
       "      <th>243</th>\n",
       "      <td>da197ff9</td>\n",
       "      <td>033d64725cc92138</td>\n",
       "      <td>2020-08-17</td>\n",
       "      <td>2020-06-11</td>\n",
       "      <td>JBL Quantum 100 Gaming Headset</td>\n",
       "      <td>2997</td>\n",
       "      <td>24.00</td>\n",
       "      <td>mobile app</td>\n",
       "      <td>NaN</td>\n",
       "      <td>NaN</td>\n",
       "      <td>US</td>\n",
       "    </tr>\n",
       "    <tr>\n",
       "      <th>563</th>\n",
       "      <td>398d3631</td>\n",
       "      <td>079158acb8d26288</td>\n",
       "      <td>2020-07-29</td>\n",
       "      <td>2020-04-27</td>\n",
       "      <td>Nintendo Switch</td>\n",
       "      <td>e682</td>\n",
       "      <td>168.00</td>\n",
       "      <td>website</td>\n",
       "      <td>NaN</td>\n",
       "      <td>NaN</td>\n",
       "      <td>US</td>\n",
       "    </tr>\n",
       "    <tr>\n",
       "      <th>783</th>\n",
       "      <td>e278a2a8</td>\n",
       "      <td>0a7be61380495673</td>\n",
       "      <td>2020-12-11</td>\n",
       "      <td>2020-10-09</td>\n",
       "      <td>Dell Gaming Mouse</td>\n",
       "      <td>f81e</td>\n",
       "      <td>49.98</td>\n",
       "      <td>mobile app</td>\n",
       "      <td>NaN</td>\n",
       "      <td>NaN</td>\n",
       "      <td>US</td>\n",
       "    </tr>\n",
       "    <tr>\n",
       "      <th>1495</th>\n",
       "      <td>5a79012a</td>\n",
       "      <td>1377b7d717d39556</td>\n",
       "      <td>2020-08-13</td>\n",
       "      <td>2020-06-09</td>\n",
       "      <td>Nintendo Switch</td>\n",
       "      <td>8d0d</td>\n",
       "      <td>155.08</td>\n",
       "      <td>website</td>\n",
       "      <td>NaN</td>\n",
       "      <td>NaN</td>\n",
       "      <td>JP</td>\n",
       "    </tr>\n",
       "    <tr>\n",
       "      <th>1642</th>\n",
       "      <td>5fe4e093</td>\n",
       "      <td>1567779706d41744</td>\n",
       "      <td>2020-09-29</td>\n",
       "      <td>2020-05-31</td>\n",
       "      <td>Nintendo Switch</td>\n",
       "      <td>e682</td>\n",
       "      <td>177.11</td>\n",
       "      <td>website</td>\n",
       "      <td>NaN</td>\n",
       "      <td>NaN</td>\n",
       "      <td>GB</td>\n",
       "    </tr>\n",
       "    <tr>\n",
       "      <th>...</th>\n",
       "      <td>...</td>\n",
       "      <td>...</td>\n",
       "      <td>...</td>\n",
       "      <td>...</td>\n",
       "      <td>...</td>\n",
       "      <td>...</td>\n",
       "      <td>...</td>\n",
       "      <td>...</td>\n",
       "      <td>...</td>\n",
       "      <td>...</td>\n",
       "      <td>...</td>\n",
       "    </tr>\n",
       "    <tr>\n",
       "      <th>19854</th>\n",
       "      <td>ab2de8ae</td>\n",
       "      <td>ed40a9451a772581</td>\n",
       "      <td>2020-05-23</td>\n",
       "      <td>2020-05-25</td>\n",
       "      <td>27in 4K gaming monitor</td>\n",
       "      <td>891b</td>\n",
       "      <td>312.92</td>\n",
       "      <td>website</td>\n",
       "      <td>NaN</td>\n",
       "      <td>NaN</td>\n",
       "      <td>US</td>\n",
       "    </tr>\n",
       "    <tr>\n",
       "      <th>19929</th>\n",
       "      <td>8714e62e</td>\n",
       "      <td>ee0fe031fb557445</td>\n",
       "      <td>2020-06-21</td>\n",
       "      <td>2020-06-23</td>\n",
       "      <td>Nintendo Switch</td>\n",
       "      <td>8d0d</td>\n",
       "      <td>168.00</td>\n",
       "      <td>website</td>\n",
       "      <td>NaN</td>\n",
       "      <td>NaN</td>\n",
       "      <td>HK</td>\n",
       "    </tr>\n",
       "    <tr>\n",
       "      <th>20114</th>\n",
       "      <td>1172b6b9</td>\n",
       "      <td>ef855ac0b6c10146</td>\n",
       "      <td>2020-05-16</td>\n",
       "      <td>2020-05-19</td>\n",
       "      <td>Nintendo Switch</td>\n",
       "      <td>8d0d</td>\n",
       "      <td>146.59</td>\n",
       "      <td>website</td>\n",
       "      <td>NaN</td>\n",
       "      <td>NaN</td>\n",
       "      <td>IE</td>\n",
       "    </tr>\n",
       "    <tr>\n",
       "      <th>20277</th>\n",
       "      <td>cc830ec3</td>\n",
       "      <td>f0e9b1810f786376</td>\n",
       "      <td>2020-05-30</td>\n",
       "      <td>2020-06-01</td>\n",
       "      <td>Nintendo Switch</td>\n",
       "      <td>e682</td>\n",
       "      <td>168.00</td>\n",
       "      <td>website</td>\n",
       "      <td>NaN</td>\n",
       "      <td>NaN</td>\n",
       "      <td>US</td>\n",
       "    </tr>\n",
       "    <tr>\n",
       "      <th>20999</th>\n",
       "      <td>7a05b9ed</td>\n",
       "      <td>f7a57f8b70552131</td>\n",
       "      <td>2020-12-28</td>\n",
       "      <td>2020-12-30</td>\n",
       "      <td>JBL Quantum 100 Gaming Headset</td>\n",
       "      <td>4c58</td>\n",
       "      <td>28.65</td>\n",
       "      <td>mobile app</td>\n",
       "      <td>NaN</td>\n",
       "      <td>NaN</td>\n",
       "      <td>DE</td>\n",
       "    </tr>\n",
       "  </tbody>\n",
       "</table>\n",
       "<p>83 rows × 11 columns</p>\n",
       "</div>"
      ],
      "text/plain": [
       "        USER_ID          ORDER_ID PURCHASE_TS    SHIP_TS  \\\n",
       "243    da197ff9  033d64725cc92138  2020-08-17 2020-06-11   \n",
       "563    398d3631  079158acb8d26288  2020-07-29 2020-04-27   \n",
       "783    e278a2a8  0a7be61380495673  2020-12-11 2020-10-09   \n",
       "1495   5a79012a  1377b7d717d39556  2020-08-13 2020-06-09   \n",
       "1642   5fe4e093  1567779706d41744  2020-09-29 2020-05-31   \n",
       "...         ...               ...         ...        ...   \n",
       "19854  ab2de8ae  ed40a9451a772581  2020-05-23 2020-05-25   \n",
       "19929  8714e62e  ee0fe031fb557445  2020-06-21 2020-06-23   \n",
       "20114  1172b6b9  ef855ac0b6c10146  2020-05-16 2020-05-19   \n",
       "20277  cc830ec3  f0e9b1810f786376  2020-05-30 2020-06-01   \n",
       "20999  7a05b9ed  f7a57f8b70552131  2020-12-28 2020-12-30   \n",
       "\n",
       "                         PRODUCT_NAME PRODUCT_ID  USD_PRICE PURCHASE_PLATFORM  \\\n",
       "243    JBL Quantum 100 Gaming Headset       2997      24.00        mobile app   \n",
       "563                   Nintendo Switch       e682     168.00           website   \n",
       "783                 Dell Gaming Mouse       f81e      49.98        mobile app   \n",
       "1495                  Nintendo Switch       8d0d     155.08           website   \n",
       "1642                  Nintendo Switch       e682     177.11           website   \n",
       "...                               ...        ...        ...               ...   \n",
       "19854          27in 4K gaming monitor       891b     312.92           website   \n",
       "19929                 Nintendo Switch       8d0d     168.00           website   \n",
       "20114                 Nintendo Switch       8d0d     146.59           website   \n",
       "20277                 Nintendo Switch       e682     168.00           website   \n",
       "20999  JBL Quantum 100 Gaming Headset       4c58      28.65        mobile app   \n",
       "\n",
       "      MARKETING_CHANNEL ACCOUNT_CREATION_METHOD COUNTRY_CODE  \n",
       "243                 NaN                     NaN           US  \n",
       "563                 NaN                     NaN           US  \n",
       "783                 NaN                     NaN           US  \n",
       "1495                NaN                     NaN           JP  \n",
       "1642                NaN                     NaN           GB  \n",
       "...                 ...                     ...          ...  \n",
       "19854               NaN                     NaN           US  \n",
       "19929               NaN                     NaN           HK  \n",
       "20114               NaN                     NaN           IE  \n",
       "20277               NaN                     NaN           US  \n",
       "20999               NaN                     NaN           DE  \n",
       "\n",
       "[83 rows x 11 columns]"
      ]
     },
     "execution_count": 51,
     "metadata": {},
     "output_type": "execute_result"
    }
   ],
   "source": [
    "df[df['ACCOUNT_CREATION_METHOD'].isna() == True]"
   ]
  },
  {
   "cell_type": "markdown",
   "id": "5de3e176",
   "metadata": {},
   "source": [
    "We can see that the missing data in `ACCOUNT_CREATION_METHOD` and `MARKETING_CHANNEL` are of the same orders.\n",
    "\n",
    "Both have unknown categories and these missing values can be filled as unknown category."
   ]
  },
  {
   "cell_type": "markdown",
   "id": "98e07709",
   "metadata": {},
   "source": [
    "### `COUNTRY_CODE`"
   ]
  },
  {
   "cell_type": "code",
   "execution_count": 57,
   "id": "96a6219a",
   "metadata": {},
   "outputs": [
    {
     "data": {
      "text/plain": [
       "np.int64(38)"
      ]
     },
     "execution_count": 57,
     "metadata": {},
     "output_type": "execute_result"
    }
   ],
   "source": [
    "df['COUNTRY_CODE'].isna().sum()"
   ]
  },
  {
   "cell_type": "code",
   "execution_count": 58,
   "id": "60def4e1",
   "metadata": {},
   "outputs": [
    {
     "data": {
      "application/vnd.microsoft.datawrangler.viewer.v0+json": {
       "columns": [
        {
         "name": "index",
         "rawType": "int64",
         "type": "integer"
        },
        {
         "name": "USER_ID",
         "rawType": "object",
         "type": "unknown"
        },
        {
         "name": "ORDER_ID",
         "rawType": "object",
         "type": "string"
        },
        {
         "name": "PURCHASE_TS",
         "rawType": "datetime64[ns]",
         "type": "datetime"
        },
        {
         "name": "SHIP_TS",
         "rawType": "datetime64[ns]",
         "type": "datetime"
        },
        {
         "name": "PRODUCT_NAME",
         "rawType": "object",
         "type": "string"
        },
        {
         "name": "PRODUCT_ID",
         "rawType": "object",
         "type": "unknown"
        },
        {
         "name": "USD_PRICE",
         "rawType": "float64",
         "type": "float"
        },
        {
         "name": "PURCHASE_PLATFORM",
         "rawType": "object",
         "type": "string"
        },
        {
         "name": "MARKETING_CHANNEL",
         "rawType": "object",
         "type": "string"
        },
        {
         "name": "ACCOUNT_CREATION_METHOD",
         "rawType": "object",
         "type": "string"
        },
        {
         "name": "COUNTRY_CODE",
         "rawType": "object",
         "type": "unknown"
        }
       ],
       "ref": "f7d06178-b2c5-4f25-9918-c35319e2c659",
       "rows": [
        [
         "526",
         "6af1d816",
         "06ee8b82fbc46119",
         "2019-04-12 00:00:00",
         "2018-12-12 00:00:00",
         "JBL Quantum 100 Gaming Headset",
         "8315",
         "24.3",
         "mobile app",
         "affiliate",
         "unknown",
         null
        ],
        [
         "671",
         "2ad6743f",
         "08feac8f0a020345",
         "2020-04-16 00:00:00",
         "2019-12-07 00:00:00",
         "JBL Quantum 100 Gaming Headset",
         "8315",
         "22.98",
         "mobile app",
         "affiliate",
         "unknown",
         null
        ],
        [
         "1043",
         "7a4a13ce",
         "0dc92d0562552247",
         "2020-05-13 00:00:00",
         "2020-02-23 00:00:00",
         "Nintendo Switch",
         "8e5d",
         "157.42",
         "mobile app",
         "affiliate",
         "unknown",
         null
        ],
        [
         "3585",
         "9cef5a34",
         "2fa5682923166358",
         "2020-04-22 00:00:00",
         "2020-04-25 00:00:00",
         "Nintendo Switch",
         "8e5d",
         "161.02",
         "mobile app",
         "direct",
         "desktop",
         null
        ],
        [
         "4083",
         "e5d4f232",
         "360891064a397089",
         "2020-09-27 00:00:00",
         "2020-09-29 00:00:00",
         "Nintendo Switch",
         "8e5d",
         "165.3",
         "mobile app",
         "affiliate",
         "unknown",
         null
        ],
        [
         "4084",
         "e5d4f232",
         "360891064a397090",
         "2020-09-27 00:00:00",
         "2020-09-29 00:00:00",
         "Nintendo Switch",
         "8e5d",
         "165.3",
         "mobile app",
         "affiliate",
         "unknown",
         null
        ],
        [
         "4875",
         "4552ac90",
         "4054d07e48c31128",
         "2020-07-27 00:00:00",
         "2020-07-30 00:00:00",
         "Nintendo Switch",
         "8e5d",
         "163.04",
         "mobile app",
         "affiliate",
         "unknown",
         null
        ],
        [
         "5144",
         "b26a797c",
         "43ce0b4a8fe75579",
         "2019-03-30 00:00:00",
         "2019-04-01 00:00:00",
         "Nintendo Switch",
         "b5f7",
         "85.11",
         "mobile app",
         "affiliate",
         "unknown",
         null
        ],
        [
         "6124",
         "42edad8a",
         "50e43de8ab930156",
         "2020-12-19 00:00:00",
         "2020-12-22 00:00:00",
         "JBL Quantum 100 Gaming Headset",
         "4c58",
         "24.5",
         "mobile app",
         "affiliate",
         "unknown",
         null
        ],
        [
         "6125",
         "42edad8a",
         "50e43de8ab930157",
         "2020-12-19 00:00:00",
         "2020-12-22 00:00:00",
         "JBL Quantum 100 Gaming Headset",
         "4c58",
         "24.5",
         "mobile app",
         "affiliate",
         "unknown",
         null
        ],
        [
         "6519",
         "0aed2d69",
         "55f3b3925b97500",
         "2019-01-21 00:00:00",
         "2019-01-22 00:00:00",
         "JBL Quantum 100 Gaming Headset",
         "2997",
         "16.75",
         "mobile app",
         "affiliate",
         "unknown",
         null
        ],
        [
         "6520",
         "0aed2d69",
         "55f3b3925b97501",
         "2019-01-21 00:00:00",
         "2019-01-22 00:00:00",
         "JBL Quantum 100 Gaming Headset",
         "2997",
         "16.75",
         "mobile app",
         "affiliate",
         "unknown",
         null
        ],
        [
         "6986",
         "6fd5ece8",
         "5bf79b3b3f248220",
         "2020-12-17 00:00:00",
         "2020-12-19 00:00:00",
         "JBL Quantum 100 Gaming Headset",
         "8315",
         "23.46",
         "mobile app",
         "affiliate",
         "unknown",
         null
        ],
        [
         "7001",
         "f4142de1",
         "5c2e33b886d103170",
         "2020-06-22 00:00:00",
         "2020-06-24 00:00:00",
         "Nintendo Switch",
         "8d0d",
         "168.0",
         "website",
         "direct",
         "desktop",
         null
        ],
        [
         "7197",
         "1f34ccb6",
         "5ed01dc55a015759",
         "2020-05-02 00:00:00",
         "2020-05-03 00:00:00",
         "JBL Quantum 100 Gaming Headset",
         "8315",
         "23.0",
         "mobile app",
         "affiliate",
         "unknown",
         null
        ],
        [
         "7799",
         "a53458c2",
         "66c35c589d369964",
         "2020-05-17 00:00:00",
         "2020-05-19 00:00:00",
         "JBL Quantum 100 Gaming Headset",
         "8315",
         "23.12",
         "mobile app",
         "affiliate",
         "unknown",
         null
        ],
        [
         "9254",
         "915ce261",
         "790c3374fa961628",
         "2020-11-17 00:00:00",
         "2020-11-20 00:00:00",
         "Dell Gaming Mouse",
         "5142",
         "49.98",
         "mobile app",
         "affiliate",
         "unknown",
         null
        ],
        [
         "9294",
         "373a21f9",
         "797e298fe4a25356",
         "2019-09-12 00:00:00",
         "2019-09-13 00:00:00",
         "Nintendo Switch",
         "b5f7",
         "83.71",
         "mobile app",
         "affiliate",
         "unknown",
         null
        ],
        [
         "9850",
         "556329a7",
         "80642d0e0e337567",
         "2020-09-28 00:00:00",
         "2020-10-01 00:00:00",
         "Dell Gaming Mouse",
         "5142",
         "49.98",
         "mobile app",
         "affiliate",
         "unknown",
         null
        ],
        [
         "9908",
         "0ce56246",
         "8136beb88148284",
         "2019-09-01 00:00:00",
         "2019-09-04 00:00:00",
         "Nintendo Switch",
         "8e5d",
         "162.78",
         "mobile app",
         "direct",
         "desktop",
         null
        ],
        [
         "10741",
         "05a3940c",
         "8ba45d090815417",
         "2020-01-23 00:00:00",
         "2020-01-26 00:00:00",
         "27in 4K gaming monitor",
         "2a50",
         "338.78",
         "mobile app",
         "affiliate",
         "unknown",
         null
        ],
        [
         "14649",
         "77bb0cc4",
         "bb2f725e2f751260",
         "2020-02-06 00:00:00",
         "2020-02-07 00:00:00",
         "Nintendo Switch",
         "8e5d",
         "161.0",
         "mobile app",
         "affiliate",
         "unknown",
         null
        ],
        [
         "15796",
         "eae47943",
         "c62b233087399241",
         "2019-08-08 00:00:00",
         "2019-08-09 00:00:00",
         "JBL Quantum 100 Gaming Headset",
         "8315",
         "24.22",
         "mobile app",
         "affiliate",
         "unknown",
         null
        ],
        [
         "16442",
         "96008786",
         "ccadc0327dd2532",
         "2020-12-20 00:00:00",
         "2020-12-23 00:00:00",
         "JBL Quantum 100 Gaming Headset",
         "8315",
         "23.56",
         "mobile app",
         "affiliate",
         "unknown",
         null
        ],
        [
         "17033",
         "1ac6c097",
         "d2b66010d5813906",
         "2020-08-04 00:00:00",
         "2020-08-05 00:00:00",
         "Nintendo Switch",
         "8e5d",
         "158.3",
         "mobile app",
         "direct",
         "desktop",
         null
        ],
        [
         "17675",
         "99728cc1",
         "d8c6452165464896",
         "2021-01-31 00:00:00",
         "2021-02-01 00:00:00",
         "Nintendo Switch",
         "8e5d",
         "165.38",
         "mobile app",
         "affiliate",
         "unknown",
         null
        ],
        [
         "17676",
         "99728cc1",
         "d8c6452165464897",
         "2021-01-31 00:00:00",
         "2021-02-01 00:00:00",
         "Nintendo Switch",
         "8e5d",
         "165.38",
         "mobile app",
         "affiliate",
         "unknown",
         null
        ],
        [
         "18173",
         "547cfc4b",
         "dd3a9ae0eab37208",
         "2019-04-30 00:00:00",
         "2019-05-03 00:00:00",
         "JBL Quantum 100 Gaming Headset",
         "8315",
         "24.24",
         "mobile app",
         "affiliate",
         "unknown",
         null
        ],
        [
         "18389",
         "f7772b92",
         "df7028fa51c104560",
         "2019-07-28 00:00:00",
         "2019-07-29 00:00:00",
         "JBL Quantum 100 Gaming Headset",
         "8315",
         "24.1",
         "mobile app",
         "affiliate",
         "unknown",
         null
        ],
        [
         "18438",
         "da3ef15b",
         "dff440bb83392202",
         "2020-04-14 00:00:00",
         "2020-04-15 00:00:00",
         "JBL Quantum 100 Gaming Headset",
         "8315",
         "23.1",
         "mobile app",
         "affiliate",
         "unknown",
         null
        ],
        [
         "18442",
         "44cd1366",
         "dffb2ea43b830914",
         "2019-09-25 00:00:00",
         "2019-09-26 00:00:00",
         "JBL Quantum 100 Gaming Headset",
         "2997",
         "24.0",
         "mobile app",
         "affiliate",
         "unknown",
         null
        ],
        [
         "19746",
         "25bf5762",
         "ec30c5d4c4318275",
         "2019-02-02 00:00:00",
         "2019-02-04 00:00:00",
         "Nintendo Switch",
         "b5f7",
         "107.03",
         "mobile app",
         "affiliate",
         "unknown",
         null
        ],
        [
         "20243",
         "8897cbc1",
         "f08daaa26d358008",
         "2019-05-04 00:00:00",
         "2019-05-05 00:00:00",
         "JBL Quantum 100 Gaming Headset",
         "8315",
         "24.08",
         "mobile app",
         "affiliate",
         "unknown",
         null
        ],
        [
         "20254",
         "63879f2a",
         "f0b7a756aae43109",
         "2019-04-18 00:00:00",
         "2019-04-21 00:00:00",
         "JBL Quantum 100 Gaming Headset",
         "2997",
         "24.0",
         "mobile app",
         "affiliate",
         "unknown",
         null
        ],
        [
         "20658",
         "78009722",
         "f411d77d3642057",
         "2021-02-11 00:00:00",
         "2021-02-13 00:00:00",
         "JBL Quantum 100 Gaming Headset",
         "8315",
         "23.52",
         "mobile app",
         "direct",
         "desktop",
         null
        ],
        [
         "20738",
         "635a76f9",
         "f53b3bf750743025",
         "2019-03-16 00:00:00",
         "2019-03-17 00:00:00",
         "JBL Quantum 100 Gaming Headset",
         "8315",
         "24.24",
         "mobile app",
         "affiliate",
         "unknown",
         null
        ],
        [
         "20886",
         "82f1489b",
         "f6a657e394755792",
         "2020-12-26 00:00:00",
         "2020-12-29 00:00:00",
         "JBL Quantum 100 Gaming Headset",
         "2997",
         "24.0",
         "mobile app",
         "direct",
         "desktop",
         null
        ],
        [
         "20972",
         "b1437587",
         "f76cd385a4b75130",
         "2020-06-08 00:00:00",
         "2020-06-11 00:00:00",
         "JBL Quantum 100 Gaming Headset",
         "8315",
         "23.14",
         "mobile app",
         "affiliate",
         "unknown",
         null
        ]
       ],
       "shape": {
        "columns": 11,
        "rows": 38
       }
      },
      "text/html": [
       "<div>\n",
       "<style scoped>\n",
       "    .dataframe tbody tr th:only-of-type {\n",
       "        vertical-align: middle;\n",
       "    }\n",
       "\n",
       "    .dataframe tbody tr th {\n",
       "        vertical-align: top;\n",
       "    }\n",
       "\n",
       "    .dataframe thead th {\n",
       "        text-align: right;\n",
       "    }\n",
       "</style>\n",
       "<table border=\"1\" class=\"dataframe\">\n",
       "  <thead>\n",
       "    <tr style=\"text-align: right;\">\n",
       "      <th></th>\n",
       "      <th>USER_ID</th>\n",
       "      <th>ORDER_ID</th>\n",
       "      <th>PURCHASE_TS</th>\n",
       "      <th>SHIP_TS</th>\n",
       "      <th>PRODUCT_NAME</th>\n",
       "      <th>PRODUCT_ID</th>\n",
       "      <th>USD_PRICE</th>\n",
       "      <th>PURCHASE_PLATFORM</th>\n",
       "      <th>MARKETING_CHANNEL</th>\n",
       "      <th>ACCOUNT_CREATION_METHOD</th>\n",
       "      <th>COUNTRY_CODE</th>\n",
       "    </tr>\n",
       "  </thead>\n",
       "  <tbody>\n",
       "    <tr>\n",
       "      <th>526</th>\n",
       "      <td>6af1d816</td>\n",
       "      <td>06ee8b82fbc46119</td>\n",
       "      <td>2019-04-12</td>\n",
       "      <td>2018-12-12</td>\n",
       "      <td>JBL Quantum 100 Gaming Headset</td>\n",
       "      <td>8315</td>\n",
       "      <td>24.30</td>\n",
       "      <td>mobile app</td>\n",
       "      <td>affiliate</td>\n",
       "      <td>unknown</td>\n",
       "      <td>NaN</td>\n",
       "    </tr>\n",
       "    <tr>\n",
       "      <th>671</th>\n",
       "      <td>2ad6743f</td>\n",
       "      <td>08feac8f0a020345</td>\n",
       "      <td>2020-04-16</td>\n",
       "      <td>2019-12-07</td>\n",
       "      <td>JBL Quantum 100 Gaming Headset</td>\n",
       "      <td>8315</td>\n",
       "      <td>22.98</td>\n",
       "      <td>mobile app</td>\n",
       "      <td>affiliate</td>\n",
       "      <td>unknown</td>\n",
       "      <td>NaN</td>\n",
       "    </tr>\n",
       "    <tr>\n",
       "      <th>1043</th>\n",
       "      <td>7a4a13ce</td>\n",
       "      <td>0dc92d0562552247</td>\n",
       "      <td>2020-05-13</td>\n",
       "      <td>2020-02-23</td>\n",
       "      <td>Nintendo Switch</td>\n",
       "      <td>8e5d</td>\n",
       "      <td>157.42</td>\n",
       "      <td>mobile app</td>\n",
       "      <td>affiliate</td>\n",
       "      <td>unknown</td>\n",
       "      <td>NaN</td>\n",
       "    </tr>\n",
       "    <tr>\n",
       "      <th>3585</th>\n",
       "      <td>9cef5a34</td>\n",
       "      <td>2fa5682923166358</td>\n",
       "      <td>2020-04-22</td>\n",
       "      <td>2020-04-25</td>\n",
       "      <td>Nintendo Switch</td>\n",
       "      <td>8e5d</td>\n",
       "      <td>161.02</td>\n",
       "      <td>mobile app</td>\n",
       "      <td>direct</td>\n",
       "      <td>desktop</td>\n",
       "      <td>NaN</td>\n",
       "    </tr>\n",
       "    <tr>\n",
       "      <th>4083</th>\n",
       "      <td>e5d4f232</td>\n",
       "      <td>360891064a397089</td>\n",
       "      <td>2020-09-27</td>\n",
       "      <td>2020-09-29</td>\n",
       "      <td>Nintendo Switch</td>\n",
       "      <td>8e5d</td>\n",
       "      <td>165.30</td>\n",
       "      <td>mobile app</td>\n",
       "      <td>affiliate</td>\n",
       "      <td>unknown</td>\n",
       "      <td>NaN</td>\n",
       "    </tr>\n",
       "    <tr>\n",
       "      <th>4084</th>\n",
       "      <td>e5d4f232</td>\n",
       "      <td>360891064a397090</td>\n",
       "      <td>2020-09-27</td>\n",
       "      <td>2020-09-29</td>\n",
       "      <td>Nintendo Switch</td>\n",
       "      <td>8e5d</td>\n",
       "      <td>165.30</td>\n",
       "      <td>mobile app</td>\n",
       "      <td>affiliate</td>\n",
       "      <td>unknown</td>\n",
       "      <td>NaN</td>\n",
       "    </tr>\n",
       "    <tr>\n",
       "      <th>4875</th>\n",
       "      <td>4552ac90</td>\n",
       "      <td>4054d07e48c31128</td>\n",
       "      <td>2020-07-27</td>\n",
       "      <td>2020-07-30</td>\n",
       "      <td>Nintendo Switch</td>\n",
       "      <td>8e5d</td>\n",
       "      <td>163.04</td>\n",
       "      <td>mobile app</td>\n",
       "      <td>affiliate</td>\n",
       "      <td>unknown</td>\n",
       "      <td>NaN</td>\n",
       "    </tr>\n",
       "    <tr>\n",
       "      <th>5144</th>\n",
       "      <td>b26a797c</td>\n",
       "      <td>43ce0b4a8fe75579</td>\n",
       "      <td>2019-03-30</td>\n",
       "      <td>2019-04-01</td>\n",
       "      <td>Nintendo Switch</td>\n",
       "      <td>b5f7</td>\n",
       "      <td>85.11</td>\n",
       "      <td>mobile app</td>\n",
       "      <td>affiliate</td>\n",
       "      <td>unknown</td>\n",
       "      <td>NaN</td>\n",
       "    </tr>\n",
       "    <tr>\n",
       "      <th>6124</th>\n",
       "      <td>42edad8a</td>\n",
       "      <td>50e43de8ab930156</td>\n",
       "      <td>2020-12-19</td>\n",
       "      <td>2020-12-22</td>\n",
       "      <td>JBL Quantum 100 Gaming Headset</td>\n",
       "      <td>4c58</td>\n",
       "      <td>24.50</td>\n",
       "      <td>mobile app</td>\n",
       "      <td>affiliate</td>\n",
       "      <td>unknown</td>\n",
       "      <td>NaN</td>\n",
       "    </tr>\n",
       "    <tr>\n",
       "      <th>6125</th>\n",
       "      <td>42edad8a</td>\n",
       "      <td>50e43de8ab930157</td>\n",
       "      <td>2020-12-19</td>\n",
       "      <td>2020-12-22</td>\n",
       "      <td>JBL Quantum 100 Gaming Headset</td>\n",
       "      <td>4c58</td>\n",
       "      <td>24.50</td>\n",
       "      <td>mobile app</td>\n",
       "      <td>affiliate</td>\n",
       "      <td>unknown</td>\n",
       "      <td>NaN</td>\n",
       "    </tr>\n",
       "    <tr>\n",
       "      <th>6519</th>\n",
       "      <td>0aed2d69</td>\n",
       "      <td>55f3b3925b97500</td>\n",
       "      <td>2019-01-21</td>\n",
       "      <td>2019-01-22</td>\n",
       "      <td>JBL Quantum 100 Gaming Headset</td>\n",
       "      <td>2997</td>\n",
       "      <td>16.75</td>\n",
       "      <td>mobile app</td>\n",
       "      <td>affiliate</td>\n",
       "      <td>unknown</td>\n",
       "      <td>NaN</td>\n",
       "    </tr>\n",
       "    <tr>\n",
       "      <th>6520</th>\n",
       "      <td>0aed2d69</td>\n",
       "      <td>55f3b3925b97501</td>\n",
       "      <td>2019-01-21</td>\n",
       "      <td>2019-01-22</td>\n",
       "      <td>JBL Quantum 100 Gaming Headset</td>\n",
       "      <td>2997</td>\n",
       "      <td>16.75</td>\n",
       "      <td>mobile app</td>\n",
       "      <td>affiliate</td>\n",
       "      <td>unknown</td>\n",
       "      <td>NaN</td>\n",
       "    </tr>\n",
       "    <tr>\n",
       "      <th>6986</th>\n",
       "      <td>6fd5ece8</td>\n",
       "      <td>5bf79b3b3f248220</td>\n",
       "      <td>2020-12-17</td>\n",
       "      <td>2020-12-19</td>\n",
       "      <td>JBL Quantum 100 Gaming Headset</td>\n",
       "      <td>8315</td>\n",
       "      <td>23.46</td>\n",
       "      <td>mobile app</td>\n",
       "      <td>affiliate</td>\n",
       "      <td>unknown</td>\n",
       "      <td>NaN</td>\n",
       "    </tr>\n",
       "    <tr>\n",
       "      <th>7001</th>\n",
       "      <td>f4142de1</td>\n",
       "      <td>5c2e33b886d103170</td>\n",
       "      <td>2020-06-22</td>\n",
       "      <td>2020-06-24</td>\n",
       "      <td>Nintendo Switch</td>\n",
       "      <td>8d0d</td>\n",
       "      <td>168.00</td>\n",
       "      <td>website</td>\n",
       "      <td>direct</td>\n",
       "      <td>desktop</td>\n",
       "      <td>NaN</td>\n",
       "    </tr>\n",
       "    <tr>\n",
       "      <th>7197</th>\n",
       "      <td>1f34ccb6</td>\n",
       "      <td>5ed01dc55a015759</td>\n",
       "      <td>2020-05-02</td>\n",
       "      <td>2020-05-03</td>\n",
       "      <td>JBL Quantum 100 Gaming Headset</td>\n",
       "      <td>8315</td>\n",
       "      <td>23.00</td>\n",
       "      <td>mobile app</td>\n",
       "      <td>affiliate</td>\n",
       "      <td>unknown</td>\n",
       "      <td>NaN</td>\n",
       "    </tr>\n",
       "    <tr>\n",
       "      <th>7799</th>\n",
       "      <td>a53458c2</td>\n",
       "      <td>66c35c589d369964</td>\n",
       "      <td>2020-05-17</td>\n",
       "      <td>2020-05-19</td>\n",
       "      <td>JBL Quantum 100 Gaming Headset</td>\n",
       "      <td>8315</td>\n",
       "      <td>23.12</td>\n",
       "      <td>mobile app</td>\n",
       "      <td>affiliate</td>\n",
       "      <td>unknown</td>\n",
       "      <td>NaN</td>\n",
       "    </tr>\n",
       "    <tr>\n",
       "      <th>9254</th>\n",
       "      <td>915ce261</td>\n",
       "      <td>790c3374fa961628</td>\n",
       "      <td>2020-11-17</td>\n",
       "      <td>2020-11-20</td>\n",
       "      <td>Dell Gaming Mouse</td>\n",
       "      <td>5142</td>\n",
       "      <td>49.98</td>\n",
       "      <td>mobile app</td>\n",
       "      <td>affiliate</td>\n",
       "      <td>unknown</td>\n",
       "      <td>NaN</td>\n",
       "    </tr>\n",
       "    <tr>\n",
       "      <th>9294</th>\n",
       "      <td>373a21f9</td>\n",
       "      <td>797e298fe4a25356</td>\n",
       "      <td>2019-09-12</td>\n",
       "      <td>2019-09-13</td>\n",
       "      <td>Nintendo Switch</td>\n",
       "      <td>b5f7</td>\n",
       "      <td>83.71</td>\n",
       "      <td>mobile app</td>\n",
       "      <td>affiliate</td>\n",
       "      <td>unknown</td>\n",
       "      <td>NaN</td>\n",
       "    </tr>\n",
       "    <tr>\n",
       "      <th>9850</th>\n",
       "      <td>556329a7</td>\n",
       "      <td>80642d0e0e337567</td>\n",
       "      <td>2020-09-28</td>\n",
       "      <td>2020-10-01</td>\n",
       "      <td>Dell Gaming Mouse</td>\n",
       "      <td>5142</td>\n",
       "      <td>49.98</td>\n",
       "      <td>mobile app</td>\n",
       "      <td>affiliate</td>\n",
       "      <td>unknown</td>\n",
       "      <td>NaN</td>\n",
       "    </tr>\n",
       "    <tr>\n",
       "      <th>9908</th>\n",
       "      <td>0ce56246</td>\n",
       "      <td>8136beb88148284</td>\n",
       "      <td>2019-09-01</td>\n",
       "      <td>2019-09-04</td>\n",
       "      <td>Nintendo Switch</td>\n",
       "      <td>8e5d</td>\n",
       "      <td>162.78</td>\n",
       "      <td>mobile app</td>\n",
       "      <td>direct</td>\n",
       "      <td>desktop</td>\n",
       "      <td>NaN</td>\n",
       "    </tr>\n",
       "    <tr>\n",
       "      <th>10741</th>\n",
       "      <td>05a3940c</td>\n",
       "      <td>8ba45d090815417</td>\n",
       "      <td>2020-01-23</td>\n",
       "      <td>2020-01-26</td>\n",
       "      <td>27in 4K gaming monitor</td>\n",
       "      <td>2a50</td>\n",
       "      <td>338.78</td>\n",
       "      <td>mobile app</td>\n",
       "      <td>affiliate</td>\n",
       "      <td>unknown</td>\n",
       "      <td>NaN</td>\n",
       "    </tr>\n",
       "    <tr>\n",
       "      <th>14649</th>\n",
       "      <td>77bb0cc4</td>\n",
       "      <td>bb2f725e2f751260</td>\n",
       "      <td>2020-02-06</td>\n",
       "      <td>2020-02-07</td>\n",
       "      <td>Nintendo Switch</td>\n",
       "      <td>8e5d</td>\n",
       "      <td>161.00</td>\n",
       "      <td>mobile app</td>\n",
       "      <td>affiliate</td>\n",
       "      <td>unknown</td>\n",
       "      <td>NaN</td>\n",
       "    </tr>\n",
       "    <tr>\n",
       "      <th>15796</th>\n",
       "      <td>eae47943</td>\n",
       "      <td>c62b233087399241</td>\n",
       "      <td>2019-08-08</td>\n",
       "      <td>2019-08-09</td>\n",
       "      <td>JBL Quantum 100 Gaming Headset</td>\n",
       "      <td>8315</td>\n",
       "      <td>24.22</td>\n",
       "      <td>mobile app</td>\n",
       "      <td>affiliate</td>\n",
       "      <td>unknown</td>\n",
       "      <td>NaN</td>\n",
       "    </tr>\n",
       "    <tr>\n",
       "      <th>16442</th>\n",
       "      <td>96008786</td>\n",
       "      <td>ccadc0327dd2532</td>\n",
       "      <td>2020-12-20</td>\n",
       "      <td>2020-12-23</td>\n",
       "      <td>JBL Quantum 100 Gaming Headset</td>\n",
       "      <td>8315</td>\n",
       "      <td>23.56</td>\n",
       "      <td>mobile app</td>\n",
       "      <td>affiliate</td>\n",
       "      <td>unknown</td>\n",
       "      <td>NaN</td>\n",
       "    </tr>\n",
       "    <tr>\n",
       "      <th>17033</th>\n",
       "      <td>1ac6c097</td>\n",
       "      <td>d2b66010d5813906</td>\n",
       "      <td>2020-08-04</td>\n",
       "      <td>2020-08-05</td>\n",
       "      <td>Nintendo Switch</td>\n",
       "      <td>8e5d</td>\n",
       "      <td>158.30</td>\n",
       "      <td>mobile app</td>\n",
       "      <td>direct</td>\n",
       "      <td>desktop</td>\n",
       "      <td>NaN</td>\n",
       "    </tr>\n",
       "    <tr>\n",
       "      <th>17675</th>\n",
       "      <td>99728cc1</td>\n",
       "      <td>d8c6452165464896</td>\n",
       "      <td>2021-01-31</td>\n",
       "      <td>2021-02-01</td>\n",
       "      <td>Nintendo Switch</td>\n",
       "      <td>8e5d</td>\n",
       "      <td>165.38</td>\n",
       "      <td>mobile app</td>\n",
       "      <td>affiliate</td>\n",
       "      <td>unknown</td>\n",
       "      <td>NaN</td>\n",
       "    </tr>\n",
       "    <tr>\n",
       "      <th>17676</th>\n",
       "      <td>99728cc1</td>\n",
       "      <td>d8c6452165464897</td>\n",
       "      <td>2021-01-31</td>\n",
       "      <td>2021-02-01</td>\n",
       "      <td>Nintendo Switch</td>\n",
       "      <td>8e5d</td>\n",
       "      <td>165.38</td>\n",
       "      <td>mobile app</td>\n",
       "      <td>affiliate</td>\n",
       "      <td>unknown</td>\n",
       "      <td>NaN</td>\n",
       "    </tr>\n",
       "    <tr>\n",
       "      <th>18173</th>\n",
       "      <td>547cfc4b</td>\n",
       "      <td>dd3a9ae0eab37208</td>\n",
       "      <td>2019-04-30</td>\n",
       "      <td>2019-05-03</td>\n",
       "      <td>JBL Quantum 100 Gaming Headset</td>\n",
       "      <td>8315</td>\n",
       "      <td>24.24</td>\n",
       "      <td>mobile app</td>\n",
       "      <td>affiliate</td>\n",
       "      <td>unknown</td>\n",
       "      <td>NaN</td>\n",
       "    </tr>\n",
       "    <tr>\n",
       "      <th>18389</th>\n",
       "      <td>f7772b92</td>\n",
       "      <td>df7028fa51c104560</td>\n",
       "      <td>2019-07-28</td>\n",
       "      <td>2019-07-29</td>\n",
       "      <td>JBL Quantum 100 Gaming Headset</td>\n",
       "      <td>8315</td>\n",
       "      <td>24.10</td>\n",
       "      <td>mobile app</td>\n",
       "      <td>affiliate</td>\n",
       "      <td>unknown</td>\n",
       "      <td>NaN</td>\n",
       "    </tr>\n",
       "    <tr>\n",
       "      <th>18438</th>\n",
       "      <td>da3ef15b</td>\n",
       "      <td>dff440bb83392202</td>\n",
       "      <td>2020-04-14</td>\n",
       "      <td>2020-04-15</td>\n",
       "      <td>JBL Quantum 100 Gaming Headset</td>\n",
       "      <td>8315</td>\n",
       "      <td>23.10</td>\n",
       "      <td>mobile app</td>\n",
       "      <td>affiliate</td>\n",
       "      <td>unknown</td>\n",
       "      <td>NaN</td>\n",
       "    </tr>\n",
       "    <tr>\n",
       "      <th>18442</th>\n",
       "      <td>44cd1366</td>\n",
       "      <td>dffb2ea43b830914</td>\n",
       "      <td>2019-09-25</td>\n",
       "      <td>2019-09-26</td>\n",
       "      <td>JBL Quantum 100 Gaming Headset</td>\n",
       "      <td>2997</td>\n",
       "      <td>24.00</td>\n",
       "      <td>mobile app</td>\n",
       "      <td>affiliate</td>\n",
       "      <td>unknown</td>\n",
       "      <td>NaN</td>\n",
       "    </tr>\n",
       "    <tr>\n",
       "      <th>19746</th>\n",
       "      <td>25bf5762</td>\n",
       "      <td>ec30c5d4c4318275</td>\n",
       "      <td>2019-02-02</td>\n",
       "      <td>2019-02-04</td>\n",
       "      <td>Nintendo Switch</td>\n",
       "      <td>b5f7</td>\n",
       "      <td>107.03</td>\n",
       "      <td>mobile app</td>\n",
       "      <td>affiliate</td>\n",
       "      <td>unknown</td>\n",
       "      <td>NaN</td>\n",
       "    </tr>\n",
       "    <tr>\n",
       "      <th>20243</th>\n",
       "      <td>8897cbc1</td>\n",
       "      <td>f08daaa26d358008</td>\n",
       "      <td>2019-05-04</td>\n",
       "      <td>2019-05-05</td>\n",
       "      <td>JBL Quantum 100 Gaming Headset</td>\n",
       "      <td>8315</td>\n",
       "      <td>24.08</td>\n",
       "      <td>mobile app</td>\n",
       "      <td>affiliate</td>\n",
       "      <td>unknown</td>\n",
       "      <td>NaN</td>\n",
       "    </tr>\n",
       "    <tr>\n",
       "      <th>20254</th>\n",
       "      <td>63879f2a</td>\n",
       "      <td>f0b7a756aae43109</td>\n",
       "      <td>2019-04-18</td>\n",
       "      <td>2019-04-21</td>\n",
       "      <td>JBL Quantum 100 Gaming Headset</td>\n",
       "      <td>2997</td>\n",
       "      <td>24.00</td>\n",
       "      <td>mobile app</td>\n",
       "      <td>affiliate</td>\n",
       "      <td>unknown</td>\n",
       "      <td>NaN</td>\n",
       "    </tr>\n",
       "    <tr>\n",
       "      <th>20658</th>\n",
       "      <td>78009722</td>\n",
       "      <td>f411d77d3642057</td>\n",
       "      <td>2021-02-11</td>\n",
       "      <td>2021-02-13</td>\n",
       "      <td>JBL Quantum 100 Gaming Headset</td>\n",
       "      <td>8315</td>\n",
       "      <td>23.52</td>\n",
       "      <td>mobile app</td>\n",
       "      <td>direct</td>\n",
       "      <td>desktop</td>\n",
       "      <td>NaN</td>\n",
       "    </tr>\n",
       "    <tr>\n",
       "      <th>20738</th>\n",
       "      <td>635a76f9</td>\n",
       "      <td>f53b3bf750743025</td>\n",
       "      <td>2019-03-16</td>\n",
       "      <td>2019-03-17</td>\n",
       "      <td>JBL Quantum 100 Gaming Headset</td>\n",
       "      <td>8315</td>\n",
       "      <td>24.24</td>\n",
       "      <td>mobile app</td>\n",
       "      <td>affiliate</td>\n",
       "      <td>unknown</td>\n",
       "      <td>NaN</td>\n",
       "    </tr>\n",
       "    <tr>\n",
       "      <th>20886</th>\n",
       "      <td>82f1489b</td>\n",
       "      <td>f6a657e394755792</td>\n",
       "      <td>2020-12-26</td>\n",
       "      <td>2020-12-29</td>\n",
       "      <td>JBL Quantum 100 Gaming Headset</td>\n",
       "      <td>2997</td>\n",
       "      <td>24.00</td>\n",
       "      <td>mobile app</td>\n",
       "      <td>direct</td>\n",
       "      <td>desktop</td>\n",
       "      <td>NaN</td>\n",
       "    </tr>\n",
       "    <tr>\n",
       "      <th>20972</th>\n",
       "      <td>b1437587</td>\n",
       "      <td>f76cd385a4b75130</td>\n",
       "      <td>2020-06-08</td>\n",
       "      <td>2020-06-11</td>\n",
       "      <td>JBL Quantum 100 Gaming Headset</td>\n",
       "      <td>8315</td>\n",
       "      <td>23.14</td>\n",
       "      <td>mobile app</td>\n",
       "      <td>affiliate</td>\n",
       "      <td>unknown</td>\n",
       "      <td>NaN</td>\n",
       "    </tr>\n",
       "  </tbody>\n",
       "</table>\n",
       "</div>"
      ],
      "text/plain": [
       "        USER_ID           ORDER_ID PURCHASE_TS    SHIP_TS  \\\n",
       "526    6af1d816   06ee8b82fbc46119  2019-04-12 2018-12-12   \n",
       "671    2ad6743f   08feac8f0a020345  2020-04-16 2019-12-07   \n",
       "1043   7a4a13ce   0dc92d0562552247  2020-05-13 2020-02-23   \n",
       "3585   9cef5a34   2fa5682923166358  2020-04-22 2020-04-25   \n",
       "4083   e5d4f232   360891064a397089  2020-09-27 2020-09-29   \n",
       "4084   e5d4f232   360891064a397090  2020-09-27 2020-09-29   \n",
       "4875   4552ac90   4054d07e48c31128  2020-07-27 2020-07-30   \n",
       "5144   b26a797c   43ce0b4a8fe75579  2019-03-30 2019-04-01   \n",
       "6124   42edad8a   50e43de8ab930156  2020-12-19 2020-12-22   \n",
       "6125   42edad8a   50e43de8ab930157  2020-12-19 2020-12-22   \n",
       "6519   0aed2d69    55f3b3925b97500  2019-01-21 2019-01-22   \n",
       "6520   0aed2d69    55f3b3925b97501  2019-01-21 2019-01-22   \n",
       "6986   6fd5ece8   5bf79b3b3f248220  2020-12-17 2020-12-19   \n",
       "7001   f4142de1  5c2e33b886d103170  2020-06-22 2020-06-24   \n",
       "7197   1f34ccb6   5ed01dc55a015759  2020-05-02 2020-05-03   \n",
       "7799   a53458c2   66c35c589d369964  2020-05-17 2020-05-19   \n",
       "9254   915ce261   790c3374fa961628  2020-11-17 2020-11-20   \n",
       "9294   373a21f9   797e298fe4a25356  2019-09-12 2019-09-13   \n",
       "9850   556329a7   80642d0e0e337567  2020-09-28 2020-10-01   \n",
       "9908   0ce56246    8136beb88148284  2019-09-01 2019-09-04   \n",
       "10741  05a3940c    8ba45d090815417  2020-01-23 2020-01-26   \n",
       "14649  77bb0cc4   bb2f725e2f751260  2020-02-06 2020-02-07   \n",
       "15796  eae47943   c62b233087399241  2019-08-08 2019-08-09   \n",
       "16442  96008786    ccadc0327dd2532  2020-12-20 2020-12-23   \n",
       "17033  1ac6c097   d2b66010d5813906  2020-08-04 2020-08-05   \n",
       "17675  99728cc1   d8c6452165464896  2021-01-31 2021-02-01   \n",
       "17676  99728cc1   d8c6452165464897  2021-01-31 2021-02-01   \n",
       "18173  547cfc4b   dd3a9ae0eab37208  2019-04-30 2019-05-03   \n",
       "18389  f7772b92  df7028fa51c104560  2019-07-28 2019-07-29   \n",
       "18438  da3ef15b   dff440bb83392202  2020-04-14 2020-04-15   \n",
       "18442  44cd1366   dffb2ea43b830914  2019-09-25 2019-09-26   \n",
       "19746  25bf5762   ec30c5d4c4318275  2019-02-02 2019-02-04   \n",
       "20243  8897cbc1   f08daaa26d358008  2019-05-04 2019-05-05   \n",
       "20254  63879f2a   f0b7a756aae43109  2019-04-18 2019-04-21   \n",
       "20658  78009722    f411d77d3642057  2021-02-11 2021-02-13   \n",
       "20738  635a76f9   f53b3bf750743025  2019-03-16 2019-03-17   \n",
       "20886  82f1489b   f6a657e394755792  2020-12-26 2020-12-29   \n",
       "20972  b1437587   f76cd385a4b75130  2020-06-08 2020-06-11   \n",
       "\n",
       "                         PRODUCT_NAME PRODUCT_ID  USD_PRICE PURCHASE_PLATFORM  \\\n",
       "526    JBL Quantum 100 Gaming Headset       8315      24.30        mobile app   \n",
       "671    JBL Quantum 100 Gaming Headset       8315      22.98        mobile app   \n",
       "1043                  Nintendo Switch       8e5d     157.42        mobile app   \n",
       "3585                  Nintendo Switch       8e5d     161.02        mobile app   \n",
       "4083                  Nintendo Switch       8e5d     165.30        mobile app   \n",
       "4084                  Nintendo Switch       8e5d     165.30        mobile app   \n",
       "4875                  Nintendo Switch       8e5d     163.04        mobile app   \n",
       "5144                  Nintendo Switch       b5f7      85.11        mobile app   \n",
       "6124   JBL Quantum 100 Gaming Headset       4c58      24.50        mobile app   \n",
       "6125   JBL Quantum 100 Gaming Headset       4c58      24.50        mobile app   \n",
       "6519   JBL Quantum 100 Gaming Headset       2997      16.75        mobile app   \n",
       "6520   JBL Quantum 100 Gaming Headset       2997      16.75        mobile app   \n",
       "6986   JBL Quantum 100 Gaming Headset       8315      23.46        mobile app   \n",
       "7001                  Nintendo Switch       8d0d     168.00           website   \n",
       "7197   JBL Quantum 100 Gaming Headset       8315      23.00        mobile app   \n",
       "7799   JBL Quantum 100 Gaming Headset       8315      23.12        mobile app   \n",
       "9254                Dell Gaming Mouse       5142      49.98        mobile app   \n",
       "9294                  Nintendo Switch       b5f7      83.71        mobile app   \n",
       "9850                Dell Gaming Mouse       5142      49.98        mobile app   \n",
       "9908                  Nintendo Switch       8e5d     162.78        mobile app   \n",
       "10741          27in 4K gaming monitor       2a50     338.78        mobile app   \n",
       "14649                 Nintendo Switch       8e5d     161.00        mobile app   \n",
       "15796  JBL Quantum 100 Gaming Headset       8315      24.22        mobile app   \n",
       "16442  JBL Quantum 100 Gaming Headset       8315      23.56        mobile app   \n",
       "17033                 Nintendo Switch       8e5d     158.30        mobile app   \n",
       "17675                 Nintendo Switch       8e5d     165.38        mobile app   \n",
       "17676                 Nintendo Switch       8e5d     165.38        mobile app   \n",
       "18173  JBL Quantum 100 Gaming Headset       8315      24.24        mobile app   \n",
       "18389  JBL Quantum 100 Gaming Headset       8315      24.10        mobile app   \n",
       "18438  JBL Quantum 100 Gaming Headset       8315      23.10        mobile app   \n",
       "18442  JBL Quantum 100 Gaming Headset       2997      24.00        mobile app   \n",
       "19746                 Nintendo Switch       b5f7     107.03        mobile app   \n",
       "20243  JBL Quantum 100 Gaming Headset       8315      24.08        mobile app   \n",
       "20254  JBL Quantum 100 Gaming Headset       2997      24.00        mobile app   \n",
       "20658  JBL Quantum 100 Gaming Headset       8315      23.52        mobile app   \n",
       "20738  JBL Quantum 100 Gaming Headset       8315      24.24        mobile app   \n",
       "20886  JBL Quantum 100 Gaming Headset       2997      24.00        mobile app   \n",
       "20972  JBL Quantum 100 Gaming Headset       8315      23.14        mobile app   \n",
       "\n",
       "      MARKETING_CHANNEL ACCOUNT_CREATION_METHOD COUNTRY_CODE  \n",
       "526           affiliate                 unknown          NaN  \n",
       "671           affiliate                 unknown          NaN  \n",
       "1043          affiliate                 unknown          NaN  \n",
       "3585             direct                 desktop          NaN  \n",
       "4083          affiliate                 unknown          NaN  \n",
       "4084          affiliate                 unknown          NaN  \n",
       "4875          affiliate                 unknown          NaN  \n",
       "5144          affiliate                 unknown          NaN  \n",
       "6124          affiliate                 unknown          NaN  \n",
       "6125          affiliate                 unknown          NaN  \n",
       "6519          affiliate                 unknown          NaN  \n",
       "6520          affiliate                 unknown          NaN  \n",
       "6986          affiliate                 unknown          NaN  \n",
       "7001             direct                 desktop          NaN  \n",
       "7197          affiliate                 unknown          NaN  \n",
       "7799          affiliate                 unknown          NaN  \n",
       "9254          affiliate                 unknown          NaN  \n",
       "9294          affiliate                 unknown          NaN  \n",
       "9850          affiliate                 unknown          NaN  \n",
       "9908             direct                 desktop          NaN  \n",
       "10741         affiliate                 unknown          NaN  \n",
       "14649         affiliate                 unknown          NaN  \n",
       "15796         affiliate                 unknown          NaN  \n",
       "16442         affiliate                 unknown          NaN  \n",
       "17033            direct                 desktop          NaN  \n",
       "17675         affiliate                 unknown          NaN  \n",
       "17676         affiliate                 unknown          NaN  \n",
       "18173         affiliate                 unknown          NaN  \n",
       "18389         affiliate                 unknown          NaN  \n",
       "18438         affiliate                 unknown          NaN  \n",
       "18442         affiliate                 unknown          NaN  \n",
       "19746         affiliate                 unknown          NaN  \n",
       "20243         affiliate                 unknown          NaN  \n",
       "20254         affiliate                 unknown          NaN  \n",
       "20658            direct                 desktop          NaN  \n",
       "20738         affiliate                 unknown          NaN  \n",
       "20886            direct                 desktop          NaN  \n",
       "20972         affiliate                 unknown          NaN  "
      ]
     },
     "execution_count": 58,
     "metadata": {},
     "output_type": "execute_result"
    }
   ],
   "source": [
    "df[df['COUNTRY_CODE'].isna() == True]"
   ]
  },
  {
   "cell_type": "markdown",
   "id": "9092af5d",
   "metadata": {},
   "source": [
    "Majority missing country code also has unknown account creation code."
   ]
  },
  {
   "cell_type": "code",
   "execution_count": 59,
   "id": "78375dcd",
   "metadata": {},
   "outputs": [
    {
     "data": {
      "application/vnd.microsoft.datawrangler.viewer.v0+json": {
       "columns": [
        {
         "name": "COUNTRY_CODE",
         "rawType": "object",
         "type": "string"
        },
        {
         "name": "count",
         "rawType": "int64",
         "type": "integer"
        }
       ],
       "ref": "b356e234-73c4-4e03-9e4f-10188d1daaa7",
       "rows": [
        [
         "US",
         "10231"
        ],
        [
         "GB",
         "1794"
        ],
        [
         "CA",
         "946"
        ],
        [
         "AU",
         "889"
        ],
        [
         "DE",
         "845"
        ],
        [
         "FR",
         "559"
        ],
        [
         "JP",
         "517"
        ],
        [
         "BR",
         "493"
        ],
        [
         "ES",
         "404"
        ],
        [
         "NL",
         "324"
        ],
        [
         "IT",
         "312"
        ],
        [
         "MX",
         "272"
        ],
        [
         "IN",
         "259"
        ],
        [
         "CH",
         "197"
        ],
        [
         "KR",
         "188"
        ],
        [
         "IE",
         "175"
        ],
        [
         "SE",
         "174"
        ],
        [
         "IL",
         "165"
        ],
        [
         "RU",
         "157"
        ],
        [
         "DK",
         "140"
        ],
        [
         "BE",
         "136"
        ],
        [
         "NO",
         "136"
        ],
        [
         "PL",
         "134"
        ],
        [
         "NZ",
         "130"
        ],
        [
         "AT",
         "118"
        ],
        [
         "TR",
         "114"
        ],
        [
         "AR",
         "103"
        ],
        [
         "CO",
         "94"
        ],
        [
         "CL",
         "87"
        ],
        [
         "ZA",
         "80"
        ],
        [
         "HK",
         "78"
        ],
        [
         "PT",
         "76"
        ],
        [
         "FI",
         "73"
        ],
        [
         "SG",
         "73"
        ],
        [
         "PE",
         "68"
        ],
        [
         "TH",
         "61"
        ],
        [
         "UA",
         "58"
        ],
        [
         "HU",
         "50"
        ],
        [
         "CZ",
         "48"
        ],
        [
         "GR",
         "47"
        ],
        [
         "RO",
         "45"
        ],
        [
         "PH",
         "43"
        ],
        [
         "AE",
         "42"
        ],
        [
         "TW",
         "42"
        ],
        [
         "EG",
         "38"
        ],
        [
         "NG",
         "36"
        ],
        [
         "MY",
         "35"
        ],
        [
         "CR",
         "27"
        ],
        [
         "SK",
         "26"
        ],
        [
         "VN",
         "23"
        ]
       ],
       "shape": {
        "columns": 1,
        "rows": 150
       }
      },
      "text/plain": [
       "COUNTRY_CODE\n",
       "US    10231\n",
       "GB     1794\n",
       "CA      946\n",
       "AU      889\n",
       "DE      845\n",
       "      ...  \n",
       "RE        1\n",
       "MZ        1\n",
       "MH        1\n",
       "MD        1\n",
       "LC        1\n",
       "Name: count, Length: 150, dtype: int64"
      ]
     },
     "execution_count": 59,
     "metadata": {},
     "output_type": "execute_result"
    }
   ],
   "source": [
    "df['COUNTRY_CODE'].value_counts()"
   ]
  },
  {
   "cell_type": "markdown",
   "id": "fe4d674e",
   "metadata": {},
   "source": [
    "### Now, that we have seen each column, let's try to fix some of the issues that we found.\n",
    "\n",
    "| issue                                     | feature                 | magnitude | solvalbe |\n",
    "| ----------------------------------------- | ----------------------- | --------- | -------- |\n",
    "| Missing purchase dates                    | PURCHASE_TS             | 5         | N        | \n",
    "| missing prices                            | USD_PRICE               | 5         | Maybe    | \n",
    "| $0 price                                  | USD_PRICE               | 29        | N        | \n",
    "| missing marketing channels                | MARKETING_CHANNEL       | 83        | N        | \n",
    "| missing account creation methods          | ACCOUNT_CREATION_METHOD | 83        | N        | \n",
    "| missing country code                      | COUNTRY_CODE            | 38        | N        |\n",
    "\n",
    "<hr>\n",
    "Out of these issues, the following can be solved right now:\n",
    "\n",
    "1. Missing prices and $0 prices: fill these prices with the mean price of that product in that year and month if it's available, else keep it as it is.\n",
    "2. Missing marketing channels and account creation methods, they are the same orders (rows), fill these values with unknown category.\n",
    "\n",
    "The rest of the issues can't be solved with available data."
   ]
  },
  {
   "cell_type": "code",
   "execution_count": 60,
   "id": "1451e230",
   "metadata": {},
   "outputs": [],
   "source": [
    "import pandas as pd\n",
    "import numpy as np\n",
    "\n",
    "def get_mean_price(row, df):\n",
    "    # Only fill if price is missing or <= 0\n",
    "    if pd.isna(row['USD_PRICE']) or row['USD_PRICE'] <= 0:\n",
    "        product = row['PRODUCT_NAME']\n",
    "        year = row['PURCHASE_TS'].year if not pd.isna(row['PURCHASE_TS']) else None\n",
    "        month = row['PURCHASE_TS'].month if not pd.isna(row['PURCHASE_TS']) else None\n",
    "\n",
    "        # Try mean for product, year, month\n",
    "        mask = (\n",
    "            (df['PRODUCT_NAME'] == product) &\n",
    "            (df['PURCHASE_TS'].dt.year == year) &\n",
    "            (df['PURCHASE_TS'].dt.month == month) &\n",
    "            (df['USD_PRICE'] > 0)\n",
    "        )\n",
    "        mean_price = df.loc[mask, 'USD_PRICE'].mean()\n",
    "\n",
    "        # If not found, try mean for product, year\n",
    "        if np.isnan(mean_price):\n",
    "            mask = (\n",
    "                (df['PRODUCT_NAME'] == product) &\n",
    "                (df['PURCHASE_TS'].dt.year == year) &\n",
    "                (df['USD_PRICE'] > 0)\n",
    "            )\n",
    "            mean_price = df.loc[mask, 'USD_PRICE'].mean()\n",
    "\n",
    "        # If not found, try global mean for product\n",
    "        if np.isnan(mean_price):\n",
    "            mask = (\n",
    "                (df['PRODUCT_NAME'] == product) &\n",
    "                (df['USD_PRICE'] > 0)\n",
    "            )\n",
    "            mean_price = df.loc[mask, 'USD_PRICE'].mean()\n",
    "\n",
    "        # If still not found, keep as is (NaN or 0)\n",
    "        return mean_price if not np.isnan(mean_price) else row['USD_PRICE']\n",
    "    else:\n",
    "        return row['USD_PRICE']"
   ]
  },
  {
   "cell_type": "markdown",
   "id": "07d4def2",
   "metadata": {},
   "source": [
    "- Filling missing prices or prices less than or equal to $0:"
   ]
  },
  {
   "cell_type": "code",
   "execution_count": 61,
   "id": "0c9d8ae5",
   "metadata": {},
   "outputs": [],
   "source": [
    "# Apply the function to fill missing or zero prices\n",
    "df['USD_PRICE'] = df.apply(lambda row: get_mean_price(row, df), axis=1)"
   ]
  },
  {
   "cell_type": "code",
   "execution_count": 62,
   "id": "2adcb0b3",
   "metadata": {},
   "outputs": [
    {
     "data": {
      "text/plain": [
       "np.int64(0)"
      ]
     },
     "execution_count": 62,
     "metadata": {},
     "output_type": "execute_result"
    }
   ],
   "source": [
    "df['USD_PRICE'].isna().sum()"
   ]
  },
  {
   "cell_type": "code",
   "execution_count": 63,
   "id": "524d4590",
   "metadata": {},
   "outputs": [
    {
     "data": {
      "application/vnd.microsoft.datawrangler.viewer.v0+json": {
       "columns": [
        {
         "name": "index",
         "rawType": "int64",
         "type": "integer"
        },
        {
         "name": "USER_ID",
         "rawType": "object",
         "type": "string"
        },
        {
         "name": "ORDER_ID",
         "rawType": "object",
         "type": "string"
        },
        {
         "name": "PURCHASE_TS",
         "rawType": "datetime64[ns]",
         "type": "datetime"
        },
        {
         "name": "SHIP_TS",
         "rawType": "datetime64[ns]",
         "type": "datetime"
        },
        {
         "name": "PRODUCT_NAME",
         "rawType": "object",
         "type": "string"
        },
        {
         "name": "PRODUCT_ID",
         "rawType": "object",
         "type": "string"
        },
        {
         "name": "USD_PRICE",
         "rawType": "float64",
         "type": "float"
        },
        {
         "name": "PURCHASE_PLATFORM",
         "rawType": "object",
         "type": "string"
        },
        {
         "name": "MARKETING_CHANNEL",
         "rawType": "object",
         "type": "string"
        },
        {
         "name": "ACCOUNT_CREATION_METHOD",
         "rawType": "object",
         "type": "string"
        },
        {
         "name": "COUNTRY_CODE",
         "rawType": "object",
         "type": "string"
        }
       ],
       "ref": "c50f4fdc-2c41-4605-954f-623a57a74f07",
       "rows": [],
       "shape": {
        "columns": 11,
        "rows": 0
       }
      },
      "text/html": [
       "<div>\n",
       "<style scoped>\n",
       "    .dataframe tbody tr th:only-of-type {\n",
       "        vertical-align: middle;\n",
       "    }\n",
       "\n",
       "    .dataframe tbody tr th {\n",
       "        vertical-align: top;\n",
       "    }\n",
       "\n",
       "    .dataframe thead th {\n",
       "        text-align: right;\n",
       "    }\n",
       "</style>\n",
       "<table border=\"1\" class=\"dataframe\">\n",
       "  <thead>\n",
       "    <tr style=\"text-align: right;\">\n",
       "      <th></th>\n",
       "      <th>USER_ID</th>\n",
       "      <th>ORDER_ID</th>\n",
       "      <th>PURCHASE_TS</th>\n",
       "      <th>SHIP_TS</th>\n",
       "      <th>PRODUCT_NAME</th>\n",
       "      <th>PRODUCT_ID</th>\n",
       "      <th>USD_PRICE</th>\n",
       "      <th>PURCHASE_PLATFORM</th>\n",
       "      <th>MARKETING_CHANNEL</th>\n",
       "      <th>ACCOUNT_CREATION_METHOD</th>\n",
       "      <th>COUNTRY_CODE</th>\n",
       "    </tr>\n",
       "  </thead>\n",
       "  <tbody>\n",
       "  </tbody>\n",
       "</table>\n",
       "</div>"
      ],
      "text/plain": [
       "Empty DataFrame\n",
       "Columns: [USER_ID, ORDER_ID, PURCHASE_TS, SHIP_TS, PRODUCT_NAME, PRODUCT_ID, USD_PRICE, PURCHASE_PLATFORM, MARKETING_CHANNEL, ACCOUNT_CREATION_METHOD, COUNTRY_CODE]\n",
       "Index: []"
      ]
     },
     "execution_count": 63,
     "metadata": {},
     "output_type": "execute_result"
    }
   ],
   "source": [
    "df[df['USD_PRICE'] <= 0]"
   ]
  },
  {
   "cell_type": "markdown",
   "id": "85499c41",
   "metadata": {},
   "source": [
    "- Filling missing account creation method and marketing channel with 'unknown':"
   ]
  },
  {
   "cell_type": "code",
   "execution_count": 66,
   "id": "b63bed5d",
   "metadata": {},
   "outputs": [],
   "source": [
    "df['ACCOUNT_CREATION_METHOD'] = df['ACCOUNT_CREATION_METHOD'].fillna('unknown')\n",
    "df['MARKETING_CHANNEL'] = df['MARKETING_CHANNEL'].fillna('unknown')"
   ]
  },
  {
   "cell_type": "code",
   "execution_count": 67,
   "id": "27870d4f",
   "metadata": {},
   "outputs": [
    {
     "data": {
      "application/vnd.microsoft.datawrangler.viewer.v0+json": {
       "columns": [
        {
         "name": "index",
         "rawType": "object",
         "type": "string"
        },
        {
         "name": "0",
         "rawType": "int64",
         "type": "integer"
        }
       ],
       "ref": "8e8665a4-4423-4598-84ed-7071966586a4",
       "rows": [
        [
         "ACCOUNT_CREATION_METHOD",
         "0"
        ],
        [
         "MARKETING_CHANNEL",
         "0"
        ]
       ],
       "shape": {
        "columns": 1,
        "rows": 2
       }
      },
      "text/plain": [
       "ACCOUNT_CREATION_METHOD    0\n",
       "MARKETING_CHANNEL          0\n",
       "dtype: int64"
      ]
     },
     "execution_count": 67,
     "metadata": {},
     "output_type": "execute_result"
    }
   ],
   "source": [
    "df[['ACCOUNT_CREATION_METHOD', 'MARKETING_CHANNEL']].isna().sum()"
   ]
  },
  {
   "cell_type": "markdown",
   "id": "98761e2e",
   "metadata": {},
   "source": [
    "- Checking if there are any inconsistencies in purchase and ship dates (their difference):"
   ]
  },
  {
   "cell_type": "code",
   "execution_count": 73,
   "id": "3edbda19",
   "metadata": {},
   "outputs": [
    {
     "data": {
      "text/plain": [
       "2002"
      ]
     },
     "execution_count": 73,
     "metadata": {},
     "output_type": "execute_result"
    }
   ],
   "source": [
    "len(df[df['SHIP_TS'] <= df['PURCHASE_TS']])"
   ]
  },
  {
   "cell_type": "markdown",
   "id": "76d2fbed",
   "metadata": {},
   "source": [
    "There are 2000 orders where the ship date comes before the purchase date."
   ]
  },
  {
   "cell_type": "code",
   "execution_count": 81,
   "id": "625ed332",
   "metadata": {},
   "outputs": [
    {
     "data": {
      "text/plain": [
       "Timedelta('-75 days +07:42:16.109890110')"
      ]
     },
     "execution_count": 81,
     "metadata": {},
     "output_type": "execute_result"
    }
   ],
   "source": [
    "inconsistent_order_dates = df[df['SHIP_TS'] <= df['PURCHASE_TS']]\n",
    "(inconsistent_order_dates['SHIP_TS'] - inconsistent_order_dates['PURCHASE_TS']).mean()"
   ]
  },
  {
   "cell_type": "markdown",
   "id": "156dace0",
   "metadata": {},
   "source": [
    "On average, these 2000 orders were shipped 75 days even before they were ordered, this must be a mistake while data entry."
   ]
  },
  {
   "cell_type": "markdown",
   "id": "54afed6f",
   "metadata": {},
   "source": [
    "## 3. Evaluate unsolvable issues"
   ]
  },
  {
   "cell_type": "markdown",
   "id": "8af79e5f",
   "metadata": {},
   "source": [
    "The following issues are still remaining:\n",
    "\n",
    "| issue                                    | feature                 | magnitude |\n",
    "| ---------------------------------------- | ----------------------- | --------- |\n",
    "| Missing purchase dates                   | PURCHASE_TS             | 5         |\n",
    "| missing country code                     | COUNTRY_CODE            | 38        |\n",
    "| inconsistent shipping and purchase dates | PURCHASE_TS AND SHIP_TS | 2000      |\n",
    "\n",
    "We have no way of fixing these issues, as we don't have a source to fill them. Thus, we can either keep them or totally remove them. However, as their magnitude is negligible, we can keep them without worry.\n"
   ]
  },
  {
   "cell_type": "code",
   "execution_count": 68,
   "id": "ab4f51eb",
   "metadata": {},
   "outputs": [
    {
     "data": {
      "application/vnd.microsoft.datawrangler.viewer.v0+json": {
       "columns": [
        {
         "name": "index",
         "rawType": "object",
         "type": "string"
        },
        {
         "name": "0",
         "rawType": "int64",
         "type": "integer"
        }
       ],
       "ref": "ccb9d1f1-dfe0-4bd2-b14a-579cb63c108a",
       "rows": [
        [
         "USER_ID",
         "0"
        ],
        [
         "ORDER_ID",
         "0"
        ],
        [
         "PURCHASE_TS",
         "5"
        ],
        [
         "SHIP_TS",
         "0"
        ],
        [
         "PRODUCT_NAME",
         "0"
        ],
        [
         "PRODUCT_ID",
         "0"
        ],
        [
         "USD_PRICE",
         "0"
        ],
        [
         "PURCHASE_PLATFORM",
         "0"
        ],
        [
         "MARKETING_CHANNEL",
         "0"
        ],
        [
         "ACCOUNT_CREATION_METHOD",
         "0"
        ],
        [
         "COUNTRY_CODE",
         "38"
        ]
       ],
       "shape": {
        "columns": 1,
        "rows": 11
       }
      },
      "text/plain": [
       "USER_ID                     0\n",
       "ORDER_ID                    0\n",
       "PURCHASE_TS                 5\n",
       "SHIP_TS                     0\n",
       "PRODUCT_NAME                0\n",
       "PRODUCT_ID                  0\n",
       "USD_PRICE                   0\n",
       "PURCHASE_PLATFORM           0\n",
       "MARKETING_CHANNEL           0\n",
       "ACCOUNT_CREATION_METHOD     0\n",
       "COUNTRY_CODE               38\n",
       "dtype: int64"
      ]
     },
     "execution_count": 68,
     "metadata": {},
     "output_type": "execute_result"
    }
   ],
   "source": [
    "df.isna().sum()"
   ]
  },
  {
   "cell_type": "markdown",
   "id": "451ad9c2",
   "metadata": {},
   "source": [
    "Creating a separate df with only valid dates:"
   ]
  },
  {
   "cell_type": "code",
   "execution_count": 83,
   "id": "f6092627",
   "metadata": {},
   "outputs": [],
   "source": [
    "valid_df = df[df['SHIP_TS'] > df['PURCHASE_TS']]"
   ]
  },
  {
   "cell_type": "code",
   "execution_count": 84,
   "id": "4f656e26",
   "metadata": {},
   "outputs": [
    {
     "data": {
      "text/plain": [
       "(19712, 11)"
      ]
     },
     "execution_count": 84,
     "metadata": {},
     "output_type": "execute_result"
    }
   ],
   "source": [
    "valid_df.shape"
   ]
  },
  {
   "cell_type": "markdown",
   "id": "bfbcc500",
   "metadata": {},
   "source": [
    "## 4. Augment the data"
   ]
  },
  {
   "cell_type": "code",
   "execution_count": null,
   "id": "ea2485b3",
   "metadata": {},
   "outputs": [],
   "source": []
  }
 ],
 "metadata": {
  "kernelspec": {
   "display_name": ".venv",
   "language": "python",
   "name": "python3"
  },
  "language_info": {
   "codemirror_mode": {
    "name": "ipython",
    "version": 3
   },
   "file_extension": ".py",
   "mimetype": "text/x-python",
   "name": "python",
   "nbconvert_exporter": "python",
   "pygments_lexer": "ipython3",
   "version": "3.12.7"
  }
 },
 "nbformat": 4,
 "nbformat_minor": 5
}
