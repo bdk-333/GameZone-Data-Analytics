{
 "cells": [
  {
   "cell_type": "code",
   "execution_count": 3,
   "id": "7bf974fd",
   "metadata": {},
   "outputs": [],
   "source": [
    "import pandas as pd \n",
    "import numpy as np \n",
    "import matplotlib as plt \n",
    "%matplotlib inline \n",
    "import seaborn as sns "
   ]
  },
  {
   "cell_type": "code",
   "execution_count": 5,
   "id": "c512762e",
   "metadata": {},
   "outputs": [
    {
     "data": {
      "application/vnd.microsoft.datawrangler.viewer.v0+json": {
       "columns": [
        {
         "name": "index",
         "rawType": "int64",
         "type": "integer"
        },
        {
         "name": "USER_ID",
         "rawType": "object",
         "type": "string"
        },
        {
         "name": "ORDER_ID",
         "rawType": "object",
         "type": "string"
        },
        {
         "name": "PURCHASE_TS",
         "rawType": "object",
         "type": "unknown"
        },
        {
         "name": "SHIP_TS",
         "rawType": "datetime64[ns]",
         "type": "datetime"
        },
        {
         "name": "PRODUCT_NAME",
         "rawType": "object",
         "type": "string"
        },
        {
         "name": "PRODUCT_ID",
         "rawType": "object",
         "type": "string"
        },
        {
         "name": "USD_PRICE",
         "rawType": "float64",
         "type": "float"
        },
        {
         "name": "PURCHASE_PLATFORM",
         "rawType": "object",
         "type": "string"
        },
        {
         "name": "MARKETING_CHANNEL",
         "rawType": "object",
         "type": "string"
        },
        {
         "name": "ACCOUNT_CREATION_METHOD",
         "rawType": "object",
         "type": "string"
        },
        {
         "name": "COUNTRY_CODE",
         "rawType": "object",
         "type": "string"
        }
       ],
       "ref": "d2303e20-4e26-488d-b27a-1a586f3c8801",
       "rows": [
        [
         "0",
         "2c06175e",
         "0001328c3c220830",
         "2020-12-24 00:00:00",
         "2020-12-13 00:00:00",
         "Nintendo Switch",
         "e682",
         "168.0",
         "website",
         "affiliate",
         "unknown",
         "US"
        ],
        [
         "1",
         "ee8e5bc2",
         "0002af7a5c6100772",
         "2020-10-01 00:00:00",
         "2020-09-21 00:00:00",
         "Nintendo Switch",
         "e682",
         "160.61",
         "website",
         "direct",
         "desktop",
         "DE"
        ],
        [
         "2",
         "9eb4efe0",
         "0002b8350e167074",
         "2020-04-21 00:00:00",
         "2020-02-16 00:00:00",
         "Nintendo Switch",
         "8d0d",
         "151.2",
         "website",
         "direct",
         "desktop",
         "US"
        ],
        [
         "3",
         "cac7cbaf",
         "0006d06b98385729",
         "2020-04-07 00:00:00",
         "2020-04-04 00:00:00",
         "Sony PlayStation 5 Bundle",
         "54ed",
         "1132.82",
         "website",
         "direct",
         "desktop",
         "AU"
        ],
        [
         "4",
         "6b0230bc",
         "00097279a2f46150",
         "2020-11-24 00:00:00",
         "2020-08-02 00:00:00",
         "Nintendo Switch",
         "8d0d",
         "33.89",
         "website",
         "direct",
         "desktop",
         "TR"
        ]
       ],
       "shape": {
        "columns": 11,
        "rows": 5
       }
      },
      "text/html": [
       "<div>\n",
       "<style scoped>\n",
       "    .dataframe tbody tr th:only-of-type {\n",
       "        vertical-align: middle;\n",
       "    }\n",
       "\n",
       "    .dataframe tbody tr th {\n",
       "        vertical-align: top;\n",
       "    }\n",
       "\n",
       "    .dataframe thead th {\n",
       "        text-align: right;\n",
       "    }\n",
       "</style>\n",
       "<table border=\"1\" class=\"dataframe\">\n",
       "  <thead>\n",
       "    <tr style=\"text-align: right;\">\n",
       "      <th></th>\n",
       "      <th>USER_ID</th>\n",
       "      <th>ORDER_ID</th>\n",
       "      <th>PURCHASE_TS</th>\n",
       "      <th>SHIP_TS</th>\n",
       "      <th>PRODUCT_NAME</th>\n",
       "      <th>PRODUCT_ID</th>\n",
       "      <th>USD_PRICE</th>\n",
       "      <th>PURCHASE_PLATFORM</th>\n",
       "      <th>MARKETING_CHANNEL</th>\n",
       "      <th>ACCOUNT_CREATION_METHOD</th>\n",
       "      <th>COUNTRY_CODE</th>\n",
       "    </tr>\n",
       "  </thead>\n",
       "  <tbody>\n",
       "    <tr>\n",
       "      <th>0</th>\n",
       "      <td>2c06175e</td>\n",
       "      <td>0001328c3c220830</td>\n",
       "      <td>2020-12-24 00:00:00</td>\n",
       "      <td>2020-12-13</td>\n",
       "      <td>Nintendo Switch</td>\n",
       "      <td>e682</td>\n",
       "      <td>168.00</td>\n",
       "      <td>website</td>\n",
       "      <td>affiliate</td>\n",
       "      <td>unknown</td>\n",
       "      <td>US</td>\n",
       "    </tr>\n",
       "    <tr>\n",
       "      <th>1</th>\n",
       "      <td>ee8e5bc2</td>\n",
       "      <td>0002af7a5c6100772</td>\n",
       "      <td>2020-10-01 00:00:00</td>\n",
       "      <td>2020-09-21</td>\n",
       "      <td>Nintendo Switch</td>\n",
       "      <td>e682</td>\n",
       "      <td>160.61</td>\n",
       "      <td>website</td>\n",
       "      <td>direct</td>\n",
       "      <td>desktop</td>\n",
       "      <td>DE</td>\n",
       "    </tr>\n",
       "    <tr>\n",
       "      <th>2</th>\n",
       "      <td>9eb4efe0</td>\n",
       "      <td>0002b8350e167074</td>\n",
       "      <td>2020-04-21 00:00:00</td>\n",
       "      <td>2020-02-16</td>\n",
       "      <td>Nintendo Switch</td>\n",
       "      <td>8d0d</td>\n",
       "      <td>151.20</td>\n",
       "      <td>website</td>\n",
       "      <td>direct</td>\n",
       "      <td>desktop</td>\n",
       "      <td>US</td>\n",
       "    </tr>\n",
       "    <tr>\n",
       "      <th>3</th>\n",
       "      <td>cac7cbaf</td>\n",
       "      <td>0006d06b98385729</td>\n",
       "      <td>2020-04-07 00:00:00</td>\n",
       "      <td>2020-04-04</td>\n",
       "      <td>Sony PlayStation 5 Bundle</td>\n",
       "      <td>54ed</td>\n",
       "      <td>1132.82</td>\n",
       "      <td>website</td>\n",
       "      <td>direct</td>\n",
       "      <td>desktop</td>\n",
       "      <td>AU</td>\n",
       "    </tr>\n",
       "    <tr>\n",
       "      <th>4</th>\n",
       "      <td>6b0230bc</td>\n",
       "      <td>00097279a2f46150</td>\n",
       "      <td>2020-11-24 00:00:00</td>\n",
       "      <td>2020-08-02</td>\n",
       "      <td>Nintendo Switch</td>\n",
       "      <td>8d0d</td>\n",
       "      <td>33.89</td>\n",
       "      <td>website</td>\n",
       "      <td>direct</td>\n",
       "      <td>desktop</td>\n",
       "      <td>TR</td>\n",
       "    </tr>\n",
       "  </tbody>\n",
       "</table>\n",
       "</div>"
      ],
      "text/plain": [
       "    USER_ID           ORDER_ID          PURCHASE_TS    SHIP_TS  \\\n",
       "0  2c06175e   0001328c3c220830  2020-12-24 00:00:00 2020-12-13   \n",
       "1  ee8e5bc2  0002af7a5c6100772  2020-10-01 00:00:00 2020-09-21   \n",
       "2  9eb4efe0   0002b8350e167074  2020-04-21 00:00:00 2020-02-16   \n",
       "3  cac7cbaf   0006d06b98385729  2020-04-07 00:00:00 2020-04-04   \n",
       "4  6b0230bc   00097279a2f46150  2020-11-24 00:00:00 2020-08-02   \n",
       "\n",
       "                PRODUCT_NAME PRODUCT_ID  USD_PRICE PURCHASE_PLATFORM  \\\n",
       "0            Nintendo Switch       e682     168.00           website   \n",
       "1            Nintendo Switch       e682     160.61           website   \n",
       "2            Nintendo Switch       8d0d     151.20           website   \n",
       "3  Sony PlayStation 5 Bundle       54ed    1132.82           website   \n",
       "4            Nintendo Switch       8d0d      33.89           website   \n",
       "\n",
       "  MARKETING_CHANNEL ACCOUNT_CREATION_METHOD COUNTRY_CODE  \n",
       "0         affiliate                 unknown           US  \n",
       "1            direct                 desktop           DE  \n",
       "2            direct                 desktop           US  \n",
       "3            direct                 desktop           AU  \n",
       "4            direct                 desktop           TR  "
      ]
     },
     "execution_count": 5,
     "metadata": {},
     "output_type": "execute_result"
    }
   ],
   "source": [
    "df = pd.read_excel('../data/gamezone-orders-data.xlsx')\n",
    "df.head()"
   ]
  },
  {
   "cell_type": "markdown",
   "id": "7055ba9f",
   "metadata": {},
   "source": [
    "## Plan for data cleaning:\n",
    "\n",
    "In this cleaning process, I'll be using the **\"CLEAN\"** approach.\n",
    "\n",
    "1. **C**: Conceptualize the Data.\n",
    "    - This means understant the date. What each row represents in your data or table? Which are the quantitative features and which are the qualitative features, which features is or could be the target of the analysis? Which features aren't that important in the analysis?, etc. \n",
    "2. **L**: Locate Solvable Problems.\n",
    "    - This is the first pass of data cleaning, here we try to find and fix the \"low-hanging fruits\", meaning the obvious errors that we can quickly notice and deal with.\n",
    "    - It includes going through each features and checking for inconsistencies like spelling (USA vs United States vs America), data formatting (12-12-12 vs 12/12/12), leading or trailing characters or spaces (e.g., ---monitors----, \"   bike \", etc.), checking for missing values, duplicate values, checking data types, etc.\n",
    "3. **E**: Evaluate Unsolvable issues.\n",
    "    - In this step we try to deal with the issues that are not so easy to deal with like handling missing data. In this case, we can either keep it as it is, or impute it.\n",
    "        - Most probably for the analysis step we keep the data as it is and not impute it, because imputing data introduces bias which could be mislead the analysis.\n",
    "        - However, we can still impute if we have a truth source, for example if the product price is missing, we can filter the price from another, say products, for the purchase data because we have recorded the product data into another table.\n",
    "    - Investigate outliers. Is these rows genuine or just an entry error? In most cases we keep the outliers if they are actually genuine.\n",
    "    - And for the problems that we can't solve, we flag it. Meaning that if in the data we find all the data missing from Dec, and we have no way of accessing that data, we flag it as an issue, e.g., to the stakeholder. \n",
    "4. **A**: Augment the data.\n",
    "    - Now that we have cleaned data, we try to make it more powerful for analysis by creating new features using the ones we already have. \n",
    "    - For example, we have purchase data, from this we can create purchase year, month and day. If we have age, we can create age groups like teenagers, young adults, adults, etc. If we have country code, we can use a lookup table and create a region table, etc.\n",
    "5. **N**: Note and document.\n",
    "    - We keep a record of our cleaning at every step, so that others or even our future self can understand what we did and how. It builds trust in your process and transparency.\n",
    "    - We note our actions ('A') and issues we find in the ('L' and 'E') steps, for example filled 50 missing values in a column with unknown, or 1000 rows are missing purchase date, kept it but didn't include it for time series analysis, etc.\n",
    "    - Through the cleaning process, we keep an issue log, where we write any issues we find, it's magnitude (what percent of data is affected), ideas of how it can be solved, resolution, etc. \n"
   ]
  },
  {
   "cell_type": "code",
   "execution_count": null,
   "id": "0215b2da",
   "metadata": {},
   "outputs": [],
   "source": []
  }
 ],
 "metadata": {
  "kernelspec": {
   "display_name": ".venv",
   "language": "python",
   "name": "python3"
  },
  "language_info": {
   "codemirror_mode": {
    "name": "ipython",
    "version": 3
   },
   "file_extension": ".py",
   "mimetype": "text/x-python",
   "name": "python",
   "nbconvert_exporter": "python",
   "pygments_lexer": "ipython3",
   "version": "3.12.7"
  }
 },
 "nbformat": 4,
 "nbformat_minor": 5
}
