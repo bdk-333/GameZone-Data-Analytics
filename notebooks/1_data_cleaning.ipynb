{
 "cells": [
  {
   "cell_type": "code",
   "execution_count": 1,
   "id": "7bf974fd",
   "metadata": {},
   "outputs": [],
   "source": [
    "import pandas as pd \n",
    "import numpy as np \n",
    "import matplotlib as plt \n",
    "%matplotlib inline \n",
    "import seaborn as sns "
   ]
  },
  {
   "cell_type": "code",
   "execution_count": 2,
   "id": "c512762e",
   "metadata": {},
   "outputs": [
    {
     "data": {
      "application/vnd.microsoft.datawrangler.viewer.v0+json": {
       "columns": [
        {
         "name": "index",
         "rawType": "int64",
         "type": "integer"
        },
        {
         "name": "USER_ID",
         "rawType": "object",
         "type": "string"
        },
        {
         "name": "ORDER_ID",
         "rawType": "object",
         "type": "string"
        },
        {
         "name": "PURCHASE_TS",
         "rawType": "object",
         "type": "unknown"
        },
        {
         "name": "SHIP_TS",
         "rawType": "datetime64[ns]",
         "type": "datetime"
        },
        {
         "name": "PRODUCT_NAME",
         "rawType": "object",
         "type": "string"
        },
        {
         "name": "PRODUCT_ID",
         "rawType": "object",
         "type": "string"
        },
        {
         "name": "USD_PRICE",
         "rawType": "float64",
         "type": "float"
        },
        {
         "name": "PURCHASE_PLATFORM",
         "rawType": "object",
         "type": "string"
        },
        {
         "name": "MARKETING_CHANNEL",
         "rawType": "object",
         "type": "string"
        },
        {
         "name": "ACCOUNT_CREATION_METHOD",
         "rawType": "object",
         "type": "string"
        },
        {
         "name": "COUNTRY_CODE",
         "rawType": "object",
         "type": "string"
        }
       ],
       "ref": "d00056b1-e6d9-42bc-a7d8-0a592cfb515c",
       "rows": [
        [
         "0",
         "2c06175e",
         "0001328c3c220830",
         "2020-12-24 00:00:00",
         "2020-12-13 00:00:00",
         "Nintendo Switch",
         "e682",
         "168.0",
         "website",
         "affiliate",
         "unknown",
         "US"
        ],
        [
         "1",
         "ee8e5bc2",
         "0002af7a5c6100772",
         "2020-10-01 00:00:00",
         "2020-09-21 00:00:00",
         "Nintendo Switch",
         "e682",
         "160.61",
         "website",
         "direct",
         "desktop",
         "DE"
        ],
        [
         "2",
         "9eb4efe0",
         "0002b8350e167074",
         "2020-04-21 00:00:00",
         "2020-02-16 00:00:00",
         "Nintendo Switch",
         "8d0d",
         "151.2",
         "website",
         "direct",
         "desktop",
         "US"
        ],
        [
         "3",
         "cac7cbaf",
         "0006d06b98385729",
         "2020-04-07 00:00:00",
         "2020-04-04 00:00:00",
         "Sony PlayStation 5 Bundle",
         "54ed",
         "1132.82",
         "website",
         "direct",
         "desktop",
         "AU"
        ],
        [
         "4",
         "6b0230bc",
         "00097279a2f46150",
         "2020-11-24 00:00:00",
         "2020-08-02 00:00:00",
         "Nintendo Switch",
         "8d0d",
         "33.89",
         "website",
         "direct",
         "desktop",
         "TR"
        ]
       ],
       "shape": {
        "columns": 11,
        "rows": 5
       }
      },
      "text/html": [
       "<div>\n",
       "<style scoped>\n",
       "    .dataframe tbody tr th:only-of-type {\n",
       "        vertical-align: middle;\n",
       "    }\n",
       "\n",
       "    .dataframe tbody tr th {\n",
       "        vertical-align: top;\n",
       "    }\n",
       "\n",
       "    .dataframe thead th {\n",
       "        text-align: right;\n",
       "    }\n",
       "</style>\n",
       "<table border=\"1\" class=\"dataframe\">\n",
       "  <thead>\n",
       "    <tr style=\"text-align: right;\">\n",
       "      <th></th>\n",
       "      <th>USER_ID</th>\n",
       "      <th>ORDER_ID</th>\n",
       "      <th>PURCHASE_TS</th>\n",
       "      <th>SHIP_TS</th>\n",
       "      <th>PRODUCT_NAME</th>\n",
       "      <th>PRODUCT_ID</th>\n",
       "      <th>USD_PRICE</th>\n",
       "      <th>PURCHASE_PLATFORM</th>\n",
       "      <th>MARKETING_CHANNEL</th>\n",
       "      <th>ACCOUNT_CREATION_METHOD</th>\n",
       "      <th>COUNTRY_CODE</th>\n",
       "    </tr>\n",
       "  </thead>\n",
       "  <tbody>\n",
       "    <tr>\n",
       "      <th>0</th>\n",
       "      <td>2c06175e</td>\n",
       "      <td>0001328c3c220830</td>\n",
       "      <td>2020-12-24 00:00:00</td>\n",
       "      <td>2020-12-13</td>\n",
       "      <td>Nintendo Switch</td>\n",
       "      <td>e682</td>\n",
       "      <td>168.00</td>\n",
       "      <td>website</td>\n",
       "      <td>affiliate</td>\n",
       "      <td>unknown</td>\n",
       "      <td>US</td>\n",
       "    </tr>\n",
       "    <tr>\n",
       "      <th>1</th>\n",
       "      <td>ee8e5bc2</td>\n",
       "      <td>0002af7a5c6100772</td>\n",
       "      <td>2020-10-01 00:00:00</td>\n",
       "      <td>2020-09-21</td>\n",
       "      <td>Nintendo Switch</td>\n",
       "      <td>e682</td>\n",
       "      <td>160.61</td>\n",
       "      <td>website</td>\n",
       "      <td>direct</td>\n",
       "      <td>desktop</td>\n",
       "      <td>DE</td>\n",
       "    </tr>\n",
       "    <tr>\n",
       "      <th>2</th>\n",
       "      <td>9eb4efe0</td>\n",
       "      <td>0002b8350e167074</td>\n",
       "      <td>2020-04-21 00:00:00</td>\n",
       "      <td>2020-02-16</td>\n",
       "      <td>Nintendo Switch</td>\n",
       "      <td>8d0d</td>\n",
       "      <td>151.20</td>\n",
       "      <td>website</td>\n",
       "      <td>direct</td>\n",
       "      <td>desktop</td>\n",
       "      <td>US</td>\n",
       "    </tr>\n",
       "    <tr>\n",
       "      <th>3</th>\n",
       "      <td>cac7cbaf</td>\n",
       "      <td>0006d06b98385729</td>\n",
       "      <td>2020-04-07 00:00:00</td>\n",
       "      <td>2020-04-04</td>\n",
       "      <td>Sony PlayStation 5 Bundle</td>\n",
       "      <td>54ed</td>\n",
       "      <td>1132.82</td>\n",
       "      <td>website</td>\n",
       "      <td>direct</td>\n",
       "      <td>desktop</td>\n",
       "      <td>AU</td>\n",
       "    </tr>\n",
       "    <tr>\n",
       "      <th>4</th>\n",
       "      <td>6b0230bc</td>\n",
       "      <td>00097279a2f46150</td>\n",
       "      <td>2020-11-24 00:00:00</td>\n",
       "      <td>2020-08-02</td>\n",
       "      <td>Nintendo Switch</td>\n",
       "      <td>8d0d</td>\n",
       "      <td>33.89</td>\n",
       "      <td>website</td>\n",
       "      <td>direct</td>\n",
       "      <td>desktop</td>\n",
       "      <td>TR</td>\n",
       "    </tr>\n",
       "  </tbody>\n",
       "</table>\n",
       "</div>"
      ],
      "text/plain": [
       "    USER_ID           ORDER_ID          PURCHASE_TS    SHIP_TS  \\\n",
       "0  2c06175e   0001328c3c220830  2020-12-24 00:00:00 2020-12-13   \n",
       "1  ee8e5bc2  0002af7a5c6100772  2020-10-01 00:00:00 2020-09-21   \n",
       "2  9eb4efe0   0002b8350e167074  2020-04-21 00:00:00 2020-02-16   \n",
       "3  cac7cbaf   0006d06b98385729  2020-04-07 00:00:00 2020-04-04   \n",
       "4  6b0230bc   00097279a2f46150  2020-11-24 00:00:00 2020-08-02   \n",
       "\n",
       "                PRODUCT_NAME PRODUCT_ID  USD_PRICE PURCHASE_PLATFORM  \\\n",
       "0            Nintendo Switch       e682     168.00           website   \n",
       "1            Nintendo Switch       e682     160.61           website   \n",
       "2            Nintendo Switch       8d0d     151.20           website   \n",
       "3  Sony PlayStation 5 Bundle       54ed    1132.82           website   \n",
       "4            Nintendo Switch       8d0d      33.89           website   \n",
       "\n",
       "  MARKETING_CHANNEL ACCOUNT_CREATION_METHOD COUNTRY_CODE  \n",
       "0         affiliate                 unknown           US  \n",
       "1            direct                 desktop           DE  \n",
       "2            direct                 desktop           US  \n",
       "3            direct                 desktop           AU  \n",
       "4            direct                 desktop           TR  "
      ]
     },
     "execution_count": 2,
     "metadata": {},
     "output_type": "execute_result"
    }
   ],
   "source": [
    "df = pd.read_excel('../data/gamezone-orders-data.xlsx')\n",
    "df.head()"
   ]
  },
  {
   "cell_type": "markdown",
   "id": "7055ba9f",
   "metadata": {},
   "source": [
    "## Data Cleaning Plan\n",
    "\n",
    "For this project, I'll be following the **CLEAN** approach to prepare the dataset for analysis:\n",
    "\n",
    "- **Conceptualize the Data:** Understand what each feature represents and identify key columns.\n",
    "- **Locate Solvable Problems:** Find and fix obvious issues like missing values, duplicates, and inconsistent formatting.\n",
    "- **Evaluate Unsolvable Issues:** Address more complex problems such as outliers and unresolved missing data.\n",
    "- **Augment the Data:** Create new features if they add value to the analysis.\n",
    "- **Note and Document:** Record all cleaning steps and decisions for transparency.\n",
    "\n",
    "This structured process will help ensure the data is reliable and ready for analysis."
   ]
  },
  {
   "cell_type": "markdown",
   "id": "398e89cf",
   "metadata": {},
   "source": [
    "## 1. Conceptualize"
   ]
  },
  {
   "cell_type": "code",
   "execution_count": 3,
   "id": "0215b2da",
   "metadata": {},
   "outputs": [
    {
     "name": "stdout",
     "output_type": "stream",
     "text": [
      "<class 'pandas.core.frame.DataFrame'>\n",
      "RangeIndex: 21864 entries, 0 to 21863\n",
      "Data columns (total 11 columns):\n",
      " #   Column                   Non-Null Count  Dtype         \n",
      "---  ------                   --------------  -----         \n",
      " 0   USER_ID                  21864 non-null  object        \n",
      " 1   ORDER_ID                 21864 non-null  object        \n",
      " 2   PURCHASE_TS              21864 non-null  object        \n",
      " 3   SHIP_TS                  21864 non-null  datetime64[ns]\n",
      " 4   PRODUCT_NAME             21864 non-null  object        \n",
      " 5   PRODUCT_ID               21864 non-null  object        \n",
      " 6   USD_PRICE                21859 non-null  float64       \n",
      " 7   PURCHASE_PLATFORM        21864 non-null  object        \n",
      " 8   MARKETING_CHANNEL        21781 non-null  object        \n",
      " 9   ACCOUNT_CREATION_METHOD  21781 non-null  object        \n",
      " 10  COUNTRY_CODE             21826 non-null  object        \n",
      "dtypes: datetime64[ns](1), float64(1), object(9)\n",
      "memory usage: 1.8+ MB\n"
     ]
    }
   ],
   "source": [
    "df.info()"
   ]
  },
  {
   "cell_type": "markdown",
   "id": "13e732bb",
   "metadata": {},
   "source": [
    "- We have around 22k orders.\n",
    "\n",
    "- We have just one metric or numeric features here and that's `USD_PRICE`, which is also our key features.\n",
    "- More useful features could be: `PURCHASE_TS`, `SHIP_TS`M, `PRODUCT_NAME`, `MARKETING_CHANNEL`, `COUNTRY_CODE`.\n",
    "\n",
    "- Possible type conversions: `PURCHASE_TS` to datetime.\n"
   ]
  },
  {
   "cell_type": "markdown",
   "id": "ba8c0279",
   "metadata": {},
   "source": [
    "## 2. Locate issues"
   ]
  },
  {
   "cell_type": "markdown",
   "id": "8c4c998c",
   "metadata": {},
   "source": [
    "### `USER_ID`"
   ]
  },
  {
   "cell_type": "code",
   "execution_count": 4,
   "id": "feeff056",
   "metadata": {},
   "outputs": [
    {
     "data": {
      "text/plain": [
       "90.79308452250274"
      ]
     },
     "execution_count": 4,
     "metadata": {},
     "output_type": "execute_result"
    }
   ],
   "source": [
    "len(df['USER_ID'].unique()) / len(df) * 100"
   ]
  },
  {
   "cell_type": "code",
   "execution_count": 5,
   "id": "03707992",
   "metadata": {},
   "outputs": [
    {
     "data": {
      "text/plain": [
       "np.int64(2013)"
      ]
     },
     "execution_count": 5,
     "metadata": {},
     "output_type": "execute_result"
    }
   ],
   "source": [
    "df['USER_ID'].duplicated().sum()"
   ]
  },
  {
   "cell_type": "code",
   "execution_count": 6,
   "id": "a39b7656",
   "metadata": {},
   "outputs": [
    {
     "data": {
      "text/plain": [
       "0.09206915477497256"
      ]
     },
     "execution_count": 6,
     "metadata": {},
     "output_type": "execute_result"
    }
   ],
   "source": [
    "2013/21864"
   ]
  },
  {
   "cell_type": "markdown",
   "id": "9179747a",
   "metadata": {},
   "source": [
    "Almost 91% are unique user id, and only around 9% are repeating user ids in the dataset."
   ]
  },
  {
   "cell_type": "markdown",
   "id": "dbe90d63",
   "metadata": {},
   "source": [
    "### `ORDER_ID`"
   ]
  },
  {
   "cell_type": "code",
   "execution_count": 7,
   "id": "42cd1a28",
   "metadata": {},
   "outputs": [
    {
     "data": {
      "text/plain": [
       "21719"
      ]
     },
     "execution_count": 7,
     "metadata": {},
     "output_type": "execute_result"
    }
   ],
   "source": [
    "len(df['ORDER_ID'].unique())"
   ]
  },
  {
   "cell_type": "code",
   "execution_count": 8,
   "id": "9b2e38b0",
   "metadata": {},
   "outputs": [
    {
     "data": {
      "text/plain": [
       "np.int64(145)"
      ]
     },
     "execution_count": 8,
     "metadata": {},
     "output_type": "execute_result"
    }
   ],
   "source": [
    "df['ORDER_ID'].duplicated().sum()"
   ]
  },
  {
   "cell_type": "markdown",
   "id": "8ce8dd7d",
   "metadata": {},
   "source": [
    "We have 145 duplicate orders. We need to investigate this because there shouldn't be any duplicate orders in the data."
   ]
  },
  {
   "cell_type": "code",
   "execution_count": 9,
   "id": "dfa07fd8",
   "metadata": {},
   "outputs": [
    {
     "data": {
      "application/vnd.microsoft.datawrangler.viewer.v0+json": {
       "columns": [
        {
         "name": "PRODUCT_NAME",
         "rawType": "object",
         "type": "string"
        },
        {
         "name": "count",
         "rawType": "int64",
         "type": "integer"
        }
       ],
       "ref": "4b758d56-c367-41d1-b136-bdbf382f9b13",
       "rows": [
        [
         "Nintendo Switch",
         "98"
        ],
        [
         "27in 4K gaming monitor",
         "37"
        ],
        [
         "Sony PlayStation 5 Bundle",
         "10"
        ]
       ],
       "shape": {
        "columns": 1,
        "rows": 3
       }
      },
      "text/plain": [
       "PRODUCT_NAME\n",
       "Nintendo Switch              98\n",
       "27in 4K gaming monitor       37\n",
       "Sony PlayStation 5 Bundle    10\n",
       "Name: count, dtype: int64"
      ]
     },
     "execution_count": 9,
     "metadata": {},
     "output_type": "execute_result"
    }
   ],
   "source": [
    "df[df['ORDER_ID'].duplicated() == True]['PRODUCT_NAME'].value_counts()"
   ]
  },
  {
   "cell_type": "code",
   "execution_count": 10,
   "id": "792decad",
   "metadata": {},
   "outputs": [
    {
     "data": {
      "application/vnd.microsoft.datawrangler.viewer.v0+json": {
       "columns": [
        {
         "name": "index",
         "rawType": "int64",
         "type": "integer"
        },
        {
         "name": "USER_ID",
         "rawType": "object",
         "type": "string"
        },
        {
         "name": "ORDER_ID",
         "rawType": "object",
         "type": "string"
        },
        {
         "name": "PURCHASE_TS",
         "rawType": "object",
         "type": "unknown"
        },
        {
         "name": "SHIP_TS",
         "rawType": "datetime64[ns]",
         "type": "datetime"
        },
        {
         "name": "PRODUCT_NAME",
         "rawType": "object",
         "type": "string"
        },
        {
         "name": "PRODUCT_ID",
         "rawType": "object",
         "type": "string"
        },
        {
         "name": "USD_PRICE",
         "rawType": "float64",
         "type": "float"
        },
        {
         "name": "PURCHASE_PLATFORM",
         "rawType": "object",
         "type": "string"
        },
        {
         "name": "MARKETING_CHANNEL",
         "rawType": "object",
         "type": "string"
        },
        {
         "name": "ACCOUNT_CREATION_METHOD",
         "rawType": "object",
         "type": "string"
        },
        {
         "name": "COUNTRY_CODE",
         "rawType": "object",
         "type": "string"
        }
       ],
       "ref": "23895ac4-20ce-4307-b8b6-9d81862f597a",
       "rows": [
        [
         "9379",
         "b66cdb8d",
         "7a5f67e18fa77291",
         "2020-01-27 00:00:00",
         "2020-01-28 00:00:00",
         "27in 4K gaming monitor",
         "e7e6",
         "480.0",
         "website",
         "direct",
         "desktop",
         "US"
        ],
        [
         "9564",
         "6270d6f9",
         "7d09de332e342684",
         "2020-01-27 00:00:00",
         "2020-01-30 00:00:00",
         "27in 4K gaming monitor",
         "891b",
         "332.2",
         "website",
         "direct",
         "desktop",
         "BR"
        ],
        [
         "9922",
         "e80b93ad",
         "815caec5eb998020",
         "2020-01-30 00:00:00",
         "2020-01-31 00:00:00",
         "27in 4K gaming monitor",
         "891b",
         "408.2",
         "website",
         "email",
         "desktop",
         "DE"
        ],
        [
         "10052",
         "3838f9e6",
         "833086c869925765",
         "2020-01-24 00:00:00",
         "2020-01-25 00:00:00",
         "27in 4K gaming monitor",
         "891b",
         "317.14",
         "website",
         "direct",
         "desktop",
         "JP"
        ],
        [
         "10142",
         "fd7dd923",
         "844a97334cd107082",
         "2020-01-22 00:00:00",
         "2020-01-25 00:00:00",
         "27in 4K gaming monitor",
         "891b",
         "480.0",
         "website",
         "direct",
         "desktop",
         "US"
        ]
       ],
       "shape": {
        "columns": 11,
        "rows": 5
       }
      },
      "text/html": [
       "<div>\n",
       "<style scoped>\n",
       "    .dataframe tbody tr th:only-of-type {\n",
       "        vertical-align: middle;\n",
       "    }\n",
       "\n",
       "    .dataframe tbody tr th {\n",
       "        vertical-align: top;\n",
       "    }\n",
       "\n",
       "    .dataframe thead th {\n",
       "        text-align: right;\n",
       "    }\n",
       "</style>\n",
       "<table border=\"1\" class=\"dataframe\">\n",
       "  <thead>\n",
       "    <tr style=\"text-align: right;\">\n",
       "      <th></th>\n",
       "      <th>USER_ID</th>\n",
       "      <th>ORDER_ID</th>\n",
       "      <th>PURCHASE_TS</th>\n",
       "      <th>SHIP_TS</th>\n",
       "      <th>PRODUCT_NAME</th>\n",
       "      <th>PRODUCT_ID</th>\n",
       "      <th>USD_PRICE</th>\n",
       "      <th>PURCHASE_PLATFORM</th>\n",
       "      <th>MARKETING_CHANNEL</th>\n",
       "      <th>ACCOUNT_CREATION_METHOD</th>\n",
       "      <th>COUNTRY_CODE</th>\n",
       "    </tr>\n",
       "  </thead>\n",
       "  <tbody>\n",
       "    <tr>\n",
       "      <th>9379</th>\n",
       "      <td>b66cdb8d</td>\n",
       "      <td>7a5f67e18fa77291</td>\n",
       "      <td>2020-01-27 00:00:00</td>\n",
       "      <td>2020-01-28</td>\n",
       "      <td>27in 4K gaming monitor</td>\n",
       "      <td>e7e6</td>\n",
       "      <td>480.00</td>\n",
       "      <td>website</td>\n",
       "      <td>direct</td>\n",
       "      <td>desktop</td>\n",
       "      <td>US</td>\n",
       "    </tr>\n",
       "    <tr>\n",
       "      <th>9564</th>\n",
       "      <td>6270d6f9</td>\n",
       "      <td>7d09de332e342684</td>\n",
       "      <td>2020-01-27 00:00:00</td>\n",
       "      <td>2020-01-30</td>\n",
       "      <td>27in 4K gaming monitor</td>\n",
       "      <td>891b</td>\n",
       "      <td>332.20</td>\n",
       "      <td>website</td>\n",
       "      <td>direct</td>\n",
       "      <td>desktop</td>\n",
       "      <td>BR</td>\n",
       "    </tr>\n",
       "    <tr>\n",
       "      <th>9922</th>\n",
       "      <td>e80b93ad</td>\n",
       "      <td>815caec5eb998020</td>\n",
       "      <td>2020-01-30 00:00:00</td>\n",
       "      <td>2020-01-31</td>\n",
       "      <td>27in 4K gaming monitor</td>\n",
       "      <td>891b</td>\n",
       "      <td>408.20</td>\n",
       "      <td>website</td>\n",
       "      <td>email</td>\n",
       "      <td>desktop</td>\n",
       "      <td>DE</td>\n",
       "    </tr>\n",
       "    <tr>\n",
       "      <th>10052</th>\n",
       "      <td>3838f9e6</td>\n",
       "      <td>833086c869925765</td>\n",
       "      <td>2020-01-24 00:00:00</td>\n",
       "      <td>2020-01-25</td>\n",
       "      <td>27in 4K gaming monitor</td>\n",
       "      <td>891b</td>\n",
       "      <td>317.14</td>\n",
       "      <td>website</td>\n",
       "      <td>direct</td>\n",
       "      <td>desktop</td>\n",
       "      <td>JP</td>\n",
       "    </tr>\n",
       "    <tr>\n",
       "      <th>10142</th>\n",
       "      <td>fd7dd923</td>\n",
       "      <td>844a97334cd107082</td>\n",
       "      <td>2020-01-22 00:00:00</td>\n",
       "      <td>2020-01-25</td>\n",
       "      <td>27in 4K gaming monitor</td>\n",
       "      <td>891b</td>\n",
       "      <td>480.00</td>\n",
       "      <td>website</td>\n",
       "      <td>direct</td>\n",
       "      <td>desktop</td>\n",
       "      <td>US</td>\n",
       "    </tr>\n",
       "  </tbody>\n",
       "</table>\n",
       "</div>"
      ],
      "text/plain": [
       "        USER_ID           ORDER_ID          PURCHASE_TS    SHIP_TS  \\\n",
       "9379   b66cdb8d   7a5f67e18fa77291  2020-01-27 00:00:00 2020-01-28   \n",
       "9564   6270d6f9   7d09de332e342684  2020-01-27 00:00:00 2020-01-30   \n",
       "9922   e80b93ad   815caec5eb998020  2020-01-30 00:00:00 2020-01-31   \n",
       "10052  3838f9e6   833086c869925765  2020-01-24 00:00:00 2020-01-25   \n",
       "10142  fd7dd923  844a97334cd107082  2020-01-22 00:00:00 2020-01-25   \n",
       "\n",
       "                 PRODUCT_NAME PRODUCT_ID  USD_PRICE PURCHASE_PLATFORM  \\\n",
       "9379   27in 4K gaming monitor       e7e6     480.00           website   \n",
       "9564   27in 4K gaming monitor       891b     332.20           website   \n",
       "9922   27in 4K gaming monitor       891b     408.20           website   \n",
       "10052  27in 4K gaming monitor       891b     317.14           website   \n",
       "10142  27in 4K gaming monitor       891b     480.00           website   \n",
       "\n",
       "      MARKETING_CHANNEL ACCOUNT_CREATION_METHOD COUNTRY_CODE  \n",
       "9379             direct                 desktop           US  \n",
       "9564             direct                 desktop           BR  \n",
       "9922              email                 desktop           DE  \n",
       "10052            direct                 desktop           JP  \n",
       "10142            direct                 desktop           US  "
      ]
     },
     "execution_count": 10,
     "metadata": {},
     "output_type": "execute_result"
    }
   ],
   "source": [
    "df[df['ORDER_ID'].duplicated() == True].head()"
   ]
  },
  {
   "cell_type": "markdown",
   "id": "38145353",
   "metadata": {},
   "source": [
    "Let's check the first duplicate."
   ]
  },
  {
   "cell_type": "code",
   "execution_count": 11,
   "id": "e59a0da8",
   "metadata": {},
   "outputs": [
    {
     "data": {
      "application/vnd.microsoft.datawrangler.viewer.v0+json": {
       "columns": [
        {
         "name": "index",
         "rawType": "int64",
         "type": "integer"
        },
        {
         "name": "USER_ID",
         "rawType": "object",
         "type": "string"
        },
        {
         "name": "ORDER_ID",
         "rawType": "object",
         "type": "string"
        },
        {
         "name": "PURCHASE_TS",
         "rawType": "object",
         "type": "unknown"
        },
        {
         "name": "SHIP_TS",
         "rawType": "datetime64[ns]",
         "type": "datetime"
        },
        {
         "name": "PRODUCT_NAME",
         "rawType": "object",
         "type": "string"
        },
        {
         "name": "PRODUCT_ID",
         "rawType": "object",
         "type": "string"
        },
        {
         "name": "USD_PRICE",
         "rawType": "float64",
         "type": "float"
        },
        {
         "name": "PURCHASE_PLATFORM",
         "rawType": "object",
         "type": "string"
        },
        {
         "name": "MARKETING_CHANNEL",
         "rawType": "object",
         "type": "string"
        },
        {
         "name": "ACCOUNT_CREATION_METHOD",
         "rawType": "object",
         "type": "string"
        },
        {
         "name": "COUNTRY_CODE",
         "rawType": "object",
         "type": "string"
        }
       ],
       "ref": "f89e44d6-f03f-4c42-bfb1-0e71828a7ad6",
       "rows": [
        [
         "9378",
         "b66cdb8d",
         "7a5f67e18fa77291",
         "2020-01-27 00:00:00",
         "2020-01-28 00:00:00",
         "27in 4K gaming monitor",
         "e7e6",
         "480.0",
         "website",
         "direct",
         "desktop",
         "US"
        ],
        [
         "9379",
         "b66cdb8d",
         "7a5f67e18fa77291",
         "2020-01-27 00:00:00",
         "2020-01-28 00:00:00",
         "27in 4K gaming monitor",
         "e7e6",
         "480.0",
         "website",
         "direct",
         "desktop",
         "US"
        ]
       ],
       "shape": {
        "columns": 11,
        "rows": 2
       }
      },
      "text/html": [
       "<div>\n",
       "<style scoped>\n",
       "    .dataframe tbody tr th:only-of-type {\n",
       "        vertical-align: middle;\n",
       "    }\n",
       "\n",
       "    .dataframe tbody tr th {\n",
       "        vertical-align: top;\n",
       "    }\n",
       "\n",
       "    .dataframe thead th {\n",
       "        text-align: right;\n",
       "    }\n",
       "</style>\n",
       "<table border=\"1\" class=\"dataframe\">\n",
       "  <thead>\n",
       "    <tr style=\"text-align: right;\">\n",
       "      <th></th>\n",
       "      <th>USER_ID</th>\n",
       "      <th>ORDER_ID</th>\n",
       "      <th>PURCHASE_TS</th>\n",
       "      <th>SHIP_TS</th>\n",
       "      <th>PRODUCT_NAME</th>\n",
       "      <th>PRODUCT_ID</th>\n",
       "      <th>USD_PRICE</th>\n",
       "      <th>PURCHASE_PLATFORM</th>\n",
       "      <th>MARKETING_CHANNEL</th>\n",
       "      <th>ACCOUNT_CREATION_METHOD</th>\n",
       "      <th>COUNTRY_CODE</th>\n",
       "    </tr>\n",
       "  </thead>\n",
       "  <tbody>\n",
       "    <tr>\n",
       "      <th>9378</th>\n",
       "      <td>b66cdb8d</td>\n",
       "      <td>7a5f67e18fa77291</td>\n",
       "      <td>2020-01-27 00:00:00</td>\n",
       "      <td>2020-01-28</td>\n",
       "      <td>27in 4K gaming monitor</td>\n",
       "      <td>e7e6</td>\n",
       "      <td>480.0</td>\n",
       "      <td>website</td>\n",
       "      <td>direct</td>\n",
       "      <td>desktop</td>\n",
       "      <td>US</td>\n",
       "    </tr>\n",
       "    <tr>\n",
       "      <th>9379</th>\n",
       "      <td>b66cdb8d</td>\n",
       "      <td>7a5f67e18fa77291</td>\n",
       "      <td>2020-01-27 00:00:00</td>\n",
       "      <td>2020-01-28</td>\n",
       "      <td>27in 4K gaming monitor</td>\n",
       "      <td>e7e6</td>\n",
       "      <td>480.0</td>\n",
       "      <td>website</td>\n",
       "      <td>direct</td>\n",
       "      <td>desktop</td>\n",
       "      <td>US</td>\n",
       "    </tr>\n",
       "  </tbody>\n",
       "</table>\n",
       "</div>"
      ],
      "text/plain": [
       "       USER_ID          ORDER_ID          PURCHASE_TS    SHIP_TS  \\\n",
       "9378  b66cdb8d  7a5f67e18fa77291  2020-01-27 00:00:00 2020-01-28   \n",
       "9379  b66cdb8d  7a5f67e18fa77291  2020-01-27 00:00:00 2020-01-28   \n",
       "\n",
       "                PRODUCT_NAME PRODUCT_ID  USD_PRICE PURCHASE_PLATFORM  \\\n",
       "9378  27in 4K gaming monitor       e7e6      480.0           website   \n",
       "9379  27in 4K gaming monitor       e7e6      480.0           website   \n",
       "\n",
       "     MARKETING_CHANNEL ACCOUNT_CREATION_METHOD COUNTRY_CODE  \n",
       "9378            direct                 desktop           US  \n",
       "9379            direct                 desktop           US  "
      ]
     },
     "execution_count": 11,
     "metadata": {},
     "output_type": "execute_result"
    }
   ],
   "source": [
    "df[df['ORDER_ID'] == '7a5f67e18fa77291']"
   ]
  },
  {
   "cell_type": "markdown",
   "id": "2fd2d8be",
   "metadata": {},
   "source": [
    "Yes these are exact copies of each other.\n",
    "\n",
    "I'm removing this duplicates right now."
   ]
  },
  {
   "cell_type": "code",
   "execution_count": 12,
   "id": "30dd2f13",
   "metadata": {},
   "outputs": [],
   "source": [
    "df.drop_duplicates(subset='ORDER_ID', keep='first', inplace=True)"
   ]
  },
  {
   "cell_type": "code",
   "execution_count": 13,
   "id": "168b0917",
   "metadata": {},
   "outputs": [
    {
     "data": {
      "text/plain": [
       "(21719, 11)"
      ]
     },
     "execution_count": 13,
     "metadata": {},
     "output_type": "execute_result"
    }
   ],
   "source": [
    "df.shape"
   ]
  },
  {
   "cell_type": "markdown",
   "id": "5687067a",
   "metadata": {},
   "source": [
    "### `PURCHASE_TS`:"
   ]
  },
  {
   "cell_type": "code",
   "execution_count": 14,
   "id": "21e9f2cc",
   "metadata": {},
   "outputs": [
    {
     "data": {
      "text/plain": [
       "np.int64(0)"
      ]
     },
     "execution_count": 14,
     "metadata": {},
     "output_type": "execute_result"
    }
   ],
   "source": [
    "df['PURCHASE_TS'].isna().sum()"
   ]
  },
  {
   "cell_type": "code",
   "execution_count": 15,
   "id": "f3708475",
   "metadata": {},
   "outputs": [],
   "source": [
    "# converting it to datetime\n",
    "df['PURCHASE_TS'] = pd.to_datetime(df['PURCHASE_TS'], errors='coerce')"
   ]
  },
  {
   "cell_type": "code",
   "execution_count": 16,
   "id": "23e52d74",
   "metadata": {},
   "outputs": [
    {
     "data": {
      "text/plain": [
       "np.int64(5)"
      ]
     },
     "execution_count": 16,
     "metadata": {},
     "output_type": "execute_result"
    }
   ],
   "source": [
    "df['PURCHASE_TS'].isna().sum()"
   ]
  },
  {
   "cell_type": "markdown",
   "id": "1f7bdec9",
   "metadata": {},
   "source": [
    "We have 5 missings. Let's check them."
   ]
  },
  {
   "cell_type": "code",
   "execution_count": 17,
   "id": "de83113d",
   "metadata": {},
   "outputs": [
    {
     "data": {
      "application/vnd.microsoft.datawrangler.viewer.v0+json": {
       "columns": [
        {
         "name": "index",
         "rawType": "int64",
         "type": "integer"
        },
        {
         "name": "USER_ID",
         "rawType": "object",
         "type": "string"
        },
        {
         "name": "ORDER_ID",
         "rawType": "object",
         "type": "string"
        },
        {
         "name": "PURCHASE_TS",
         "rawType": "datetime64[ns]",
         "type": "datetime"
        },
        {
         "name": "SHIP_TS",
         "rawType": "datetime64[ns]",
         "type": "datetime"
        },
        {
         "name": "PRODUCT_NAME",
         "rawType": "object",
         "type": "string"
        },
        {
         "name": "PRODUCT_ID",
         "rawType": "object",
         "type": "string"
        },
        {
         "name": "USD_PRICE",
         "rawType": "float64",
         "type": "float"
        },
        {
         "name": "PURCHASE_PLATFORM",
         "rawType": "object",
         "type": "string"
        },
        {
         "name": "MARKETING_CHANNEL",
         "rawType": "object",
         "type": "string"
        },
        {
         "name": "ACCOUNT_CREATION_METHOD",
         "rawType": "object",
         "type": "string"
        },
        {
         "name": "COUNTRY_CODE",
         "rawType": "object",
         "type": "string"
        }
       ],
       "ref": "094be44b-95ca-4e1d-a09a-0348d04d8ed0",
       "rows": [
        [
         "1047",
         "a5298a4d",
         "0dda212aaea69940",
         null,
         "2019-07-08 00:00:00",
         "JBL Quantum 100 Gaming Headset",
         "ab0f",
         "21.96",
         "website",
         "direct",
         "desktop",
         "FR"
        ],
        [
         "5846",
         "a81bb521",
         "4cd9ab100d971208",
         null,
         "2021-01-11 00:00:00",
         "Nintendo Switch",
         "8d0d",
         "120.26",
         "website",
         "direct",
         "desktop",
         "IE"
        ],
        [
         "11853",
         "2fa9f33d",
         "99d824517da22388",
         null,
         "2019-04-11 00:00:00",
         "JBL Quantum 100 Gaming Headset",
         "ab0f",
         "21.19",
         "website",
         "direct",
         "mobile",
         "JP"
        ],
        [
         "16163",
         "b313cea5",
         "c9e0aea0d9a75871",
         null,
         "2019-05-18 00:00:00",
         "JBL Quantum 100 Gaming Headset",
         "ab0f",
         "19.2",
         "website",
         "direct",
         "desktop",
         "US"
        ],
        [
         "20725",
         "67f8050b",
         "f4de38506b644875",
         null,
         "2019-01-17 00:00:00",
         "JBL Quantum 100 Gaming Headset",
         "ab0f",
         "25.69",
         "website",
         "direct",
         "desktop",
         "GB"
        ]
       ],
       "shape": {
        "columns": 11,
        "rows": 5
       }
      },
      "text/html": [
       "<div>\n",
       "<style scoped>\n",
       "    .dataframe tbody tr th:only-of-type {\n",
       "        vertical-align: middle;\n",
       "    }\n",
       "\n",
       "    .dataframe tbody tr th {\n",
       "        vertical-align: top;\n",
       "    }\n",
       "\n",
       "    .dataframe thead th {\n",
       "        text-align: right;\n",
       "    }\n",
       "</style>\n",
       "<table border=\"1\" class=\"dataframe\">\n",
       "  <thead>\n",
       "    <tr style=\"text-align: right;\">\n",
       "      <th></th>\n",
       "      <th>USER_ID</th>\n",
       "      <th>ORDER_ID</th>\n",
       "      <th>PURCHASE_TS</th>\n",
       "      <th>SHIP_TS</th>\n",
       "      <th>PRODUCT_NAME</th>\n",
       "      <th>PRODUCT_ID</th>\n",
       "      <th>USD_PRICE</th>\n",
       "      <th>PURCHASE_PLATFORM</th>\n",
       "      <th>MARKETING_CHANNEL</th>\n",
       "      <th>ACCOUNT_CREATION_METHOD</th>\n",
       "      <th>COUNTRY_CODE</th>\n",
       "    </tr>\n",
       "  </thead>\n",
       "  <tbody>\n",
       "    <tr>\n",
       "      <th>1047</th>\n",
       "      <td>a5298a4d</td>\n",
       "      <td>0dda212aaea69940</td>\n",
       "      <td>NaT</td>\n",
       "      <td>2019-07-08</td>\n",
       "      <td>JBL Quantum 100 Gaming Headset</td>\n",
       "      <td>ab0f</td>\n",
       "      <td>21.96</td>\n",
       "      <td>website</td>\n",
       "      <td>direct</td>\n",
       "      <td>desktop</td>\n",
       "      <td>FR</td>\n",
       "    </tr>\n",
       "    <tr>\n",
       "      <th>5846</th>\n",
       "      <td>a81bb521</td>\n",
       "      <td>4cd9ab100d971208</td>\n",
       "      <td>NaT</td>\n",
       "      <td>2021-01-11</td>\n",
       "      <td>Nintendo Switch</td>\n",
       "      <td>8d0d</td>\n",
       "      <td>120.26</td>\n",
       "      <td>website</td>\n",
       "      <td>direct</td>\n",
       "      <td>desktop</td>\n",
       "      <td>IE</td>\n",
       "    </tr>\n",
       "    <tr>\n",
       "      <th>11853</th>\n",
       "      <td>2fa9f33d</td>\n",
       "      <td>99d824517da22388</td>\n",
       "      <td>NaT</td>\n",
       "      <td>2019-04-11</td>\n",
       "      <td>JBL Quantum 100 Gaming Headset</td>\n",
       "      <td>ab0f</td>\n",
       "      <td>21.19</td>\n",
       "      <td>website</td>\n",
       "      <td>direct</td>\n",
       "      <td>mobile</td>\n",
       "      <td>JP</td>\n",
       "    </tr>\n",
       "    <tr>\n",
       "      <th>16163</th>\n",
       "      <td>b313cea5</td>\n",
       "      <td>c9e0aea0d9a75871</td>\n",
       "      <td>NaT</td>\n",
       "      <td>2019-05-18</td>\n",
       "      <td>JBL Quantum 100 Gaming Headset</td>\n",
       "      <td>ab0f</td>\n",
       "      <td>19.20</td>\n",
       "      <td>website</td>\n",
       "      <td>direct</td>\n",
       "      <td>desktop</td>\n",
       "      <td>US</td>\n",
       "    </tr>\n",
       "    <tr>\n",
       "      <th>20725</th>\n",
       "      <td>67f8050b</td>\n",
       "      <td>f4de38506b644875</td>\n",
       "      <td>NaT</td>\n",
       "      <td>2019-01-17</td>\n",
       "      <td>JBL Quantum 100 Gaming Headset</td>\n",
       "      <td>ab0f</td>\n",
       "      <td>25.69</td>\n",
       "      <td>website</td>\n",
       "      <td>direct</td>\n",
       "      <td>desktop</td>\n",
       "      <td>GB</td>\n",
       "    </tr>\n",
       "  </tbody>\n",
       "</table>\n",
       "</div>"
      ],
      "text/plain": [
       "        USER_ID          ORDER_ID PURCHASE_TS    SHIP_TS  \\\n",
       "1047   a5298a4d  0dda212aaea69940         NaT 2019-07-08   \n",
       "5846   a81bb521  4cd9ab100d971208         NaT 2021-01-11   \n",
       "11853  2fa9f33d  99d824517da22388         NaT 2019-04-11   \n",
       "16163  b313cea5  c9e0aea0d9a75871         NaT 2019-05-18   \n",
       "20725  67f8050b  f4de38506b644875         NaT 2019-01-17   \n",
       "\n",
       "                         PRODUCT_NAME PRODUCT_ID  USD_PRICE PURCHASE_PLATFORM  \\\n",
       "1047   JBL Quantum 100 Gaming Headset       ab0f      21.96           website   \n",
       "5846                  Nintendo Switch       8d0d     120.26           website   \n",
       "11853  JBL Quantum 100 Gaming Headset       ab0f      21.19           website   \n",
       "16163  JBL Quantum 100 Gaming Headset       ab0f      19.20           website   \n",
       "20725  JBL Quantum 100 Gaming Headset       ab0f      25.69           website   \n",
       "\n",
       "      MARKETING_CHANNEL ACCOUNT_CREATION_METHOD COUNTRY_CODE  \n",
       "1047             direct                 desktop           FR  \n",
       "5846             direct                 desktop           IE  \n",
       "11853            direct                  mobile           JP  \n",
       "16163            direct                 desktop           US  \n",
       "20725            direct                 desktop           GB  "
      ]
     },
     "execution_count": 17,
     "metadata": {},
     "output_type": "execute_result"
    }
   ],
   "source": [
    "df[df.PURCHASE_TS.isna()]"
   ]
  },
  {
   "cell_type": "code",
   "execution_count": 18,
   "id": "60b79a49",
   "metadata": {},
   "outputs": [
    {
     "name": "stdout",
     "output_type": "stream",
     "text": [
      "Start date:  2019-01-01 00:00:00\n",
      "End date:  2021-02-28 00:00:00\n"
     ]
    }
   ],
   "source": [
    "print(\"Start date: \", df['PURCHASE_TS'].min())\n",
    "print(\"End date: \", df['PURCHASE_TS'].max())"
   ]
  },
  {
   "cell_type": "markdown",
   "id": "9fbfc729",
   "metadata": {},
   "source": [
    "### `SHIP_TS`"
   ]
  },
  {
   "cell_type": "code",
   "execution_count": 19,
   "id": "23a90c8f",
   "metadata": {},
   "outputs": [
    {
     "data": {
      "text/plain": [
       "np.int64(0)"
      ]
     },
     "execution_count": 19,
     "metadata": {},
     "output_type": "execute_result"
    }
   ],
   "source": [
    "df['SHIP_TS'].isna().sum()"
   ]
  },
  {
   "cell_type": "code",
   "execution_count": null,
   "id": "f33e2a0a",
   "metadata": {},
   "outputs": [],
   "source": []
  },
  {
   "cell_type": "code",
   "execution_count": null,
   "id": "80923600",
   "metadata": {},
   "outputs": [],
   "source": []
  }
 ],
 "metadata": {
  "kernelspec": {
   "display_name": ".venv",
   "language": "python",
   "name": "python3"
  },
  "language_info": {
   "codemirror_mode": {
    "name": "ipython",
    "version": 3
   },
   "file_extension": ".py",
   "mimetype": "text/x-python",
   "name": "python",
   "nbconvert_exporter": "python",
   "pygments_lexer": "ipython3",
   "version": "3.12.7"
  }
 },
 "nbformat": 4,
 "nbformat_minor": 5
}
